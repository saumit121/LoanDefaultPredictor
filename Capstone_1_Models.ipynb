{
 "cells": [
  {
   "cell_type": "markdown",
   "metadata": {},
   "source": [
    "# Machine Learning Models"
   ]
  },
  {
   "cell_type": "code",
   "execution_count": 1,
   "metadata": {},
   "outputs": [],
   "source": [
    "#Import packages and set formatting options\n",
    "\n",
    "import numpy as np\n",
    "import pandas as pd\n",
    "import matplotlib.pyplot as plt\n",
    "import seaborn as sns\n",
    "\n",
    "pd.set_option('display.max_rows', 500)\n",
    "pd.set_option('display.max_columns', 500)\n",
    "pd.set_option('display.width', 1000)"
   ]
  },
  {
   "cell_type": "markdown",
   "metadata": {},
   "source": [
    "### Read CSV File"
   ]
  },
  {
   "cell_type": "code",
   "execution_count": 2,
   "metadata": {},
   "outputs": [
    {
     "data": {
      "text/html": [
       "<div>\n",
       "<style scoped>\n",
       "    .dataframe tbody tr th:only-of-type {\n",
       "        vertical-align: middle;\n",
       "    }\n",
       "\n",
       "    .dataframe tbody tr th {\n",
       "        vertical-align: top;\n",
       "    }\n",
       "\n",
       "    .dataframe thead th {\n",
       "        text-align: right;\n",
       "    }\n",
       "</style>\n",
       "<table border=\"1\" class=\"dataframe\">\n",
       "  <thead>\n",
       "    <tr style=\"text-align: right;\">\n",
       "      <th></th>\n",
       "      <th>AMT_INCOME_TOTAL</th>\n",
       "      <th>APARTMENTS_MODE</th>\n",
       "      <th>BASEMENTAREA_AVG</th>\n",
       "      <th>ENTRANCES_AVG</th>\n",
       "      <th>EXT_SOURCE_1</th>\n",
       "      <th>EXT_SOURCE_2</th>\n",
       "      <th>EXT_SOURCE_3</th>\n",
       "      <th>FLOORSMAX_MODE</th>\n",
       "      <th>LANDAREA_AVG</th>\n",
       "      <th>LIVE_CITY_NOT_WORK_CITY</th>\n",
       "      <th>NAME_EDUCATION_TYPE</th>\n",
       "      <th>NONLIVINGAREA_MODE</th>\n",
       "      <th>OCCUPATION_TYPE</th>\n",
       "      <th>REGION_POPULATION_RELATIVE</th>\n",
       "      <th>REGION_RATING_CLIENT</th>\n",
       "      <th>REG_CITY_NOT_LIVE_CITY</th>\n",
       "      <th>TOTALAREA_MODE</th>\n",
       "      <th>YEARS_BEGINEXPLUATATION_MODE</th>\n",
       "      <th>YEARS_BIRTH</th>\n",
       "      <th>YEARS_BUILD_MODE</th>\n",
       "      <th>YEARS_EMPLOYED</th>\n",
       "      <th>YEARS_LAST_PHONE_CHANGE</th>\n",
       "      <th>TARGET</th>\n",
       "    </tr>\n",
       "  </thead>\n",
       "  <tbody>\n",
       "    <tr>\n",
       "      <th>0</th>\n",
       "      <td>270000.0</td>\n",
       "      <td>0.0924</td>\n",
       "      <td>0.0529</td>\n",
       "      <td>0.0345</td>\n",
       "      <td>0.311267</td>\n",
       "      <td>0.622246</td>\n",
       "      <td>0.481121</td>\n",
       "      <td>0.2917</td>\n",
       "      <td>0.0130</td>\n",
       "      <td>0</td>\n",
       "      <td>Higher education</td>\n",
       "      <td>0.0000</td>\n",
       "      <td>Core staff</td>\n",
       "      <td>0.003541</td>\n",
       "      <td>1</td>\n",
       "      <td>0</td>\n",
       "      <td>0.0714</td>\n",
       "      <td>0.9851</td>\n",
       "      <td>45.931507</td>\n",
       "      <td>0.8040</td>\n",
       "      <td>3.254795</td>\n",
       "      <td>2.268493</td>\n",
       "      <td>0</td>\n",
       "    </tr>\n",
       "    <tr>\n",
       "      <th>1</th>\n",
       "      <td>225000.0</td>\n",
       "      <td>0.1502</td>\n",
       "      <td>0.0973</td>\n",
       "      <td>0.1379</td>\n",
       "      <td>0.478860</td>\n",
       "      <td>0.566907</td>\n",
       "      <td>0.770087</td>\n",
       "      <td>0.3333</td>\n",
       "      <td>0.0931</td>\n",
       "      <td>0</td>\n",
       "      <td>Secondary / secondary special</td>\n",
       "      <td>0.0000</td>\n",
       "      <td>Drivers</td>\n",
       "      <td>0.016612</td>\n",
       "      <td>2</td>\n",
       "      <td>0</td>\n",
       "      <td>0.1417</td>\n",
       "      <td>0.9806</td>\n",
       "      <td>38.591781</td>\n",
       "      <td>0.7452</td>\n",
       "      <td>8.295890</td>\n",
       "      <td>0.010959</td>\n",
       "      <td>0</td>\n",
       "    </tr>\n",
       "    <tr>\n",
       "      <th>2</th>\n",
       "      <td>189000.0</td>\n",
       "      <td>0.3561</td>\n",
       "      <td>0.1335</td>\n",
       "      <td>0.1724</td>\n",
       "      <td>0.721940</td>\n",
       "      <td>0.642656</td>\n",
       "      <td>0.481121</td>\n",
       "      <td>0.6667</td>\n",
       "      <td>0.1758</td>\n",
       "      <td>0</td>\n",
       "      <td>Secondary / secondary special</td>\n",
       "      <td>0.1060</td>\n",
       "      <td>Laborers</td>\n",
       "      <td>0.010006</td>\n",
       "      <td>2</td>\n",
       "      <td>0</td>\n",
       "      <td>0.3811</td>\n",
       "      <td>0.9985</td>\n",
       "      <td>39.953425</td>\n",
       "      <td>0.9804</td>\n",
       "      <td>0.556164</td>\n",
       "      <td>0.515068</td>\n",
       "      <td>0</td>\n",
       "    </tr>\n",
       "    <tr>\n",
       "      <th>3</th>\n",
       "      <td>112500.0</td>\n",
       "      <td>0.0284</td>\n",
       "      <td>0.0617</td>\n",
       "      <td>0.1034</td>\n",
       "      <td>0.478860</td>\n",
       "      <td>0.706428</td>\n",
       "      <td>0.556727</td>\n",
       "      <td>0.0833</td>\n",
       "      <td>0.0279</td>\n",
       "      <td>0</td>\n",
       "      <td>Secondary / secondary special</td>\n",
       "      <td>0.0000</td>\n",
       "      <td>Laborers</td>\n",
       "      <td>0.046220</td>\n",
       "      <td>1</td>\n",
       "      <td>0</td>\n",
       "      <td>0.0238</td>\n",
       "      <td>0.9881</td>\n",
       "      <td>48.542466</td>\n",
       "      <td>0.8432</td>\n",
       "      <td>21.380822</td>\n",
       "      <td>0.654795</td>\n",
       "      <td>0</td>\n",
       "    </tr>\n",
       "    <tr>\n",
       "      <th>4</th>\n",
       "      <td>135000.0</td>\n",
       "      <td>0.1460</td>\n",
       "      <td>0.1455</td>\n",
       "      <td>0.3103</td>\n",
       "      <td>0.478860</td>\n",
       "      <td>0.786179</td>\n",
       "      <td>0.565608</td>\n",
       "      <td>0.1667</td>\n",
       "      <td>0.0861</td>\n",
       "      <td>1</td>\n",
       "      <td>Secondary / secondary special</td>\n",
       "      <td>0.0045</td>\n",
       "      <td>Drivers</td>\n",
       "      <td>0.026392</td>\n",
       "      <td>2</td>\n",
       "      <td>0</td>\n",
       "      <td>0.0967</td>\n",
       "      <td>0.9861</td>\n",
       "      <td>30.920548</td>\n",
       "      <td>0.8171</td>\n",
       "      <td>2.043836</td>\n",
       "      <td>0.010959</td>\n",
       "      <td>0</td>\n",
       "    </tr>\n",
       "  </tbody>\n",
       "</table>\n",
       "</div>"
      ],
      "text/plain": [
       "   AMT_INCOME_TOTAL  APARTMENTS_MODE  BASEMENTAREA_AVG  ENTRANCES_AVG  EXT_SOURCE_1  EXT_SOURCE_2  EXT_SOURCE_3  FLOORSMAX_MODE  LANDAREA_AVG  LIVE_CITY_NOT_WORK_CITY            NAME_EDUCATION_TYPE  NONLIVINGAREA_MODE OCCUPATION_TYPE  REGION_POPULATION_RELATIVE  REGION_RATING_CLIENT  REG_CITY_NOT_LIVE_CITY  TOTALAREA_MODE  YEARS_BEGINEXPLUATATION_MODE  YEARS_BIRTH  YEARS_BUILD_MODE  YEARS_EMPLOYED  YEARS_LAST_PHONE_CHANGE  TARGET\n",
       "0          270000.0           0.0924            0.0529         0.0345      0.311267      0.622246      0.481121          0.2917        0.0130                        0               Higher education              0.0000      Core staff                    0.003541                     1                       0          0.0714                        0.9851    45.931507            0.8040        3.254795                 2.268493       0\n",
       "1          225000.0           0.1502            0.0973         0.1379      0.478860      0.566907      0.770087          0.3333        0.0931                        0  Secondary / secondary special              0.0000         Drivers                    0.016612                     2                       0          0.1417                        0.9806    38.591781            0.7452        8.295890                 0.010959       0\n",
       "2          189000.0           0.3561            0.1335         0.1724      0.721940      0.642656      0.481121          0.6667        0.1758                        0  Secondary / secondary special              0.1060        Laborers                    0.010006                     2                       0          0.3811                        0.9985    39.953425            0.9804        0.556164                 0.515068       0\n",
       "3          112500.0           0.0284            0.0617         0.1034      0.478860      0.706428      0.556727          0.0833        0.0279                        0  Secondary / secondary special              0.0000        Laborers                    0.046220                     1                       0          0.0238                        0.9881    48.542466            0.8432       21.380822                 0.654795       0\n",
       "4          135000.0           0.1460            0.1455         0.3103      0.478860      0.786179      0.565608          0.1667        0.0861                        1  Secondary / secondary special              0.0045         Drivers                    0.026392                     2                       0          0.0967                        0.9861    30.920548            0.8171        2.043836                 0.010959       0"
      ]
     },
     "execution_count": 2,
     "metadata": {},
     "output_type": "execute_result"
    }
   ],
   "source": [
    "df = pd.read_csv('feature_selected_train.csv')\n",
    "df.head()"
   ]
  },
  {
   "cell_type": "code",
   "execution_count": 3,
   "metadata": {},
   "outputs": [
    {
     "data": {
      "text/plain": [
       "(80603, 23)"
      ]
     },
     "execution_count": 3,
     "metadata": {},
     "output_type": "execute_result"
    }
   ],
   "source": [
    "df.shape"
   ]
  },
  {
   "cell_type": "markdown",
   "metadata": {},
   "source": [
    "### Categorical Variable Encoding\n",
    "After examining the cleaned and reduced training set, there are still two categorical variables that will need to be encoded before applying any machine learning models. Let's examine those first."
   ]
  },
  {
   "cell_type": "code",
   "execution_count": 4,
   "metadata": {},
   "outputs": [
    {
     "data": {
      "text/plain": [
       "Secondary / secondary special    54306\n",
       "Higher education                 22086\n",
       "Incomplete higher                 3530\n",
       "Lower secondary                    633\n",
       "Academic degree                     48\n",
       "Name: NAME_EDUCATION_TYPE, dtype: int64"
      ]
     },
     "execution_count": 4,
     "metadata": {},
     "output_type": "execute_result"
    }
   ],
   "source": [
    "df['NAME_EDUCATION_TYPE'].value_counts()"
   ]
  },
  {
   "cell_type": "markdown",
   "metadata": {},
   "source": [
    "Since there is a clear ordinal value to the categories - Education levels have a clear hierarchy from Lower secondary to Secondary/ secondary special, we can use label encoding to convert text values into numerical values."
   ]
  },
  {
   "cell_type": "code",
   "execution_count": 5,
   "metadata": {},
   "outputs": [],
   "source": [
    "from sklearn.preprocessing import LabelEncoder\n",
    "le = LabelEncoder()"
   ]
  },
  {
   "cell_type": "code",
   "execution_count": 6,
   "metadata": {},
   "outputs": [],
   "source": [
    "#Can also use replace to set numerical values for each education type\n",
    "#Can also use one hot encoding\n",
    "\n",
    "df['NAME_EDUCATION_TYPE'] = le.fit_transform(df['NAME_EDUCATION_TYPE'])"
   ]
  },
  {
   "cell_type": "code",
   "execution_count": 7,
   "metadata": {},
   "outputs": [
    {
     "data": {
      "text/html": [
       "<div>\n",
       "<style scoped>\n",
       "    .dataframe tbody tr th:only-of-type {\n",
       "        vertical-align: middle;\n",
       "    }\n",
       "\n",
       "    .dataframe tbody tr th {\n",
       "        vertical-align: top;\n",
       "    }\n",
       "\n",
       "    .dataframe thead th {\n",
       "        text-align: right;\n",
       "    }\n",
       "</style>\n",
       "<table border=\"1\" class=\"dataframe\">\n",
       "  <thead>\n",
       "    <tr style=\"text-align: right;\">\n",
       "      <th></th>\n",
       "      <th>AMT_INCOME_TOTAL</th>\n",
       "      <th>APARTMENTS_MODE</th>\n",
       "      <th>BASEMENTAREA_AVG</th>\n",
       "      <th>ENTRANCES_AVG</th>\n",
       "      <th>EXT_SOURCE_1</th>\n",
       "      <th>EXT_SOURCE_2</th>\n",
       "      <th>EXT_SOURCE_3</th>\n",
       "      <th>FLOORSMAX_MODE</th>\n",
       "      <th>LANDAREA_AVG</th>\n",
       "      <th>LIVE_CITY_NOT_WORK_CITY</th>\n",
       "      <th>NAME_EDUCATION_TYPE</th>\n",
       "      <th>NONLIVINGAREA_MODE</th>\n",
       "      <th>OCCUPATION_TYPE</th>\n",
       "      <th>REGION_POPULATION_RELATIVE</th>\n",
       "      <th>REGION_RATING_CLIENT</th>\n",
       "      <th>REG_CITY_NOT_LIVE_CITY</th>\n",
       "      <th>TOTALAREA_MODE</th>\n",
       "      <th>YEARS_BEGINEXPLUATATION_MODE</th>\n",
       "      <th>YEARS_BIRTH</th>\n",
       "      <th>YEARS_BUILD_MODE</th>\n",
       "      <th>YEARS_EMPLOYED</th>\n",
       "      <th>YEARS_LAST_PHONE_CHANGE</th>\n",
       "      <th>TARGET</th>\n",
       "    </tr>\n",
       "  </thead>\n",
       "  <tbody>\n",
       "    <tr>\n",
       "      <th>0</th>\n",
       "      <td>270000.0</td>\n",
       "      <td>0.0924</td>\n",
       "      <td>0.0529</td>\n",
       "      <td>0.0345</td>\n",
       "      <td>0.311267</td>\n",
       "      <td>0.622246</td>\n",
       "      <td>0.481121</td>\n",
       "      <td>0.2917</td>\n",
       "      <td>0.0130</td>\n",
       "      <td>0</td>\n",
       "      <td>1</td>\n",
       "      <td>0.0000</td>\n",
       "      <td>Core staff</td>\n",
       "      <td>0.003541</td>\n",
       "      <td>1</td>\n",
       "      <td>0</td>\n",
       "      <td>0.0714</td>\n",
       "      <td>0.9851</td>\n",
       "      <td>45.931507</td>\n",
       "      <td>0.8040</td>\n",
       "      <td>3.254795</td>\n",
       "      <td>2.268493</td>\n",
       "      <td>0</td>\n",
       "    </tr>\n",
       "    <tr>\n",
       "      <th>1</th>\n",
       "      <td>225000.0</td>\n",
       "      <td>0.1502</td>\n",
       "      <td>0.0973</td>\n",
       "      <td>0.1379</td>\n",
       "      <td>0.478860</td>\n",
       "      <td>0.566907</td>\n",
       "      <td>0.770087</td>\n",
       "      <td>0.3333</td>\n",
       "      <td>0.0931</td>\n",
       "      <td>0</td>\n",
       "      <td>4</td>\n",
       "      <td>0.0000</td>\n",
       "      <td>Drivers</td>\n",
       "      <td>0.016612</td>\n",
       "      <td>2</td>\n",
       "      <td>0</td>\n",
       "      <td>0.1417</td>\n",
       "      <td>0.9806</td>\n",
       "      <td>38.591781</td>\n",
       "      <td>0.7452</td>\n",
       "      <td>8.295890</td>\n",
       "      <td>0.010959</td>\n",
       "      <td>0</td>\n",
       "    </tr>\n",
       "    <tr>\n",
       "      <th>2</th>\n",
       "      <td>189000.0</td>\n",
       "      <td>0.3561</td>\n",
       "      <td>0.1335</td>\n",
       "      <td>0.1724</td>\n",
       "      <td>0.721940</td>\n",
       "      <td>0.642656</td>\n",
       "      <td>0.481121</td>\n",
       "      <td>0.6667</td>\n",
       "      <td>0.1758</td>\n",
       "      <td>0</td>\n",
       "      <td>4</td>\n",
       "      <td>0.1060</td>\n",
       "      <td>Laborers</td>\n",
       "      <td>0.010006</td>\n",
       "      <td>2</td>\n",
       "      <td>0</td>\n",
       "      <td>0.3811</td>\n",
       "      <td>0.9985</td>\n",
       "      <td>39.953425</td>\n",
       "      <td>0.9804</td>\n",
       "      <td>0.556164</td>\n",
       "      <td>0.515068</td>\n",
       "      <td>0</td>\n",
       "    </tr>\n",
       "    <tr>\n",
       "      <th>3</th>\n",
       "      <td>112500.0</td>\n",
       "      <td>0.0284</td>\n",
       "      <td>0.0617</td>\n",
       "      <td>0.1034</td>\n",
       "      <td>0.478860</td>\n",
       "      <td>0.706428</td>\n",
       "      <td>0.556727</td>\n",
       "      <td>0.0833</td>\n",
       "      <td>0.0279</td>\n",
       "      <td>0</td>\n",
       "      <td>4</td>\n",
       "      <td>0.0000</td>\n",
       "      <td>Laborers</td>\n",
       "      <td>0.046220</td>\n",
       "      <td>1</td>\n",
       "      <td>0</td>\n",
       "      <td>0.0238</td>\n",
       "      <td>0.9881</td>\n",
       "      <td>48.542466</td>\n",
       "      <td>0.8432</td>\n",
       "      <td>21.380822</td>\n",
       "      <td>0.654795</td>\n",
       "      <td>0</td>\n",
       "    </tr>\n",
       "    <tr>\n",
       "      <th>4</th>\n",
       "      <td>135000.0</td>\n",
       "      <td>0.1460</td>\n",
       "      <td>0.1455</td>\n",
       "      <td>0.3103</td>\n",
       "      <td>0.478860</td>\n",
       "      <td>0.786179</td>\n",
       "      <td>0.565608</td>\n",
       "      <td>0.1667</td>\n",
       "      <td>0.0861</td>\n",
       "      <td>1</td>\n",
       "      <td>4</td>\n",
       "      <td>0.0045</td>\n",
       "      <td>Drivers</td>\n",
       "      <td>0.026392</td>\n",
       "      <td>2</td>\n",
       "      <td>0</td>\n",
       "      <td>0.0967</td>\n",
       "      <td>0.9861</td>\n",
       "      <td>30.920548</td>\n",
       "      <td>0.8171</td>\n",
       "      <td>2.043836</td>\n",
       "      <td>0.010959</td>\n",
       "      <td>0</td>\n",
       "    </tr>\n",
       "  </tbody>\n",
       "</table>\n",
       "</div>"
      ],
      "text/plain": [
       "   AMT_INCOME_TOTAL  APARTMENTS_MODE  BASEMENTAREA_AVG  ENTRANCES_AVG  EXT_SOURCE_1  EXT_SOURCE_2  EXT_SOURCE_3  FLOORSMAX_MODE  LANDAREA_AVG  LIVE_CITY_NOT_WORK_CITY  NAME_EDUCATION_TYPE  NONLIVINGAREA_MODE OCCUPATION_TYPE  REGION_POPULATION_RELATIVE  REGION_RATING_CLIENT  REG_CITY_NOT_LIVE_CITY  TOTALAREA_MODE  YEARS_BEGINEXPLUATATION_MODE  YEARS_BIRTH  YEARS_BUILD_MODE  YEARS_EMPLOYED  YEARS_LAST_PHONE_CHANGE  TARGET\n",
       "0          270000.0           0.0924            0.0529         0.0345      0.311267      0.622246      0.481121          0.2917        0.0130                        0                    1              0.0000      Core staff                    0.003541                     1                       0          0.0714                        0.9851    45.931507            0.8040        3.254795                 2.268493       0\n",
       "1          225000.0           0.1502            0.0973         0.1379      0.478860      0.566907      0.770087          0.3333        0.0931                        0                    4              0.0000         Drivers                    0.016612                     2                       0          0.1417                        0.9806    38.591781            0.7452        8.295890                 0.010959       0\n",
       "2          189000.0           0.3561            0.1335         0.1724      0.721940      0.642656      0.481121          0.6667        0.1758                        0                    4              0.1060        Laborers                    0.010006                     2                       0          0.3811                        0.9985    39.953425            0.9804        0.556164                 0.515068       0\n",
       "3          112500.0           0.0284            0.0617         0.1034      0.478860      0.706428      0.556727          0.0833        0.0279                        0                    4              0.0000        Laborers                    0.046220                     1                       0          0.0238                        0.9881    48.542466            0.8432       21.380822                 0.654795       0\n",
       "4          135000.0           0.1460            0.1455         0.3103      0.478860      0.786179      0.565608          0.1667        0.0861                        1                    4              0.0045         Drivers                    0.026392                     2                       0          0.0967                        0.9861    30.920548            0.8171        2.043836                 0.010959       0"
      ]
     },
     "execution_count": 7,
     "metadata": {},
     "output_type": "execute_result"
    }
   ],
   "source": [
    "df.head()"
   ]
  },
  {
   "cell_type": "markdown",
   "metadata": {},
   "source": [
    "Next, we will encode Occupation Type. Since there is no clear ordinal positioning between different occupations, we will use One Hot Encoding. We will use the pandas function get_dummies()."
   ]
  },
  {
   "cell_type": "code",
   "execution_count": 8,
   "metadata": {},
   "outputs": [
    {
     "data": {
      "text/plain": [
       "Laborers                 18363\n",
       "Others                   13289\n",
       "Sales staff              10219\n",
       "Core staff                8379\n",
       "Managers                  6415\n",
       "Drivers                   5964\n",
       "High skill tech staff     3966\n",
       "Accountants               3263\n",
       "Medicine staff            2463\n",
       "Security staff            1981\n",
       "Cooking staff             1718\n",
       "Cleaning staff            1456\n",
       "Private service staff      917\n",
       "Low-skill Laborers         644\n",
       "Secretaries                471\n",
       "Waiters/barmen staff       406\n",
       "Realty agents              280\n",
       "HR staff                   209\n",
       "IT staff                   200\n",
       "Name: OCCUPATION_TYPE, dtype: int64"
      ]
     },
     "execution_count": 8,
     "metadata": {},
     "output_type": "execute_result"
    }
   ],
   "source": [
    "df['OCCUPATION_TYPE'].value_counts()"
   ]
  },
  {
   "cell_type": "code",
   "execution_count": 9,
   "metadata": {},
   "outputs": [],
   "source": [
    "df = pd.get_dummies(df, columns = ['OCCUPATION_TYPE'], drop_first = True)"
   ]
  },
  {
   "cell_type": "markdown",
   "metadata": {},
   "source": [
    "The feature OCCUPATION_TYPE has been one hot encoded. The dataset is ready for modeling."
   ]
  },
  {
   "cell_type": "code",
   "execution_count": 10,
   "metadata": {},
   "outputs": [
    {
     "data": {
      "text/html": [
       "<div>\n",
       "<style scoped>\n",
       "    .dataframe tbody tr th:only-of-type {\n",
       "        vertical-align: middle;\n",
       "    }\n",
       "\n",
       "    .dataframe tbody tr th {\n",
       "        vertical-align: top;\n",
       "    }\n",
       "\n",
       "    .dataframe thead th {\n",
       "        text-align: right;\n",
       "    }\n",
       "</style>\n",
       "<table border=\"1\" class=\"dataframe\">\n",
       "  <thead>\n",
       "    <tr style=\"text-align: right;\">\n",
       "      <th></th>\n",
       "      <th>AMT_INCOME_TOTAL</th>\n",
       "      <th>APARTMENTS_MODE</th>\n",
       "      <th>BASEMENTAREA_AVG</th>\n",
       "      <th>ENTRANCES_AVG</th>\n",
       "      <th>EXT_SOURCE_1</th>\n",
       "      <th>EXT_SOURCE_2</th>\n",
       "      <th>EXT_SOURCE_3</th>\n",
       "      <th>FLOORSMAX_MODE</th>\n",
       "      <th>LANDAREA_AVG</th>\n",
       "      <th>LIVE_CITY_NOT_WORK_CITY</th>\n",
       "      <th>NAME_EDUCATION_TYPE</th>\n",
       "      <th>NONLIVINGAREA_MODE</th>\n",
       "      <th>REGION_POPULATION_RELATIVE</th>\n",
       "      <th>REGION_RATING_CLIENT</th>\n",
       "      <th>REG_CITY_NOT_LIVE_CITY</th>\n",
       "      <th>TOTALAREA_MODE</th>\n",
       "      <th>YEARS_BEGINEXPLUATATION_MODE</th>\n",
       "      <th>YEARS_BIRTH</th>\n",
       "      <th>YEARS_BUILD_MODE</th>\n",
       "      <th>YEARS_EMPLOYED</th>\n",
       "      <th>YEARS_LAST_PHONE_CHANGE</th>\n",
       "      <th>TARGET</th>\n",
       "      <th>OCCUPATION_TYPE_Cleaning staff</th>\n",
       "      <th>OCCUPATION_TYPE_Cooking staff</th>\n",
       "      <th>OCCUPATION_TYPE_Core staff</th>\n",
       "      <th>OCCUPATION_TYPE_Drivers</th>\n",
       "      <th>OCCUPATION_TYPE_HR staff</th>\n",
       "      <th>OCCUPATION_TYPE_High skill tech staff</th>\n",
       "      <th>OCCUPATION_TYPE_IT staff</th>\n",
       "      <th>OCCUPATION_TYPE_Laborers</th>\n",
       "      <th>OCCUPATION_TYPE_Low-skill Laborers</th>\n",
       "      <th>OCCUPATION_TYPE_Managers</th>\n",
       "      <th>OCCUPATION_TYPE_Medicine staff</th>\n",
       "      <th>OCCUPATION_TYPE_Others</th>\n",
       "      <th>OCCUPATION_TYPE_Private service staff</th>\n",
       "      <th>OCCUPATION_TYPE_Realty agents</th>\n",
       "      <th>OCCUPATION_TYPE_Sales staff</th>\n",
       "      <th>OCCUPATION_TYPE_Secretaries</th>\n",
       "      <th>OCCUPATION_TYPE_Security staff</th>\n",
       "      <th>OCCUPATION_TYPE_Waiters/barmen staff</th>\n",
       "    </tr>\n",
       "  </thead>\n",
       "  <tbody>\n",
       "    <tr>\n",
       "      <th>0</th>\n",
       "      <td>270000.0</td>\n",
       "      <td>0.0924</td>\n",
       "      <td>0.0529</td>\n",
       "      <td>0.0345</td>\n",
       "      <td>0.311267</td>\n",
       "      <td>0.622246</td>\n",
       "      <td>0.481121</td>\n",
       "      <td>0.2917</td>\n",
       "      <td>0.0130</td>\n",
       "      <td>0</td>\n",
       "      <td>1</td>\n",
       "      <td>0.0000</td>\n",
       "      <td>0.003541</td>\n",
       "      <td>1</td>\n",
       "      <td>0</td>\n",
       "      <td>0.0714</td>\n",
       "      <td>0.9851</td>\n",
       "      <td>45.931507</td>\n",
       "      <td>0.8040</td>\n",
       "      <td>3.254795</td>\n",
       "      <td>2.268493</td>\n",
       "      <td>0</td>\n",
       "      <td>0</td>\n",
       "      <td>0</td>\n",
       "      <td>1</td>\n",
       "      <td>0</td>\n",
       "      <td>0</td>\n",
       "      <td>0</td>\n",
       "      <td>0</td>\n",
       "      <td>0</td>\n",
       "      <td>0</td>\n",
       "      <td>0</td>\n",
       "      <td>0</td>\n",
       "      <td>0</td>\n",
       "      <td>0</td>\n",
       "      <td>0</td>\n",
       "      <td>0</td>\n",
       "      <td>0</td>\n",
       "      <td>0</td>\n",
       "      <td>0</td>\n",
       "    </tr>\n",
       "    <tr>\n",
       "      <th>1</th>\n",
       "      <td>225000.0</td>\n",
       "      <td>0.1502</td>\n",
       "      <td>0.0973</td>\n",
       "      <td>0.1379</td>\n",
       "      <td>0.478860</td>\n",
       "      <td>0.566907</td>\n",
       "      <td>0.770087</td>\n",
       "      <td>0.3333</td>\n",
       "      <td>0.0931</td>\n",
       "      <td>0</td>\n",
       "      <td>4</td>\n",
       "      <td>0.0000</td>\n",
       "      <td>0.016612</td>\n",
       "      <td>2</td>\n",
       "      <td>0</td>\n",
       "      <td>0.1417</td>\n",
       "      <td>0.9806</td>\n",
       "      <td>38.591781</td>\n",
       "      <td>0.7452</td>\n",
       "      <td>8.295890</td>\n",
       "      <td>0.010959</td>\n",
       "      <td>0</td>\n",
       "      <td>0</td>\n",
       "      <td>0</td>\n",
       "      <td>0</td>\n",
       "      <td>1</td>\n",
       "      <td>0</td>\n",
       "      <td>0</td>\n",
       "      <td>0</td>\n",
       "      <td>0</td>\n",
       "      <td>0</td>\n",
       "      <td>0</td>\n",
       "      <td>0</td>\n",
       "      <td>0</td>\n",
       "      <td>0</td>\n",
       "      <td>0</td>\n",
       "      <td>0</td>\n",
       "      <td>0</td>\n",
       "      <td>0</td>\n",
       "      <td>0</td>\n",
       "    </tr>\n",
       "    <tr>\n",
       "      <th>2</th>\n",
       "      <td>189000.0</td>\n",
       "      <td>0.3561</td>\n",
       "      <td>0.1335</td>\n",
       "      <td>0.1724</td>\n",
       "      <td>0.721940</td>\n",
       "      <td>0.642656</td>\n",
       "      <td>0.481121</td>\n",
       "      <td>0.6667</td>\n",
       "      <td>0.1758</td>\n",
       "      <td>0</td>\n",
       "      <td>4</td>\n",
       "      <td>0.1060</td>\n",
       "      <td>0.010006</td>\n",
       "      <td>2</td>\n",
       "      <td>0</td>\n",
       "      <td>0.3811</td>\n",
       "      <td>0.9985</td>\n",
       "      <td>39.953425</td>\n",
       "      <td>0.9804</td>\n",
       "      <td>0.556164</td>\n",
       "      <td>0.515068</td>\n",
       "      <td>0</td>\n",
       "      <td>0</td>\n",
       "      <td>0</td>\n",
       "      <td>0</td>\n",
       "      <td>0</td>\n",
       "      <td>0</td>\n",
       "      <td>0</td>\n",
       "      <td>0</td>\n",
       "      <td>1</td>\n",
       "      <td>0</td>\n",
       "      <td>0</td>\n",
       "      <td>0</td>\n",
       "      <td>0</td>\n",
       "      <td>0</td>\n",
       "      <td>0</td>\n",
       "      <td>0</td>\n",
       "      <td>0</td>\n",
       "      <td>0</td>\n",
       "      <td>0</td>\n",
       "    </tr>\n",
       "    <tr>\n",
       "      <th>3</th>\n",
       "      <td>112500.0</td>\n",
       "      <td>0.0284</td>\n",
       "      <td>0.0617</td>\n",
       "      <td>0.1034</td>\n",
       "      <td>0.478860</td>\n",
       "      <td>0.706428</td>\n",
       "      <td>0.556727</td>\n",
       "      <td>0.0833</td>\n",
       "      <td>0.0279</td>\n",
       "      <td>0</td>\n",
       "      <td>4</td>\n",
       "      <td>0.0000</td>\n",
       "      <td>0.046220</td>\n",
       "      <td>1</td>\n",
       "      <td>0</td>\n",
       "      <td>0.0238</td>\n",
       "      <td>0.9881</td>\n",
       "      <td>48.542466</td>\n",
       "      <td>0.8432</td>\n",
       "      <td>21.380822</td>\n",
       "      <td>0.654795</td>\n",
       "      <td>0</td>\n",
       "      <td>0</td>\n",
       "      <td>0</td>\n",
       "      <td>0</td>\n",
       "      <td>0</td>\n",
       "      <td>0</td>\n",
       "      <td>0</td>\n",
       "      <td>0</td>\n",
       "      <td>1</td>\n",
       "      <td>0</td>\n",
       "      <td>0</td>\n",
       "      <td>0</td>\n",
       "      <td>0</td>\n",
       "      <td>0</td>\n",
       "      <td>0</td>\n",
       "      <td>0</td>\n",
       "      <td>0</td>\n",
       "      <td>0</td>\n",
       "      <td>0</td>\n",
       "    </tr>\n",
       "    <tr>\n",
       "      <th>4</th>\n",
       "      <td>135000.0</td>\n",
       "      <td>0.1460</td>\n",
       "      <td>0.1455</td>\n",
       "      <td>0.3103</td>\n",
       "      <td>0.478860</td>\n",
       "      <td>0.786179</td>\n",
       "      <td>0.565608</td>\n",
       "      <td>0.1667</td>\n",
       "      <td>0.0861</td>\n",
       "      <td>1</td>\n",
       "      <td>4</td>\n",
       "      <td>0.0045</td>\n",
       "      <td>0.026392</td>\n",
       "      <td>2</td>\n",
       "      <td>0</td>\n",
       "      <td>0.0967</td>\n",
       "      <td>0.9861</td>\n",
       "      <td>30.920548</td>\n",
       "      <td>0.8171</td>\n",
       "      <td>2.043836</td>\n",
       "      <td>0.010959</td>\n",
       "      <td>0</td>\n",
       "      <td>0</td>\n",
       "      <td>0</td>\n",
       "      <td>0</td>\n",
       "      <td>1</td>\n",
       "      <td>0</td>\n",
       "      <td>0</td>\n",
       "      <td>0</td>\n",
       "      <td>0</td>\n",
       "      <td>0</td>\n",
       "      <td>0</td>\n",
       "      <td>0</td>\n",
       "      <td>0</td>\n",
       "      <td>0</td>\n",
       "      <td>0</td>\n",
       "      <td>0</td>\n",
       "      <td>0</td>\n",
       "      <td>0</td>\n",
       "      <td>0</td>\n",
       "    </tr>\n",
       "  </tbody>\n",
       "</table>\n",
       "</div>"
      ],
      "text/plain": [
       "   AMT_INCOME_TOTAL  APARTMENTS_MODE  BASEMENTAREA_AVG  ENTRANCES_AVG  EXT_SOURCE_1  EXT_SOURCE_2  EXT_SOURCE_3  FLOORSMAX_MODE  LANDAREA_AVG  LIVE_CITY_NOT_WORK_CITY  NAME_EDUCATION_TYPE  NONLIVINGAREA_MODE  REGION_POPULATION_RELATIVE  REGION_RATING_CLIENT  REG_CITY_NOT_LIVE_CITY  TOTALAREA_MODE  YEARS_BEGINEXPLUATATION_MODE  YEARS_BIRTH  YEARS_BUILD_MODE  YEARS_EMPLOYED  YEARS_LAST_PHONE_CHANGE  TARGET  OCCUPATION_TYPE_Cleaning staff  OCCUPATION_TYPE_Cooking staff  OCCUPATION_TYPE_Core staff  OCCUPATION_TYPE_Drivers  OCCUPATION_TYPE_HR staff  OCCUPATION_TYPE_High skill tech staff  OCCUPATION_TYPE_IT staff  OCCUPATION_TYPE_Laborers  OCCUPATION_TYPE_Low-skill Laborers  OCCUPATION_TYPE_Managers  OCCUPATION_TYPE_Medicine staff  OCCUPATION_TYPE_Others  OCCUPATION_TYPE_Private service staff  OCCUPATION_TYPE_Realty agents  OCCUPATION_TYPE_Sales staff  OCCUPATION_TYPE_Secretaries  OCCUPATION_TYPE_Security staff  OCCUPATION_TYPE_Waiters/barmen staff\n",
       "0          270000.0           0.0924            0.0529         0.0345      0.311267      0.622246      0.481121          0.2917        0.0130                        0                    1              0.0000                    0.003541                     1                       0          0.0714                        0.9851    45.931507            0.8040        3.254795                 2.268493       0                               0                              0                           1                        0                         0                                      0                         0                         0                                   0                         0                               0                       0                                      0                              0                            0                            0                               0                                     0\n",
       "1          225000.0           0.1502            0.0973         0.1379      0.478860      0.566907      0.770087          0.3333        0.0931                        0                    4              0.0000                    0.016612                     2                       0          0.1417                        0.9806    38.591781            0.7452        8.295890                 0.010959       0                               0                              0                           0                        1                         0                                      0                         0                         0                                   0                         0                               0                       0                                      0                              0                            0                            0                               0                                     0\n",
       "2          189000.0           0.3561            0.1335         0.1724      0.721940      0.642656      0.481121          0.6667        0.1758                        0                    4              0.1060                    0.010006                     2                       0          0.3811                        0.9985    39.953425            0.9804        0.556164                 0.515068       0                               0                              0                           0                        0                         0                                      0                         0                         1                                   0                         0                               0                       0                                      0                              0                            0                            0                               0                                     0\n",
       "3          112500.0           0.0284            0.0617         0.1034      0.478860      0.706428      0.556727          0.0833        0.0279                        0                    4              0.0000                    0.046220                     1                       0          0.0238                        0.9881    48.542466            0.8432       21.380822                 0.654795       0                               0                              0                           0                        0                         0                                      0                         0                         1                                   0                         0                               0                       0                                      0                              0                            0                            0                               0                                     0\n",
       "4          135000.0           0.1460            0.1455         0.3103      0.478860      0.786179      0.565608          0.1667        0.0861                        1                    4              0.0045                    0.026392                     2                       0          0.0967                        0.9861    30.920548            0.8171        2.043836                 0.010959       0                               0                              0                           0                        1                         0                                      0                         0                         0                                   0                         0                               0                       0                                      0                              0                            0                            0                               0                                     0"
      ]
     },
     "execution_count": 10,
     "metadata": {},
     "output_type": "execute_result"
    }
   ],
   "source": [
    "df.head()"
   ]
  },
  {
   "cell_type": "markdown",
   "metadata": {},
   "source": [
    "## Applying Machine Learning Models"
   ]
  },
  {
   "cell_type": "code",
   "execution_count": 11,
   "metadata": {},
   "outputs": [],
   "source": [
    "from sklearn.linear_model import LogisticRegression\n",
    "from sklearn.metrics import confusion_matrix, classification_report\n",
    "from sklearn.model_selection import train_test_split"
   ]
  },
  {
   "cell_type": "code",
   "execution_count": 12,
   "metadata": {},
   "outputs": [],
   "source": [
    "#start with logistic regression\n",
    "#split dataframe into X (dependent variables - all features except target) and y (independent variable - target variable)\n",
    "X = df[df.columns[~df.columns.isin(['TARGET'])]].copy()\n",
    "y = df['TARGET'].copy()"
   ]
  },
  {
   "cell_type": "code",
   "execution_count": 13,
   "metadata": {},
   "outputs": [],
   "source": [
    "#split data into training and testing set\n",
    "X_train, X_test, y_train, y_test = train_test_split(X, y, test_size = 0.2)"
   ]
  },
  {
   "cell_type": "code",
   "execution_count": 109,
   "metadata": {},
   "outputs": [
    {
     "data": {
      "text/plain": [
       "RandomForestRegressor(bootstrap=True, criterion='mse', max_depth=None,\n",
       "           max_features='auto', max_leaf_nodes=None,\n",
       "           min_impurity_decrease=0.0, min_impurity_split=None,\n",
       "           min_samples_leaf=1, min_samples_split=2,\n",
       "           min_weight_fraction_leaf=0.0, n_estimators=1000, n_jobs=1,\n",
       "           oob_score=False, random_state=42, verbose=0, warm_start=False)"
      ]
     },
     "execution_count": 109,
     "metadata": {},
     "output_type": "execute_result"
    }
   ],
   "source": [
    "from sklearn.ensemble import RandomForestRegressor\n",
    "\n",
    "rf = RandomForestRegressor(n_estimators = 1000, random_state = 42)\n",
    "# Train the model on training data\n",
    "rf.fit(X_train, y_train)"
   ]
  },
  {
   "cell_type": "code",
   "execution_count": 110,
   "metadata": {},
   "outputs": [],
   "source": [
    "predictions = rf.predict(X_test)"
   ]
  },
  {
   "cell_type": "code",
   "execution_count": 116,
   "metadata": {},
   "outputs": [
    {
     "data": {
      "text/plain": [
       "16121"
      ]
     },
     "execution_count": 116,
     "metadata": {},
     "output_type": "execute_result"
    }
   ],
   "source": [
    "len(predictions) #2191, 16121 total"
   ]
  },
  {
   "cell_type": "code",
   "execution_count": 117,
   "metadata": {},
   "outputs": [
    {
     "data": {
      "text/plain": [
       "0.6263754254323426"
      ]
     },
     "execution_count": 117,
     "metadata": {},
     "output_type": "execute_result"
    }
   ],
   "source": [
    "rf.score(X_test, y_test)"
   ]
  },
  {
   "cell_type": "code",
   "execution_count": 104,
   "metadata": {},
   "outputs": [
    {
     "data": {
      "text/plain": [
       "0    49097\n",
       "1    15385\n",
       "Name: TARGET, dtype: int64"
      ]
     },
     "execution_count": 104,
     "metadata": {},
     "output_type": "execute_result"
    }
   ],
   "source": [
    "y_train.value_counts()"
   ]
  },
  {
   "cell_type": "code",
   "execution_count": 14,
   "metadata": {},
   "outputs": [
    {
     "data": {
      "text/plain": [
       "(16121,)"
      ]
     },
     "execution_count": 14,
     "metadata": {},
     "output_type": "execute_result"
    }
   ],
   "source": [
    "y_test.shape"
   ]
  },
  {
   "cell_type": "code",
   "execution_count": 15,
   "metadata": {},
   "outputs": [
    {
     "data": {
      "text/plain": [
       "LogisticRegression(C=1.0, class_weight=None, dual=False, fit_intercept=True,\n",
       "          intercept_scaling=1, max_iter=100, multi_class='ovr', n_jobs=1,\n",
       "          penalty='l2', random_state=None, solver='liblinear', tol=0.0001,\n",
       "          verbose=0, warm_start=False)"
      ]
     },
     "execution_count": 15,
     "metadata": {},
     "output_type": "execute_result"
    }
   ],
   "source": [
    "logreg = LogisticRegression()\n",
    "logreg.fit(X_train, y_train)"
   ]
  },
  {
   "cell_type": "code",
   "execution_count": 16,
   "metadata": {},
   "outputs": [],
   "source": [
    "#predict output with X test set\n",
    "y_pred = logreg.predict(X_test)"
   ]
  },
  {
   "cell_type": "code",
   "execution_count": 107,
   "metadata": {},
   "outputs": [
    {
     "data": {
      "text/plain": [
       "0    12275\n",
       "1     3846\n",
       "Name: TARGET, dtype: int64"
      ]
     },
     "execution_count": 107,
     "metadata": {},
     "output_type": "execute_result"
    }
   ],
   "source": [
    "y_test.value_counts()"
   ]
  },
  {
   "cell_type": "code",
   "execution_count": 44,
   "metadata": {},
   "outputs": [
    {
     "data": {
      "text/plain": [
       "0.7614291917374852"
      ]
     },
     "execution_count": 44,
     "metadata": {},
     "output_type": "execute_result"
    }
   ],
   "source": [
    "logreg.score(X_test,y_test)"
   ]
  },
  {
   "cell_type": "code",
   "execution_count": 65,
   "metadata": {},
   "outputs": [
    {
     "data": {
      "text/plain": [
       "array([0, 0, 0, 0, 0, 0, 0, 0, 0, 0], dtype=int64)"
      ]
     },
     "execution_count": 65,
     "metadata": {},
     "output_type": "execute_result"
    }
   ],
   "source": [
    "#this will output predicted values from the model given X_test, which is the smaller part of train test split that model has not seen\n",
    "logreg.predict(X_test)[:10]"
   ]
  },
  {
   "cell_type": "code",
   "execution_count": 100,
   "metadata": {},
   "outputs": [
    {
     "data": {
      "text/plain": [
       "array([[0.77335189, 0.22664811],\n",
       "       [0.76735424, 0.23264576],\n",
       "       [0.82849428, 0.17150572],\n",
       "       [0.78296216, 0.21703784],\n",
       "       [0.78892095, 0.21107905],\n",
       "       [0.85132194, 0.14867806],\n",
       "       [0.72482803, 0.27517197],\n",
       "       [0.77148431, 0.22851569],\n",
       "       [0.7066326 , 0.2933674 ],\n",
       "       [0.76299884, 0.23700116],\n",
       "       [0.68685383, 0.31314617],\n",
       "       [0.77642724, 0.22357276],\n",
       "       [0.75570354, 0.24429646],\n",
       "       [0.82618947, 0.17381053],\n",
       "       [0.78532881, 0.21467119],\n",
       "       [0.71176963, 0.28823037],\n",
       "       [0.74758156, 0.25241844],\n",
       "       [0.84004635, 0.15995365],\n",
       "       [0.80471099, 0.19528901],\n",
       "       [0.72974377, 0.27025623],\n",
       "       [0.67430577, 0.32569423],\n",
       "       [0.83658639, 0.16341361],\n",
       "       [0.86016731, 0.13983269],\n",
       "       [0.77325899, 0.22674101],\n",
       "       [0.71957185, 0.28042815],\n",
       "       [0.70109432, 0.29890568],\n",
       "       [0.78280216, 0.21719784],\n",
       "       [0.77609458, 0.22390542],\n",
       "       [0.69920502, 0.30079498],\n",
       "       [0.72527584, 0.27472416],\n",
       "       [0.68962067, 0.31037933],\n",
       "       [0.7948719 , 0.2051281 ],\n",
       "       [0.82975533, 0.17024467],\n",
       "       [0.73542996, 0.26457004],\n",
       "       [0.71065148, 0.28934852],\n",
       "       [0.84341367, 0.15658633],\n",
       "       [0.77562364, 0.22437636],\n",
       "       [0.83229624, 0.16770376],\n",
       "       [0.75819982, 0.24180018],\n",
       "       [0.7880497 , 0.2119503 ],\n",
       "       [0.83738371, 0.16261629],\n",
       "       [0.74570064, 0.25429936],\n",
       "       [0.79945839, 0.20054161],\n",
       "       [0.79654429, 0.20345571],\n",
       "       [0.72314778, 0.27685222],\n",
       "       [0.7425335 , 0.2574665 ],\n",
       "       [0.84640594, 0.15359406],\n",
       "       [0.81298547, 0.18701453],\n",
       "       [0.70597064, 0.29402936],\n",
       "       [0.76011334, 0.23988666],\n",
       "       [0.86060511, 0.13939489],\n",
       "       [0.71743517, 0.28256483],\n",
       "       [0.78103314, 0.21896686],\n",
       "       [0.69383368, 0.30616632],\n",
       "       [0.7809351 , 0.2190649 ],\n",
       "       [0.73405077, 0.26594923],\n",
       "       [0.68583774, 0.31416226],\n",
       "       [0.69940206, 0.30059794],\n",
       "       [0.69132198, 0.30867802],\n",
       "       [0.72172909, 0.27827091],\n",
       "       [0.86856229, 0.13143771],\n",
       "       [0.74575205, 0.25424795],\n",
       "       [0.75834577, 0.24165423],\n",
       "       [0.84129803, 0.15870197],\n",
       "       [0.6913198 , 0.3086802 ],\n",
       "       [0.70880563, 0.29119437],\n",
       "       [0.70264109, 0.29735891],\n",
       "       [0.69982968, 0.30017032],\n",
       "       [0.76809526, 0.23190474],\n",
       "       [0.84532917, 0.15467083],\n",
       "       [0.86080154, 0.13919846],\n",
       "       [0.74937601, 0.25062399],\n",
       "       [0.77938085, 0.22061915],\n",
       "       [0.79310748, 0.20689252],\n",
       "       [0.79077408, 0.20922592],\n",
       "       [0.68191934, 0.31808066],\n",
       "       [0.82648454, 0.17351546],\n",
       "       [0.8166638 , 0.1833362 ],\n",
       "       [0.67316104, 0.32683896],\n",
       "       [0.77435096, 0.22564904],\n",
       "       [0.76117151, 0.23882849],\n",
       "       [0.66965392, 0.33034608],\n",
       "       [0.8664394 , 0.1335606 ],\n",
       "       [0.68495782, 0.31504218],\n",
       "       [0.75583349, 0.24416651],\n",
       "       [0.68405523, 0.31594477],\n",
       "       [0.70978287, 0.29021713],\n",
       "       [0.8148324 , 0.1851676 ],\n",
       "       [0.81324207, 0.18675793],\n",
       "       [0.70004909, 0.29995091],\n",
       "       [0.72515357, 0.27484643],\n",
       "       [0.70657286, 0.29342714],\n",
       "       [0.67721742, 0.32278258],\n",
       "       [0.68696037, 0.31303963],\n",
       "       [0.71839066, 0.28160934],\n",
       "       [0.71481955, 0.28518045],\n",
       "       [0.7813299 , 0.2186701 ],\n",
       "       [0.73368249, 0.26631751],\n",
       "       [0.73137549, 0.26862451],\n",
       "       [0.76930022, 0.23069978]])"
      ]
     },
     "execution_count": 100,
     "metadata": {},
     "output_type": "execute_result"
    }
   ],
   "source": [
    "#this will predict probability of class membership for X_test testing set\n",
    "#first list entry is P(target = 0) and second list entry is P(target = 1)\n",
    "\n",
    "logreg.predict_proba(X_test)[:100]"
   ]
  },
  {
   "cell_type": "code",
   "execution_count": 85,
   "metadata": {},
   "outputs": [
    {
     "data": {
      "text/plain": [
       "12275"
      ]
     },
     "execution_count": 85,
     "metadata": {},
     "output_type": "execute_result"
    }
   ],
   "source": [
    "#changing sensitivity and specificity?\n",
    "\n",
    "from sklearn.metrics import accuracy_score\n",
    "accuracy_score(y_test, logreg.predict(X_test), normalize = False)"
   ]
  },
  {
   "cell_type": "code",
   "execution_count": 55,
   "metadata": {},
   "outputs": [
    {
     "data": {
      "text/plain": [
       "(3846,)"
      ]
     },
     "execution_count": 55,
     "metadata": {},
     "output_type": "execute_result"
    }
   ],
   "source": [
    "y_test[y_test ==1].shape  #16121 for y_pred, 12275+3846 = 16121"
   ]
  },
  {
   "cell_type": "code",
   "execution_count": 57,
   "metadata": {},
   "outputs": [],
   "source": [
    "#Try log reg with different values for c\n",
    "\n",
    "def reg_param_c(X,y, c_values, test_size):\n",
    "    c_scores = {}\n",
    "    for i in c_values:\n",
    "        X_train, X_test, y_train, y_test = train_test_split(X, y, test_size = test_size)\n",
    "        logreg = LogisticRegression(C = i)\n",
    "        logreg.fit(X_train, y_train)\n",
    "        c_scores[i] = accuracy_score(y_test, logreg.predict(X_test))\n",
    "    return c_scores"
   ]
  },
  {
   "cell_type": "code",
   "execution_count": 60,
   "metadata": {},
   "outputs": [
    {
     "data": {
      "text/plain": [
       "{0.001: 0.7625457477823956,\n",
       " 0.1: 0.7678804044414118,\n",
       " 1: 0.7647788598722164,\n",
       " 10: 0.7616773153030209,\n",
       " 100: 0.756156565969853}"
      ]
     },
     "execution_count": 60,
     "metadata": {},
     "output_type": "execute_result"
    }
   ],
   "source": [
    "reg_param_c(X,y, [0.001, 0.1, 1, 10, 100], 0.2)"
   ]
  },
  {
   "cell_type": "code",
   "execution_count": 89,
   "metadata": {},
   "outputs": [],
   "source": [
    "from sklearn.metrics import roc_curve\n",
    "fpr, tpr, thresholds = roc_curve(y_test, y_pred)"
   ]
  },
  {
   "cell_type": "code",
   "execution_count": 90,
   "metadata": {},
   "outputs": [
    {
     "data": {
      "image/png": "[encoded data removed]",
      "text/plain": [
       "<Figure size 432x288 with 1 Axes>"
      ]
     },
     "metadata": {},
     "output_type": "display_data"
    }
   ],
   "source": [
    "plt.plot(fpr,tpr)\n",
    "plt.xlim([0.0,1.0])\n",
    "plt.ylim([0.0, 1.0])\n",
    "plt.title('ROC Curve')\n",
    "plt.xlabel('False Positive Rate (1-Specificity)')\n",
    "plt.ylabel('True Positive Rate (Sensitivity)')\n",
    "plt.grid(True)"
   ]
  },
  {
   "cell_type": "code",
   "execution_count": 79,
   "metadata": {},
   "outputs": [],
   "source": [
    "def evaluate_threshold(threshold):\n",
    "    print('Sensitivity:', tpr[thresholds > threshold][-1])\n",
    "    print('Specificity:', 1- fpr[thresholds > threshold][-1])"
   ]
  },
  {
   "cell_type": "code",
   "execution_count": 82,
   "metadata": {},
   "outputs": [
    {
     "name": "stdout",
     "output_type": "stream",
     "text": [
      "Sensitivity: 0.0\n",
      "Specificity: 1.0\n"
     ]
    }
   ],
   "source": [
    "evaluate_threshold(0.35)"
   ]
  },
  {
   "cell_type": "code",
   "execution_count": 88,
   "metadata": {},
   "outputs": [
    {
     "data": {
      "text/plain": [
       "0.5"
      ]
     },
     "execution_count": 88,
     "metadata": {},
     "output_type": "execute_result"
    }
   ],
   "source": [
    "from sklearn.metrics import roc_auc_score\n",
    "\n",
    "roc_auc_score(y_test, y_pred)"
   ]
  },
  {
   "cell_type": "code",
   "execution_count": 94,
   "metadata": {},
   "outputs": [
    {
     "data": {
      "text/plain": [
       "61372"
      ]
     },
     "execution_count": 94,
     "metadata": {},
     "output_type": "execute_result"
    }
   ],
   "source": [
    "#What parameters to tune to have predictions that are 1 and 0"
   ]
  },
  {
   "cell_type": "code",
   "execution_count": null,
   "metadata": {},
   "outputs": [],
   "source": []
  },
  {
   "cell_type": "code",
   "execution_count": null,
   "metadata": {},
   "outputs": [],
   "source": []
  }
 ],
 "metadata": {
  "kernelspec": {
   "display_name": "Python 3",
   "language": "python",
   "name": "python3"
  },
  "language_info": {
   "codemirror_mode": {
    "name": "ipython",
    "version": 3
   },
   "file_extension": ".py",
   "mimetype": "text/x-python",
   "name": "python",
   "nbconvert_exporter": "python",
   "pygments_lexer": "ipython3",
   "version": "3.6.5"
  }
 },
 "nbformat": 4,
 "nbformat_minor": 2
}
