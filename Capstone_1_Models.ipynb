{
 "cells": [
  {
   "cell_type": "markdown",
   "metadata": {},
   "source": [
    "# Machine Learning Models"
   ]
  },
  {
   "cell_type": "code",
   "execution_count": 2,
   "metadata": {},
   "outputs": [],
   "source": [
    "#Import packages and set formatting options\n",
    "\n",
    "import numpy as np\n",
    "import pandas as pd\n",
    "import matplotlib.pyplot as plt\n",
    "import seaborn as sns\n",
    "\n",
    "pd.set_option('display.max_rows', 500)\n",
    "pd.set_option('display.max_columns', 500)\n",
    "pd.set_option('display.width', 1000)"
   ]
  },
  {
   "cell_type": "markdown",
   "metadata": {},
   "source": [
    "### Read CSV File"
   ]
  },
  {
   "cell_type": "code",
   "execution_count": 3,
   "metadata": {},
   "outputs": [
    {
     "data": {
      "text/html": [
       "<div>\n",
       "<style scoped>\n",
       "    .dataframe tbody tr th:only-of-type {\n",
       "        vertical-align: middle;\n",
       "    }\n",
       "\n",
       "    .dataframe tbody tr th {\n",
       "        vertical-align: top;\n",
       "    }\n",
       "\n",
       "    .dataframe thead th {\n",
       "        text-align: right;\n",
       "    }\n",
       "</style>\n",
       "<table border=\"1\" class=\"dataframe\">\n",
       "  <thead>\n",
       "    <tr style=\"text-align: right;\">\n",
       "      <th></th>\n",
       "      <th>AMT_INCOME_TOTAL</th>\n",
       "      <th>APARTMENTS_MODE</th>\n",
       "      <th>BASEMENTAREA_AVG</th>\n",
       "      <th>ENTRANCES_AVG</th>\n",
       "      <th>EXT_SOURCE_1</th>\n",
       "      <th>EXT_SOURCE_2</th>\n",
       "      <th>EXT_SOURCE_3</th>\n",
       "      <th>FLOORSMAX_MODE</th>\n",
       "      <th>LANDAREA_AVG</th>\n",
       "      <th>LIVE_CITY_NOT_WORK_CITY</th>\n",
       "      <th>NAME_EDUCATION_TYPE</th>\n",
       "      <th>NONLIVINGAREA_MODE</th>\n",
       "      <th>OCCUPATION_TYPE</th>\n",
       "      <th>REGION_POPULATION_RELATIVE</th>\n",
       "      <th>REGION_RATING_CLIENT</th>\n",
       "      <th>REG_CITY_NOT_LIVE_CITY</th>\n",
       "      <th>TOTALAREA_MODE</th>\n",
       "      <th>YEARS_BEGINEXPLUATATION_MODE</th>\n",
       "      <th>YEARS_BIRTH</th>\n",
       "      <th>YEARS_BUILD_MODE</th>\n",
       "      <th>YEARS_EMPLOYED</th>\n",
       "      <th>YEARS_LAST_PHONE_CHANGE</th>\n",
       "      <th>TARGET</th>\n",
       "    </tr>\n",
       "  </thead>\n",
       "  <tbody>\n",
       "    <tr>\n",
       "      <th>0</th>\n",
       "      <td>270000.0</td>\n",
       "      <td>0.0924</td>\n",
       "      <td>0.0529</td>\n",
       "      <td>0.0345</td>\n",
       "      <td>0.311267</td>\n",
       "      <td>0.622246</td>\n",
       "      <td>0.481121</td>\n",
       "      <td>0.2917</td>\n",
       "      <td>0.0130</td>\n",
       "      <td>0</td>\n",
       "      <td>Higher education</td>\n",
       "      <td>0.0000</td>\n",
       "      <td>Core staff</td>\n",
       "      <td>0.003541</td>\n",
       "      <td>1</td>\n",
       "      <td>0</td>\n",
       "      <td>0.0714</td>\n",
       "      <td>0.9851</td>\n",
       "      <td>45.931507</td>\n",
       "      <td>0.8040</td>\n",
       "      <td>3.254795</td>\n",
       "      <td>2.268493</td>\n",
       "      <td>0</td>\n",
       "    </tr>\n",
       "    <tr>\n",
       "      <th>1</th>\n",
       "      <td>225000.0</td>\n",
       "      <td>0.1502</td>\n",
       "      <td>0.0973</td>\n",
       "      <td>0.1379</td>\n",
       "      <td>0.478860</td>\n",
       "      <td>0.566907</td>\n",
       "      <td>0.770087</td>\n",
       "      <td>0.3333</td>\n",
       "      <td>0.0931</td>\n",
       "      <td>0</td>\n",
       "      <td>Secondary / secondary special</td>\n",
       "      <td>0.0000</td>\n",
       "      <td>Drivers</td>\n",
       "      <td>0.016612</td>\n",
       "      <td>2</td>\n",
       "      <td>0</td>\n",
       "      <td>0.1417</td>\n",
       "      <td>0.9806</td>\n",
       "      <td>38.591781</td>\n",
       "      <td>0.7452</td>\n",
       "      <td>8.295890</td>\n",
       "      <td>0.010959</td>\n",
       "      <td>0</td>\n",
       "    </tr>\n",
       "    <tr>\n",
       "      <th>2</th>\n",
       "      <td>189000.0</td>\n",
       "      <td>0.3561</td>\n",
       "      <td>0.1335</td>\n",
       "      <td>0.1724</td>\n",
       "      <td>0.721940</td>\n",
       "      <td>0.642656</td>\n",
       "      <td>0.481121</td>\n",
       "      <td>0.6667</td>\n",
       "      <td>0.1758</td>\n",
       "      <td>0</td>\n",
       "      <td>Secondary / secondary special</td>\n",
       "      <td>0.1060</td>\n",
       "      <td>Laborers</td>\n",
       "      <td>0.010006</td>\n",
       "      <td>2</td>\n",
       "      <td>0</td>\n",
       "      <td>0.3811</td>\n",
       "      <td>0.9985</td>\n",
       "      <td>39.953425</td>\n",
       "      <td>0.9804</td>\n",
       "      <td>0.556164</td>\n",
       "      <td>0.515068</td>\n",
       "      <td>0</td>\n",
       "    </tr>\n",
       "    <tr>\n",
       "      <th>3</th>\n",
       "      <td>112500.0</td>\n",
       "      <td>0.0284</td>\n",
       "      <td>0.0617</td>\n",
       "      <td>0.1034</td>\n",
       "      <td>0.478860</td>\n",
       "      <td>0.706428</td>\n",
       "      <td>0.556727</td>\n",
       "      <td>0.0833</td>\n",
       "      <td>0.0279</td>\n",
       "      <td>0</td>\n",
       "      <td>Secondary / secondary special</td>\n",
       "      <td>0.0000</td>\n",
       "      <td>Laborers</td>\n",
       "      <td>0.046220</td>\n",
       "      <td>1</td>\n",
       "      <td>0</td>\n",
       "      <td>0.0238</td>\n",
       "      <td>0.9881</td>\n",
       "      <td>48.542466</td>\n",
       "      <td>0.8432</td>\n",
       "      <td>21.380822</td>\n",
       "      <td>0.654795</td>\n",
       "      <td>0</td>\n",
       "    </tr>\n",
       "    <tr>\n",
       "      <th>4</th>\n",
       "      <td>135000.0</td>\n",
       "      <td>0.1460</td>\n",
       "      <td>0.1455</td>\n",
       "      <td>0.3103</td>\n",
       "      <td>0.478860</td>\n",
       "      <td>0.786179</td>\n",
       "      <td>0.565608</td>\n",
       "      <td>0.1667</td>\n",
       "      <td>0.0861</td>\n",
       "      <td>1</td>\n",
       "      <td>Secondary / secondary special</td>\n",
       "      <td>0.0045</td>\n",
       "      <td>Drivers</td>\n",
       "      <td>0.026392</td>\n",
       "      <td>2</td>\n",
       "      <td>0</td>\n",
       "      <td>0.0967</td>\n",
       "      <td>0.9861</td>\n",
       "      <td>30.920548</td>\n",
       "      <td>0.8171</td>\n",
       "      <td>2.043836</td>\n",
       "      <td>0.010959</td>\n",
       "      <td>0</td>\n",
       "    </tr>\n",
       "  </tbody>\n",
       "</table>\n",
       "</div>"
      ],
      "text/plain": [
       "   AMT_INCOME_TOTAL  APARTMENTS_MODE  BASEMENTAREA_AVG  ENTRANCES_AVG  EXT_SOURCE_1  EXT_SOURCE_2  EXT_SOURCE_3  FLOORSMAX_MODE  LANDAREA_AVG  LIVE_CITY_NOT_WORK_CITY            NAME_EDUCATION_TYPE  NONLIVINGAREA_MODE OCCUPATION_TYPE  REGION_POPULATION_RELATIVE  REGION_RATING_CLIENT  REG_CITY_NOT_LIVE_CITY  TOTALAREA_MODE  YEARS_BEGINEXPLUATATION_MODE  YEARS_BIRTH  YEARS_BUILD_MODE  YEARS_EMPLOYED  YEARS_LAST_PHONE_CHANGE  TARGET\n",
       "0          270000.0           0.0924            0.0529         0.0345      0.311267      0.622246      0.481121          0.2917        0.0130                        0               Higher education              0.0000      Core staff                    0.003541                     1                       0          0.0714                        0.9851    45.931507            0.8040        3.254795                 2.268493       0\n",
       "1          225000.0           0.1502            0.0973         0.1379      0.478860      0.566907      0.770087          0.3333        0.0931                        0  Secondary / secondary special              0.0000         Drivers                    0.016612                     2                       0          0.1417                        0.9806    38.591781            0.7452        8.295890                 0.010959       0\n",
       "2          189000.0           0.3561            0.1335         0.1724      0.721940      0.642656      0.481121          0.6667        0.1758                        0  Secondary / secondary special              0.1060        Laborers                    0.010006                     2                       0          0.3811                        0.9985    39.953425            0.9804        0.556164                 0.515068       0\n",
       "3          112500.0           0.0284            0.0617         0.1034      0.478860      0.706428      0.556727          0.0833        0.0279                        0  Secondary / secondary special              0.0000        Laborers                    0.046220                     1                       0          0.0238                        0.9881    48.542466            0.8432       21.380822                 0.654795       0\n",
       "4          135000.0           0.1460            0.1455         0.3103      0.478860      0.786179      0.565608          0.1667        0.0861                        1  Secondary / secondary special              0.0045         Drivers                    0.026392                     2                       0          0.0967                        0.9861    30.920548            0.8171        2.043836                 0.010959       0"
      ]
     },
     "execution_count": 3,
     "metadata": {},
     "output_type": "execute_result"
    }
   ],
   "source": [
    "df = pd.read_csv('feature_selected_train.csv')\n",
    "df.head()"
   ]
  },
  {
   "cell_type": "code",
   "execution_count": 4,
   "metadata": {},
   "outputs": [
    {
     "data": {
      "text/plain": [
       "(80603, 23)"
      ]
     },
     "execution_count": 4,
     "metadata": {},
     "output_type": "execute_result"
    }
   ],
   "source": [
    "df.shape"
   ]
  },
  {
   "cell_type": "markdown",
   "metadata": {},
   "source": [
    "### Categorical Variable Encoding\n",
    "After examining the cleaned and reduced training set, there are still two categorical variables that will need to be encoded before applying any machine learning models. Let's examine those first."
   ]
  },
  {
   "cell_type": "code",
   "execution_count": 5,
   "metadata": {},
   "outputs": [
    {
     "data": {
      "text/plain": [
       "Secondary / secondary special    54306\n",
       "Higher education                 22086\n",
       "Incomplete higher                 3530\n",
       "Lower secondary                    633\n",
       "Academic degree                     48\n",
       "Name: NAME_EDUCATION_TYPE, dtype: int64"
      ]
     },
     "execution_count": 5,
     "metadata": {},
     "output_type": "execute_result"
    }
   ],
   "source": [
    "df['NAME_EDUCATION_TYPE'].value_counts()"
   ]
  },
  {
   "cell_type": "markdown",
   "metadata": {},
   "source": [
    "Since there are only 5 categories present for education type, we can use One Hot Encoding with k-1 dummies created out of k categories. Before we proceed, let's examine the other categorical variable."
   ]
  },
  {
   "cell_type": "code",
   "execution_count": 6,
   "metadata": {},
   "outputs": [
    {
     "data": {
      "text/plain": [
       "Laborers                 18363\n",
       "Others                   13289\n",
       "Sales staff              10219\n",
       "Core staff                8379\n",
       "Managers                  6415\n",
       "Drivers                   5964\n",
       "High skill tech staff     3966\n",
       "Accountants               3263\n",
       "Medicine staff            2463\n",
       "Security staff            1981\n",
       "Cooking staff             1718\n",
       "Cleaning staff            1456\n",
       "Private service staff      917\n",
       "Low-skill Laborers         644\n",
       "Secretaries                471\n",
       "Waiters/barmen staff       406\n",
       "Realty agents              280\n",
       "HR staff                   209\n",
       "IT staff                   200\n",
       "Name: OCCUPATION_TYPE, dtype: int64"
      ]
     },
     "execution_count": 6,
     "metadata": {},
     "output_type": "execute_result"
    }
   ],
   "source": [
    "df['OCCUPATION_TYPE'].value_counts()"
   ]
  },
  {
   "cell_type": "markdown",
   "metadata": {},
   "source": [
    "Since there is no clear ordinal positioning between different occupations, we can use One Hot Encoding for occupation type as well. We will use the pandas function get_dummies() to encode both categorical variables at the same time."
   ]
  },
  {
   "cell_type": "code",
   "execution_count": 7,
   "metadata": {},
   "outputs": [],
   "source": [
    "df = pd.get_dummies(df, columns = ['NAME_EDUCATION_TYPE', 'OCCUPATION_TYPE'], drop_first = True)"
   ]
  },
  {
   "cell_type": "code",
   "execution_count": 8,
   "metadata": {},
   "outputs": [
    {
     "data": {
      "text/html": [
       "<div>\n",
       "<style scoped>\n",
       "    .dataframe tbody tr th:only-of-type {\n",
       "        vertical-align: middle;\n",
       "    }\n",
       "\n",
       "    .dataframe tbody tr th {\n",
       "        vertical-align: top;\n",
       "    }\n",
       "\n",
       "    .dataframe thead th {\n",
       "        text-align: right;\n",
       "    }\n",
       "</style>\n",
       "<table border=\"1\" class=\"dataframe\">\n",
       "  <thead>\n",
       "    <tr style=\"text-align: right;\">\n",
       "      <th></th>\n",
       "      <th>AMT_INCOME_TOTAL</th>\n",
       "      <th>APARTMENTS_MODE</th>\n",
       "      <th>BASEMENTAREA_AVG</th>\n",
       "      <th>ENTRANCES_AVG</th>\n",
       "      <th>EXT_SOURCE_1</th>\n",
       "      <th>EXT_SOURCE_2</th>\n",
       "      <th>EXT_SOURCE_3</th>\n",
       "      <th>FLOORSMAX_MODE</th>\n",
       "      <th>LANDAREA_AVG</th>\n",
       "      <th>LIVE_CITY_NOT_WORK_CITY</th>\n",
       "      <th>NONLIVINGAREA_MODE</th>\n",
       "      <th>REGION_POPULATION_RELATIVE</th>\n",
       "      <th>REGION_RATING_CLIENT</th>\n",
       "      <th>REG_CITY_NOT_LIVE_CITY</th>\n",
       "      <th>TOTALAREA_MODE</th>\n",
       "      <th>YEARS_BEGINEXPLUATATION_MODE</th>\n",
       "      <th>YEARS_BIRTH</th>\n",
       "      <th>YEARS_BUILD_MODE</th>\n",
       "      <th>YEARS_EMPLOYED</th>\n",
       "      <th>YEARS_LAST_PHONE_CHANGE</th>\n",
       "      <th>TARGET</th>\n",
       "      <th>NAME_EDUCATION_TYPE_Higher education</th>\n",
       "      <th>NAME_EDUCATION_TYPE_Incomplete higher</th>\n",
       "      <th>NAME_EDUCATION_TYPE_Lower secondary</th>\n",
       "      <th>NAME_EDUCATION_TYPE_Secondary / secondary special</th>\n",
       "      <th>OCCUPATION_TYPE_Cleaning staff</th>\n",
       "      <th>OCCUPATION_TYPE_Cooking staff</th>\n",
       "      <th>OCCUPATION_TYPE_Core staff</th>\n",
       "      <th>OCCUPATION_TYPE_Drivers</th>\n",
       "      <th>OCCUPATION_TYPE_HR staff</th>\n",
       "      <th>OCCUPATION_TYPE_High skill tech staff</th>\n",
       "      <th>OCCUPATION_TYPE_IT staff</th>\n",
       "      <th>OCCUPATION_TYPE_Laborers</th>\n",
       "      <th>OCCUPATION_TYPE_Low-skill Laborers</th>\n",
       "      <th>OCCUPATION_TYPE_Managers</th>\n",
       "      <th>OCCUPATION_TYPE_Medicine staff</th>\n",
       "      <th>OCCUPATION_TYPE_Others</th>\n",
       "      <th>OCCUPATION_TYPE_Private service staff</th>\n",
       "      <th>OCCUPATION_TYPE_Realty agents</th>\n",
       "      <th>OCCUPATION_TYPE_Sales staff</th>\n",
       "      <th>OCCUPATION_TYPE_Secretaries</th>\n",
       "      <th>OCCUPATION_TYPE_Security staff</th>\n",
       "      <th>OCCUPATION_TYPE_Waiters/barmen staff</th>\n",
       "    </tr>\n",
       "  </thead>\n",
       "  <tbody>\n",
       "    <tr>\n",
       "      <th>0</th>\n",
       "      <td>270000.0</td>\n",
       "      <td>0.0924</td>\n",
       "      <td>0.0529</td>\n",
       "      <td>0.0345</td>\n",
       "      <td>0.311267</td>\n",
       "      <td>0.622246</td>\n",
       "      <td>0.481121</td>\n",
       "      <td>0.2917</td>\n",
       "      <td>0.0130</td>\n",
       "      <td>0</td>\n",
       "      <td>0.0000</td>\n",
       "      <td>0.003541</td>\n",
       "      <td>1</td>\n",
       "      <td>0</td>\n",
       "      <td>0.0714</td>\n",
       "      <td>0.9851</td>\n",
       "      <td>45.931507</td>\n",
       "      <td>0.8040</td>\n",
       "      <td>3.254795</td>\n",
       "      <td>2.268493</td>\n",
       "      <td>0</td>\n",
       "      <td>1</td>\n",
       "      <td>0</td>\n",
       "      <td>0</td>\n",
       "      <td>0</td>\n",
       "      <td>0</td>\n",
       "      <td>0</td>\n",
       "      <td>1</td>\n",
       "      <td>0</td>\n",
       "      <td>0</td>\n",
       "      <td>0</td>\n",
       "      <td>0</td>\n",
       "      <td>0</td>\n",
       "      <td>0</td>\n",
       "      <td>0</td>\n",
       "      <td>0</td>\n",
       "      <td>0</td>\n",
       "      <td>0</td>\n",
       "      <td>0</td>\n",
       "      <td>0</td>\n",
       "      <td>0</td>\n",
       "      <td>0</td>\n",
       "      <td>0</td>\n",
       "    </tr>\n",
       "    <tr>\n",
       "      <th>1</th>\n",
       "      <td>225000.0</td>\n",
       "      <td>0.1502</td>\n",
       "      <td>0.0973</td>\n",
       "      <td>0.1379</td>\n",
       "      <td>0.478860</td>\n",
       "      <td>0.566907</td>\n",
       "      <td>0.770087</td>\n",
       "      <td>0.3333</td>\n",
       "      <td>0.0931</td>\n",
       "      <td>0</td>\n",
       "      <td>0.0000</td>\n",
       "      <td>0.016612</td>\n",
       "      <td>2</td>\n",
       "      <td>0</td>\n",
       "      <td>0.1417</td>\n",
       "      <td>0.9806</td>\n",
       "      <td>38.591781</td>\n",
       "      <td>0.7452</td>\n",
       "      <td>8.295890</td>\n",
       "      <td>0.010959</td>\n",
       "      <td>0</td>\n",
       "      <td>0</td>\n",
       "      <td>0</td>\n",
       "      <td>0</td>\n",
       "      <td>1</td>\n",
       "      <td>0</td>\n",
       "      <td>0</td>\n",
       "      <td>0</td>\n",
       "      <td>1</td>\n",
       "      <td>0</td>\n",
       "      <td>0</td>\n",
       "      <td>0</td>\n",
       "      <td>0</td>\n",
       "      <td>0</td>\n",
       "      <td>0</td>\n",
       "      <td>0</td>\n",
       "      <td>0</td>\n",
       "      <td>0</td>\n",
       "      <td>0</td>\n",
       "      <td>0</td>\n",
       "      <td>0</td>\n",
       "      <td>0</td>\n",
       "      <td>0</td>\n",
       "    </tr>\n",
       "    <tr>\n",
       "      <th>2</th>\n",
       "      <td>189000.0</td>\n",
       "      <td>0.3561</td>\n",
       "      <td>0.1335</td>\n",
       "      <td>0.1724</td>\n",
       "      <td>0.721940</td>\n",
       "      <td>0.642656</td>\n",
       "      <td>0.481121</td>\n",
       "      <td>0.6667</td>\n",
       "      <td>0.1758</td>\n",
       "      <td>0</td>\n",
       "      <td>0.1060</td>\n",
       "      <td>0.010006</td>\n",
       "      <td>2</td>\n",
       "      <td>0</td>\n",
       "      <td>0.3811</td>\n",
       "      <td>0.9985</td>\n",
       "      <td>39.953425</td>\n",
       "      <td>0.9804</td>\n",
       "      <td>0.556164</td>\n",
       "      <td>0.515068</td>\n",
       "      <td>0</td>\n",
       "      <td>0</td>\n",
       "      <td>0</td>\n",
       "      <td>0</td>\n",
       "      <td>1</td>\n",
       "      <td>0</td>\n",
       "      <td>0</td>\n",
       "      <td>0</td>\n",
       "      <td>0</td>\n",
       "      <td>0</td>\n",
       "      <td>0</td>\n",
       "      <td>0</td>\n",
       "      <td>1</td>\n",
       "      <td>0</td>\n",
       "      <td>0</td>\n",
       "      <td>0</td>\n",
       "      <td>0</td>\n",
       "      <td>0</td>\n",
       "      <td>0</td>\n",
       "      <td>0</td>\n",
       "      <td>0</td>\n",
       "      <td>0</td>\n",
       "      <td>0</td>\n",
       "    </tr>\n",
       "    <tr>\n",
       "      <th>3</th>\n",
       "      <td>112500.0</td>\n",
       "      <td>0.0284</td>\n",
       "      <td>0.0617</td>\n",
       "      <td>0.1034</td>\n",
       "      <td>0.478860</td>\n",
       "      <td>0.706428</td>\n",
       "      <td>0.556727</td>\n",
       "      <td>0.0833</td>\n",
       "      <td>0.0279</td>\n",
       "      <td>0</td>\n",
       "      <td>0.0000</td>\n",
       "      <td>0.046220</td>\n",
       "      <td>1</td>\n",
       "      <td>0</td>\n",
       "      <td>0.0238</td>\n",
       "      <td>0.9881</td>\n",
       "      <td>48.542466</td>\n",
       "      <td>0.8432</td>\n",
       "      <td>21.380822</td>\n",
       "      <td>0.654795</td>\n",
       "      <td>0</td>\n",
       "      <td>0</td>\n",
       "      <td>0</td>\n",
       "      <td>0</td>\n",
       "      <td>1</td>\n",
       "      <td>0</td>\n",
       "      <td>0</td>\n",
       "      <td>0</td>\n",
       "      <td>0</td>\n",
       "      <td>0</td>\n",
       "      <td>0</td>\n",
       "      <td>0</td>\n",
       "      <td>1</td>\n",
       "      <td>0</td>\n",
       "      <td>0</td>\n",
       "      <td>0</td>\n",
       "      <td>0</td>\n",
       "      <td>0</td>\n",
       "      <td>0</td>\n",
       "      <td>0</td>\n",
       "      <td>0</td>\n",
       "      <td>0</td>\n",
       "      <td>0</td>\n",
       "    </tr>\n",
       "    <tr>\n",
       "      <th>4</th>\n",
       "      <td>135000.0</td>\n",
       "      <td>0.1460</td>\n",
       "      <td>0.1455</td>\n",
       "      <td>0.3103</td>\n",
       "      <td>0.478860</td>\n",
       "      <td>0.786179</td>\n",
       "      <td>0.565608</td>\n",
       "      <td>0.1667</td>\n",
       "      <td>0.0861</td>\n",
       "      <td>1</td>\n",
       "      <td>0.0045</td>\n",
       "      <td>0.026392</td>\n",
       "      <td>2</td>\n",
       "      <td>0</td>\n",
       "      <td>0.0967</td>\n",
       "      <td>0.9861</td>\n",
       "      <td>30.920548</td>\n",
       "      <td>0.8171</td>\n",
       "      <td>2.043836</td>\n",
       "      <td>0.010959</td>\n",
       "      <td>0</td>\n",
       "      <td>0</td>\n",
       "      <td>0</td>\n",
       "      <td>0</td>\n",
       "      <td>1</td>\n",
       "      <td>0</td>\n",
       "      <td>0</td>\n",
       "      <td>0</td>\n",
       "      <td>1</td>\n",
       "      <td>0</td>\n",
       "      <td>0</td>\n",
       "      <td>0</td>\n",
       "      <td>0</td>\n",
       "      <td>0</td>\n",
       "      <td>0</td>\n",
       "      <td>0</td>\n",
       "      <td>0</td>\n",
       "      <td>0</td>\n",
       "      <td>0</td>\n",
       "      <td>0</td>\n",
       "      <td>0</td>\n",
       "      <td>0</td>\n",
       "      <td>0</td>\n",
       "    </tr>\n",
       "  </tbody>\n",
       "</table>\n",
       "</div>"
      ],
      "text/plain": [
       "   AMT_INCOME_TOTAL  APARTMENTS_MODE  BASEMENTAREA_AVG  ENTRANCES_AVG  EXT_SOURCE_1  EXT_SOURCE_2  EXT_SOURCE_3  FLOORSMAX_MODE  LANDAREA_AVG  LIVE_CITY_NOT_WORK_CITY  NONLIVINGAREA_MODE  REGION_POPULATION_RELATIVE  REGION_RATING_CLIENT  REG_CITY_NOT_LIVE_CITY  TOTALAREA_MODE  YEARS_BEGINEXPLUATATION_MODE  YEARS_BIRTH  YEARS_BUILD_MODE  YEARS_EMPLOYED  YEARS_LAST_PHONE_CHANGE  TARGET  NAME_EDUCATION_TYPE_Higher education  NAME_EDUCATION_TYPE_Incomplete higher  NAME_EDUCATION_TYPE_Lower secondary  NAME_EDUCATION_TYPE_Secondary / secondary special  OCCUPATION_TYPE_Cleaning staff  OCCUPATION_TYPE_Cooking staff  OCCUPATION_TYPE_Core staff  OCCUPATION_TYPE_Drivers  OCCUPATION_TYPE_HR staff  OCCUPATION_TYPE_High skill tech staff  OCCUPATION_TYPE_IT staff  OCCUPATION_TYPE_Laborers  OCCUPATION_TYPE_Low-skill Laborers  OCCUPATION_TYPE_Managers  OCCUPATION_TYPE_Medicine staff  OCCUPATION_TYPE_Others  OCCUPATION_TYPE_Private service staff  OCCUPATION_TYPE_Realty agents  \\\n",
       "0          270000.0           0.0924            0.0529         0.0345      0.311267      0.622246      0.481121          0.2917        0.0130                        0              0.0000                    0.003541                     1                       0          0.0714                        0.9851    45.931507            0.8040        3.254795                 2.268493       0                                     1                                      0                                    0                                                  0                               0                              0                           1                        0                         0                                      0                         0                         0                                   0                         0                               0                       0                                      0                              0   \n",
       "1          225000.0           0.1502            0.0973         0.1379      0.478860      0.566907      0.770087          0.3333        0.0931                        0              0.0000                    0.016612                     2                       0          0.1417                        0.9806    38.591781            0.7452        8.295890                 0.010959       0                                     0                                      0                                    0                                                  1                               0                              0                           0                        1                         0                                      0                         0                         0                                   0                         0                               0                       0                                      0                              0   \n",
       "2          189000.0           0.3561            0.1335         0.1724      0.721940      0.642656      0.481121          0.6667        0.1758                        0              0.1060                    0.010006                     2                       0          0.3811                        0.9985    39.953425            0.9804        0.556164                 0.515068       0                                     0                                      0                                    0                                                  1                               0                              0                           0                        0                         0                                      0                         0                         1                                   0                         0                               0                       0                                      0                              0   \n",
       "3          112500.0           0.0284            0.0617         0.1034      0.478860      0.706428      0.556727          0.0833        0.0279                        0              0.0000                    0.046220                     1                       0          0.0238                        0.9881    48.542466            0.8432       21.380822                 0.654795       0                                     0                                      0                                    0                                                  1                               0                              0                           0                        0                         0                                      0                         0                         1                                   0                         0                               0                       0                                      0                              0   \n",
       "4          135000.0           0.1460            0.1455         0.3103      0.478860      0.786179      0.565608          0.1667        0.0861                        1              0.0045                    0.026392                     2                       0          0.0967                        0.9861    30.920548            0.8171        2.043836                 0.010959       0                                     0                                      0                                    0                                                  1                               0                              0                           0                        1                         0                                      0                         0                         0                                   0                         0                               0                       0                                      0                              0   \n",
       "\n",
       "   OCCUPATION_TYPE_Sales staff  OCCUPATION_TYPE_Secretaries  OCCUPATION_TYPE_Security staff  OCCUPATION_TYPE_Waiters/barmen staff  \n",
       "0                            0                            0                               0                                     0  \n",
       "1                            0                            0                               0                                     0  \n",
       "2                            0                            0                               0                                     0  \n",
       "3                            0                            0                               0                                     0  \n",
       "4                            0                            0                               0                                     0  "
      ]
     },
     "execution_count": 8,
     "metadata": {},
     "output_type": "execute_result"
    }
   ],
   "source": [
    "df.head()"
   ]
  },
  {
   "cell_type": "code",
   "execution_count": 112,
   "metadata": {},
   "outputs": [
    {
     "data": {
      "text/plain": [
       "(80603, 43)"
      ]
     },
     "execution_count": 112,
     "metadata": {},
     "output_type": "execute_result"
    }
   ],
   "source": [
    "df.shape"
   ]
  },
  {
   "cell_type": "markdown",
   "metadata": {},
   "source": [
    "Both features OCCUPATION_TYPE and NAME_EDUCATION_TYPE have been encoded. The dataset is ready for modeling."
   ]
  },
  {
   "cell_type": "markdown",
   "metadata": {},
   "source": [
    "## Applying Machine Learning Models"
   ]
  },
  {
   "cell_type": "code",
   "execution_count": 9,
   "metadata": {},
   "outputs": [],
   "source": [
    "from sklearn.linear_model import LogisticRegression\n",
    "from sklearn.metrics import confusion_matrix, classification_report\n",
    "from sklearn.model_selection import train_test_split"
   ]
  },
  {
   "cell_type": "markdown",
   "metadata": {},
   "source": [
    "Let's start with splitting the dataframe into independent and dependent variables. The independent variable (y) will be the target variable and the dependent variables (X) will consist of all the remaining predictor variables."
   ]
  },
  {
   "cell_type": "code",
   "execution_count": 10,
   "metadata": {},
   "outputs": [],
   "source": [
    "X = df[df.columns[~df.columns.isin(['TARGET'])]].copy()\n",
    "y = df['TARGET'].copy()"
   ]
  },
  {
   "cell_type": "markdown",
   "metadata": {},
   "source": [
    "Next, we will split the data into a training and testing set, using a 70/30 split."
   ]
  },
  {
   "cell_type": "code",
   "execution_count": 11,
   "metadata": {},
   "outputs": [],
   "source": [
    "#split data into training and testing set\n",
    "X_train, X_test, y_train, y_test = train_test_split(X, y, test_size = 0.3)"
   ]
  },
  {
   "cell_type": "markdown",
   "metadata": {},
   "source": [
    "### Random Forest Classifier\n",
    "We will use random forest, which combines many decision trees to try to accomplish better overall model performance. Let's start with the default parameters."
   ]
  },
  {
   "cell_type": "code",
   "execution_count": 12,
   "metadata": {},
   "outputs": [],
   "source": [
    "from sklearn.ensemble import RandomForestClassifier\n",
    "from sklearn.metrics import roc_auc_score\n",
    "from sklearn.metrics import roc_curve\n",
    "\n",
    "classifier = RandomForestClassifier()\n",
    "classifier.fit(X_train, y_train)\n",
    "y_pred = classifier.predict(X_test)"
   ]
  },
  {
   "cell_type": "markdown",
   "metadata": {},
   "source": [
    "Feature Importance for out of the box model."
   ]
  },
  {
   "cell_type": "code",
   "execution_count": 28,
   "metadata": {},
   "outputs": [
    {
     "name": "stdout",
     "output_type": "stream",
     "text": [
      "Feature AMT_INCOME_TOTAL Importance 0.1730563670125941\n",
      "Feature APARTMENTS_MODE Importance 0.14192914893431346\n",
      "Feature BASEMENTAREA_AVG Importance 0.0867999469349453\n",
      "Feature ENTRANCES_AVG Importance 0.08527633597143038\n",
      "Feature EXT_SOURCE_1 Importance 0.06713900187524749\n",
      "Feature EXT_SOURCE_2 Importance 0.059604067587653374\n",
      "Feature EXT_SOURCE_3 Importance 0.057715337659170904\n",
      "Feature FLOORSMAX_MODE Importance 0.057011271681022824\n",
      "Feature LANDAREA_AVG Importance 0.04195055719607711\n",
      "Feature LIVE_CITY_NOT_WORK_CITY Importance 0.03384318176600589\n",
      "Feature NONLIVINGAREA_MODE Importance 0.0278353938601831\n",
      "Feature REGION_POPULATION_RELATIVE Importance 0.025605589781960536\n",
      "Feature REGION_RATING_CLIENT Importance 0.024293807300825775\n",
      "Feature REG_CITY_NOT_LIVE_CITY Importance 0.02376108161186963\n",
      "Feature TOTALAREA_MODE Importance 0.020078756921563325\n",
      "Feature YEARS_BEGINEXPLUATATION_MODE Importance 0.019175940972013073\n",
      "Feature YEARS_BIRTH Importance 0.009037931893981908\n",
      "Feature YEARS_BUILD_MODE Importance 0.005695981642809305\n",
      "Feature YEARS_EMPLOYED Importance 0.004623241075694241\n",
      "Feature YEARS_LAST_PHONE_CHANGE Importance 0.00370629003723911\n",
      "Feature NAME_EDUCATION_TYPE_Higher education Importance 0.0029211547249723474\n",
      "Feature NAME_EDUCATION_TYPE_Incomplete higher Importance 0.002875902590287625\n",
      "Feature NAME_EDUCATION_TYPE_Lower secondary Importance 0.002788649049377306\n",
      "Feature NAME_EDUCATION_TYPE_Secondary / secondary special Importance 0.0026670924675388707\n",
      "Feature OCCUPATION_TYPE_Cleaning staff Importance 0.002619058599302616\n",
      "Feature OCCUPATION_TYPE_Cooking staff Importance 0.0023555813983699115\n",
      "Feature OCCUPATION_TYPE_Core staff Importance 0.0018234194528466586\n",
      "Feature OCCUPATION_TYPE_Drivers Importance 0.0017357047180906597\n",
      "Feature OCCUPATION_TYPE_HR staff Importance 0.0016293544647931885\n",
      "Feature OCCUPATION_TYPE_High skill tech staff Importance 0.0014014832479832386\n",
      "Feature OCCUPATION_TYPE_IT staff Importance 0.001342474525770374\n",
      "Feature OCCUPATION_TYPE_Laborers Importance 0.0011432781006136873\n",
      "Feature OCCUPATION_TYPE_Low-skill Laborers Importance 0.0010782604293927908\n",
      "Feature OCCUPATION_TYPE_Managers Importance 0.0009665792941930086\n",
      "Feature OCCUPATION_TYPE_Medicine staff Importance 0.0008495387097491545\n",
      "Feature OCCUPATION_TYPE_Others Importance 0.0007383388148382219\n",
      "Feature OCCUPATION_TYPE_Private service staff Importance 0.0007202765748508868\n",
      "Feature OCCUPATION_TYPE_Realty agents Importance 0.0007028494592269551\n",
      "Feature OCCUPATION_TYPE_Sales staff Importance 0.0005929299901275831\n",
      "Feature OCCUPATION_TYPE_Secretaries Importance 0.00047727958770664246\n",
      "Feature OCCUPATION_TYPE_Security staff Importance 0.00022303083156003249\n",
      "Feature OCCUPATION_TYPE_Waiters/barmen staff Importance 0.0002085312518074379\n"
     ]
    }
   ],
   "source": [
    "for feature, importance in zip(X_train.columns, pd.Series(classifier.feature_importances_).sort_values(ascending = False)):\n",
    "    print('Feature',feature, 'Importance', importance)"
   ]
  },
  {
   "cell_type": "code",
   "execution_count": 29,
   "metadata": {},
   "outputs": [
    {
     "name": "stdout",
     "output_type": "stream",
     "text": [
      "\n",
      "Classification report: \n",
      "              precision    recall  f1-score   support\n",
      "\n",
      "          0       0.91      0.99      0.95     18462\n",
      "          1       0.96      0.67      0.79      5719\n",
      "\n",
      "avg / total       0.92      0.91      0.91     24181\n",
      "\n"
     ]
    }
   ],
   "source": [
    "print('\\nClassification report: \\n',classification_report(y_test, y_pred))"
   ]
  },
  {
   "cell_type": "code",
   "execution_count": 30,
   "metadata": {},
   "outputs": [
    {
     "name": "stdout",
     "output_type": "stream",
     "text": [
      "Accuracy score: 0.9143955998511227\n"
     ]
    }
   ],
   "source": [
    "from sklearn.metrics import accuracy_score\n",
    "print('Accuracy score:',accuracy_score(y_test, y_pred))"
   ]
  },
  {
   "cell_type": "code",
   "execution_count": 31,
   "metadata": {},
   "outputs": [
    {
     "name": "stdout",
     "output_type": "stream",
     "text": [
      "Confusion matrix: \n",
      " [[18299   163]\n",
      " [ 1907  3812]]\n"
     ]
    }
   ],
   "source": [
    "print('Confusion matrix: \\n',confusion_matrix(y_test, y_pred))"
   ]
  },
  {
   "cell_type": "code",
   "execution_count": 32,
   "metadata": {},
   "outputs": [
    {
     "data": {
      "text/plain": [
       "0.8288605751138206"
      ]
     },
     "execution_count": 32,
     "metadata": {},
     "output_type": "execute_result"
    }
   ],
   "source": [
    "roc_auc_score(y_test, y_pred)"
   ]
  },
  {
   "cell_type": "code",
   "execution_count": 33,
   "metadata": {},
   "outputs": [
    {
     "name": "stdout",
     "output_type": "stream",
     "text": [
      "0    20206\n",
      "1     3975\n",
      "dtype: int64\n",
      "0    18462\n",
      "1     5719\n",
      "Name: TARGET, dtype: int64\n"
     ]
    }
   ],
   "source": [
    "print(pd.Series(y_pred).value_counts())\n",
    "print(y_test.value_counts())"
   ]
  },
  {
   "cell_type": "code",
   "execution_count": 34,
   "metadata": {},
   "outputs": [
    {
     "data": {
      "text/plain": [
       "0.8288605751138206"
      ]
     },
     "execution_count": 34,
     "metadata": {},
     "output_type": "execute_result"
    }
   ],
   "source": [
    "#Same as running roc_auc_score(y_test, y_pred) above\n",
    "from sklearn.metrics import auc\n",
    "fp_rate, tp_rate, thresholds = roc_curve(y_test, y_pred)\n",
    "roc_auc = auc(fp_rate, tp_rate)\n",
    "roc_auc"
   ]
  },
  {
   "cell_type": "code",
   "execution_count": 35,
   "metadata": {},
   "outputs": [
    {
     "data": {
      "image/png": "[encoded data removed]",
      "text/plain": [
       "<Figure size 432x288 with 1 Axes>"
      ]
     },
     "metadata": {},
     "output_type": "display_data"
    }
   ],
   "source": [
    "plt.plot(fp_rate,tp_rate)\n",
    "plt.plot([0, 1], [0, 1], linestyle='--')\n",
    "plt.xlim([0.0,1.0])\n",
    "plt.ylim([0.0, 1.0])\n",
    "plt.title('ROC Curve')\n",
    "plt.xlabel('False Positive Rate (1-Specificity)')\n",
    "plt.ylabel('True Positive Rate (Sensitivity)')\n",
    "plt.grid(True)"
   ]
  },
  {
   "cell_type": "markdown",
   "metadata": {},
   "source": [
    "The baseline Random Forest Classifier model yielded an Area Under Curve of 0.83011. Let's try to tune the hyperparameters to see if we can improve this result."
   ]
  },
  {
   "cell_type": "code",
   "execution_count": 68,
   "metadata": {},
   "outputs": [
    {
     "name": "stdout",
     "output_type": "stream",
     "text": [
      "AUC score for 10 estimators is: 0.8286987637284852\n",
      "AUC score for 20 estimators is: 0.8317004619196388\n",
      "AUC score for 30 estimators is: 0.8357495955491482\n",
      "AUC score for 40 estimators is: 0.8385993364817907\n",
      "AUC score for 50 estimators is: 0.8368578383077478\n",
      "AUC score for 60 estimators is: 0.8392773780146462\n",
      "AUC score for 70 estimators is: 0.839294976920922\n",
      "AUC score for 80 estimators is: 0.8396627931229783\n",
      "AUC score for 90 estimators is: 0.8406766694943246\n",
      "AUC score for 100 estimators is: 0.8384218307576855\n",
      "AUC score for 110 estimators is: 0.8382299425762901\n",
      "AUC score for 120 estimators is: 0.839789140873798\n",
      "AUC score for 130 estimators is: 0.8416985564670861\n",
      "AUC score for 140 estimators is: 0.8400977885011526\n",
      "AUC score for 150 estimators is: 0.8418073053116297\n",
      "AUC score for 160 estimators is: 0.8417849122529238\n",
      "AUC score for 170 estimators is: 0.8403392569523896\n",
      "AUC score for 180 estimators is: 0.8418025111591999\n",
      "AUC score for 190 estimators is: 0.8406798859433103\n"
     ]
    }
   ],
   "source": [
    "#find optimal estimators n\n",
    "\n",
    "for i in range(10,200,10):\n",
    "    class2 = RandomForestClassifier(n_estimators = i, n_jobs = -1)\n",
    "    class2.fit(X_train, y_train)\n",
    "    y_pred = class2.predict(X_test)\n",
    "    print('AUC score for', i, 'estimators is:', roc_auc_score(y_test, y_pred))\n",
    "    \n",
    "    "
   ]
  },
  {
   "cell_type": "markdown",
   "metadata": {},
   "source": [
    "Performance did not significantly improve as the number of estimators increased past a certain point. We will choose 60 estimators."
   ]
  },
  {
   "cell_type": "code",
   "execution_count": 41,
   "metadata": {},
   "outputs": [],
   "source": [
    "from sklearn.tree import export_graphviz\n",
    "import pydot\n",
    "tree = classifier.estimators_[5]\n",
    "\n",
    "#export_graphviz(tree, out_file = 'tree.dot', feature_names = list(X_train.columns), rounded = True, precision = 1)\n",
    "#(graph, ) = pydot.graph_from_dot_file('tree.dot')\n",
    "#graph.write_png('tree.png')"
   ]
  },
  {
   "cell_type": "markdown",
   "metadata": {},
   "source": [
    "### Hyperparameter Tuning\n",
    "Baseline predictive power is decent but let us see if we can do better with parameter tuning. Let's start by seeing what parameters the out of the box random forest model uses."
   ]
  },
  {
   "cell_type": "code",
   "execution_count": 44,
   "metadata": {},
   "outputs": [
    {
     "data": {
      "text/plain": [
       "{'bootstrap': True,\n",
       " 'class_weight': None,\n",
       " 'criterion': 'gini',\n",
       " 'max_depth': None,\n",
       " 'max_features': 'auto',\n",
       " 'max_leaf_nodes': None,\n",
       " 'min_impurity_decrease': 0.0,\n",
       " 'min_impurity_split': None,\n",
       " 'min_samples_leaf': 1,\n",
       " 'min_samples_split': 2,\n",
       " 'min_weight_fraction_leaf': 0.0,\n",
       " 'n_estimators': 10,\n",
       " 'n_jobs': 1,\n",
       " 'oob_score': False,\n",
       " 'random_state': None,\n",
       " 'verbose': 0,\n",
       " 'warm_start': False}"
      ]
     },
     "execution_count": 44,
     "metadata": {},
     "output_type": "execute_result"
    }
   ],
   "source": [
    "classifier.get_params()"
   ]
  },
  {
   "cell_type": "markdown",
   "metadata": {},
   "source": [
    "We will adjust the following hyperparameters:\n",
    "- bootstrap: method for sampling data points (with or without replacement)\n",
    "- max_depth: max levels in each decision tree\n",
    "- max_features: max features considered for splitting a node\n",
    "- min_samples_leaf: min number of data points allowed in a leaf node\n",
    "- min_samples_split: min number of data points put in a node before node is split\n",
    "- n_estimators: number of trees in the forest\n",
    "\n",
    "Since it will be too computationally expensive to exhaustively try every single parameter combination, we will use RandomizedSearchCV to take a random subset of possible parameter combinations."
   ]
  },
  {
   "cell_type": "code",
   "execution_count": 51,
   "metadata": {},
   "outputs": [],
   "source": [
    "from sklearn.model_selection import RandomizedSearchCV\n",
    "\n",
    "bootstrap = [True, False]\n",
    "max_depth = [i for i in range(10,100,10)]\n",
    "max_depth.append(None)\n",
    "max_features = ['sqrt', 'log2']\n",
    "min_samples_leaf = [1, 2, 3, 4, 5]\n",
    "min_samples_split = [i for i in range(2,12,2)]\n",
    "n_estimators = [i for i in range(10,110,10)]"
   ]
  },
  {
   "cell_type": "code",
   "execution_count": 55,
   "metadata": {},
   "outputs": [
    {
     "data": {
      "text/plain": [
       "{'bootstrap': [True, False],\n",
       " 'max_depth': [10, 20, 30, 40, 50, 60, 70, 80, 90, None],\n",
       " 'max_features': ['sqrt', 'log2'],\n",
       " 'min_samples_leaf': [1, 2, 3, 4, 5],\n",
       " 'min_samples_split': [2, 4, 6, 8, 10],\n",
       " 'n_estimators': [10, 20, 30, 40, 50, 60, 70, 80, 90, 100]}"
      ]
     },
     "execution_count": 55,
     "metadata": {},
     "output_type": "execute_result"
    }
   ],
   "source": [
    "random_grid = {'bootstrap': bootstrap,\n",
    "                'max_depth': max_depth,\n",
    "                'max_features': max_features,\n",
    "                'min_samples_leaf': min_samples_leaf,\n",
    "                'min_samples_split': min_samples_split,\n",
    "                'n_estimators': n_estimators}\n",
    "random_grid"
   ]
  },
  {
   "cell_type": "code",
   "execution_count": 56,
   "metadata": {},
   "outputs": [
    {
     "name": "stdout",
     "output_type": "stream",
     "text": [
      "Fitting 5 folds for each of 10 candidates, totalling 50 fits\n"
     ]
    },
    {
     "name": "stderr",
     "output_type": "stream",
     "text": [
      "[Parallel(n_jobs=-1)]: Done  33 tasks      | elapsed:  1.9min\n",
      "[Parallel(n_jobs=-1)]: Done  50 out of  50 | elapsed:  4.9min finished\n"
     ]
    },
    {
     "data": {
      "text/plain": [
       "RandomizedSearchCV(cv=5, error_score='raise',\n",
       "          estimator=RandomForestClassifier(bootstrap=True, class_weight=None, criterion='gini',\n",
       "            max_depth=None, max_features='auto', max_leaf_nodes=None,\n",
       "            min_impurity_decrease=0.0, min_impurity_split=None,\n",
       "            min_samples_leaf=1, min_samples_split=2,\n",
       "            min_weight_fraction_leaf=0.0, n_estimators=10, n_jobs=1,\n",
       "            oob_score=False, random_state=None, verbose=0,\n",
       "            warm_start=False),\n",
       "          fit_params=None, iid=True, n_iter=10, n_jobs=-1,\n",
       "          param_distributions={'bootstrap': [True, False], 'max_depth': [10, 20, 30, 40, 50, 60, 70, 80, 90, None], 'max_features': ['sqrt', 'log2'], 'min_samples_leaf': [1, 2, 3, 4, 5], 'min_samples_split': [2, 4, 6, 8, 10], 'n_estimators': [10, 20, 30, 40, 50, 60, 70, 80, 90, 100]},\n",
       "          pre_dispatch='2*n_jobs', random_state=42, refit=True,\n",
       "          return_train_score='warn', scoring=None, verbose=2)"
      ]
     },
     "execution_count": 56,
     "metadata": {},
     "output_type": "execute_result"
    }
   ],
   "source": [
    "rf_cv = RandomizedSearchCV(estimator = RandomForestClassifier(), param_distributions = random_grid, n_iter = 10, cv = 5, verbose = 2, random_state = 42, n_jobs = -1)\n",
    "rf_cv.fit(X_train, y_train)"
   ]
  },
  {
   "cell_type": "code",
   "execution_count": 57,
   "metadata": {},
   "outputs": [
    {
     "data": {
      "text/plain": [
       "{'n_estimators': 90,\n",
       " 'min_samples_split': 6,\n",
       " 'min_samples_leaf': 2,\n",
       " 'max_features': 'sqrt',\n",
       " 'max_depth': 20,\n",
       " 'bootstrap': False}"
      ]
     },
     "execution_count": 57,
     "metadata": {},
     "output_type": "execute_result"
    }
   ],
   "source": [
    "rf_cv.best_params_"
   ]
  },
  {
   "cell_type": "code",
   "execution_count": 58,
   "metadata": {},
   "outputs": [
    {
     "data": {
      "text/plain": [
       "0.9205451774130659"
      ]
     },
     "execution_count": 58,
     "metadata": {},
     "output_type": "execute_result"
    }
   ],
   "source": [
    "rf_cv.best_score_"
   ]
  },
  {
   "cell_type": "code",
   "execution_count": 61,
   "metadata": {},
   "outputs": [
    {
     "name": "stderr",
     "output_type": "stream",
     "text": [
      "C:\\Users\\Saumit\\Anaconda3\\lib\\site-packages\\sklearn\\model_selection\\_search.py:761: DeprecationWarning: The grid_scores_ attribute was deprecated in version 0.18 in favor of the more elaborate cv_results_ attribute. The grid_scores_ attribute will not be available from 0.20\n",
      "  DeprecationWarning)\n"
     ]
    },
    {
     "data": {
      "text/plain": [
       "[mean: 0.91539, std: 0.00259, params: {'n_estimators': 10, 'min_samples_split': 6, 'min_samples_leaf': 1, 'max_features': 'log2', 'max_depth': 50, 'bootstrap': False},\n",
       " mean: 0.91480, std: 0.00330, params: {'n_estimators': 10, 'min_samples_split': 4, 'min_samples_leaf': 3, 'max_features': 'log2', 'max_depth': 20, 'bootstrap': True},\n",
       " mean: 0.91011, std: 0.00304, params: {'n_estimators': 10, 'min_samples_split': 10, 'min_samples_leaf': 3, 'max_features': 'log2', 'max_depth': 10, 'bootstrap': False},\n",
       " mean: 0.91395, std: 0.00314, params: {'n_estimators': 20, 'min_samples_split': 10, 'min_samples_leaf': 4, 'max_features': 'sqrt', 'max_depth': 10, 'bootstrap': False},\n",
       " mean: 0.92035, std: 0.00275, params: {'n_estimators': 50, 'min_samples_split': 8, 'min_samples_leaf': 5, 'max_features': 'sqrt', 'max_depth': 20, 'bootstrap': False},\n",
       " mean: 0.92001, std: 0.00286, params: {'n_estimators': 60, 'min_samples_split': 4, 'min_samples_leaf': 1, 'max_features': 'log2', 'max_depth': 30, 'bootstrap': False},\n",
       " mean: 0.90988, std: 0.00272, params: {'n_estimators': 70, 'min_samples_split': 4, 'min_samples_leaf': 5, 'max_features': 'log2', 'max_depth': 10, 'bootstrap': True},\n",
       " mean: 0.91744, std: 0.00197, params: {'n_estimators': 70, 'min_samples_split': 6, 'min_samples_leaf': 4, 'max_features': 'log2', 'max_depth': 90, 'bootstrap': True},\n",
       " mean: 0.92055, std: 0.00259, params: {'n_estimators': 90, 'min_samples_split': 6, 'min_samples_leaf': 2, 'max_features': 'sqrt', 'max_depth': 20, 'bootstrap': False},\n",
       " mean: 0.91964, std: 0.00223, params: {'n_estimators': 30, 'min_samples_split': 6, 'min_samples_leaf': 2, 'max_features': 'log2', 'max_depth': 70, 'bootstrap': False}]"
      ]
     },
     "execution_count": 61,
     "metadata": {},
     "output_type": "execute_result"
    }
   ],
   "source": [
    "rf_cv.grid_scores_"
   ]
  },
  {
   "cell_type": "code",
   "execution_count": 62,
   "metadata": {},
   "outputs": [],
   "source": [
    "best_pred = rf_cv.best_estimator_.predict(X_test)"
   ]
  },
  {
   "cell_type": "code",
   "execution_count": 63,
   "metadata": {},
   "outputs": [
    {
     "data": {
      "text/plain": [
       "0.8317227937314623"
      ]
     },
     "execution_count": 63,
     "metadata": {},
     "output_type": "execute_result"
    }
   ],
   "source": [
    "roc_auc_score(y_test, best_pred)"
   ]
  },
  {
   "cell_type": "markdown",
   "metadata": {},
   "source": [
    "### XGBoost\n",
    "Extreme Gradient Boosting"
   ]
  },
  {
   "cell_type": "code",
   "execution_count": 65,
   "metadata": {},
   "outputs": [],
   "source": [
    "import xgboost as xgb"
   ]
  },
  {
   "cell_type": "code",
   "execution_count": 66,
   "metadata": {},
   "outputs": [],
   "source": [
    "data_dm = xgb.DMatrix(data = X_train, label = y_train)"
   ]
  },
  {
   "cell_type": "code",
   "execution_count": 86,
   "metadata": {},
   "outputs": [
    {
     "name": "stderr",
     "output_type": "stream",
     "text": [
      "C:\\Users\\Saumit\\Anaconda3\\lib\\site-packages\\sklearn\\preprocessing\\label.py:151: DeprecationWarning: The truth value of an empty array is ambiguous. Returning False, but in future this will result in an error. Use `array.size > 0` to check that an array is not empty.\n",
      "  if diff:\n"
     ]
    }
   ],
   "source": [
    "xg_class = xgb.XGBClassifier()\n",
    "xg_class.fit(X_train, y_train)\n",
    "\n",
    "y_pred = xg_class.predict(X_test)"
   ]
  },
  {
   "cell_type": "code",
   "execution_count": 87,
   "metadata": {},
   "outputs": [
    {
     "name": "stdout",
     "output_type": "stream",
     "text": [
      "Accuracy score: 0.9202679789917704\n"
     ]
    }
   ],
   "source": [
    "print('Accuracy score:',accuracy_score(y_test, y_pred))"
   ]
  },
  {
   "cell_type": "code",
   "execution_count": 88,
   "metadata": {},
   "outputs": [
    {
     "name": "stdout",
     "output_type": "stream",
     "text": [
      "Confusion matrix: \n",
      " [[18266   196]\n",
      " [ 1732  3987]]\n"
     ]
    }
   ],
   "source": [
    "print('Confusion matrix: \\n',confusion_matrix(y_test, y_pred))"
   ]
  },
  {
   "cell_type": "code",
   "execution_count": 89,
   "metadata": {},
   "outputs": [
    {
     "data": {
      "text/plain": [
       "0.8432667250579913"
      ]
     },
     "execution_count": 89,
     "metadata": {},
     "output_type": "execute_result"
    }
   ],
   "source": [
    "roc_auc_score(y_test, y_pred)"
   ]
  },
  {
   "cell_type": "code",
   "execution_count": 90,
   "metadata": {},
   "outputs": [],
   "source": [
    "from sklearn.model_selection import GridSearchCV"
   ]
  },
  {
   "cell_type": "code",
   "execution_count": 93,
   "metadata": {},
   "outputs": [],
   "source": [
    "param_grid = {\"max_depth\": [10, 30, 50],\n",
    "              \"min_child_weight\" : [1,3,6],\n",
    "              \"n_estimators\": [20],\n",
    "              \"learning_rate\": [0.05, 0.1,0.16]}\n",
    "grid_search = GridSearchCV(estimator = xgb.XGBClassifier(), param_grid = param_grid, cv = 3, verbose = 10, n_jobs = -1)"
   ]
  },
  {
   "cell_type": "code",
   "execution_count": 94,
   "metadata": {},
   "outputs": [
    {
     "name": "stdout",
     "output_type": "stream",
     "text": [
      "Fitting 3 folds for each of 27 candidates, totalling 81 fits\n"
     ]
    },
    {
     "name": "stderr",
     "output_type": "stream",
     "text": [
      "[Parallel(n_jobs=-1)]: Done   5 tasks      | elapsed:  1.2min\n",
      "[Parallel(n_jobs=-1)]: Done  10 tasks      | elapsed:  2.2min\n",
      "[Parallel(n_jobs=-1)]: Done  17 tasks      | elapsed:  3.0min\n",
      "[Parallel(n_jobs=-1)]: Done  24 tasks      | elapsed:  4.8min\n",
      "[Parallel(n_jobs=-1)]: Done  33 tasks      | elapsed:  5.9min\n",
      "[Parallel(n_jobs=-1)]: Done  42 tasks      | elapsed:  7.8min\n",
      "[Parallel(n_jobs=-1)]: Done  53 tasks      | elapsed:  9.9min\n",
      "[Parallel(n_jobs=-1)]: Done  64 tasks      | elapsed: 11.9min\n",
      "[Parallel(n_jobs=-1)]: Done  81 out of  81 | elapsed: 15.1min finished\n"
     ]
    },
    {
     "data": {
      "text/plain": [
       "{'learning_rate': 0.16,\n",
       " 'max_depth': 10,\n",
       " 'min_child_weight': 6,\n",
       " 'n_estimators': 20}"
      ]
     },
     "execution_count": 94,
     "metadata": {},
     "output_type": "execute_result"
    }
   ],
   "source": [
    "grid_search.fit(X_train, y_train)\n",
    "grid_search.best_params_"
   ]
  },
  {
   "cell_type": "code",
   "execution_count": 95,
   "metadata": {},
   "outputs": [
    {
     "data": {
      "text/plain": [
       "XGBClassifier(base_score=0.5, booster='gbtree', colsample_bylevel=1,\n",
       "       colsample_bytree=1, gamma=0, learning_rate=0.16, max_delta_step=0,\n",
       "       max_depth=10, min_child_weight=6, missing=None, n_estimators=20,\n",
       "       n_jobs=1, nthread=None, objective='binary:logistic', random_state=0,\n",
       "       reg_alpha=0, reg_lambda=1, scale_pos_weight=1, seed=None,\n",
       "       silent=True, subsample=1)"
      ]
     },
     "execution_count": 95,
     "metadata": {},
     "output_type": "execute_result"
    }
   ],
   "source": [
    "grid_search.best_estimator_"
   ]
  },
  {
   "cell_type": "code",
   "execution_count": 99,
   "metadata": {},
   "outputs": [
    {
     "data": {
      "text/plain": [
       "0.9231682676969977"
      ]
     },
     "execution_count": 99,
     "metadata": {},
     "output_type": "execute_result"
    }
   ],
   "source": [
    "grid_search.best_score_"
   ]
  },
  {
   "cell_type": "code",
   "execution_count": 101,
   "metadata": {},
   "outputs": [
    {
     "name": "stderr",
     "output_type": "stream",
     "text": [
      "C:\\Users\\Saumit\\Anaconda3\\lib\\site-packages\\sklearn\\model_selection\\_search.py:761: DeprecationWarning: The grid_scores_ attribute was deprecated in version 0.18 in favor of the more elaborate cv_results_ attribute. The grid_scores_ attribute will not be available from 0.20\n",
      "  DeprecationWarning)\n"
     ]
    },
    {
     "data": {
      "text/plain": [
       "[mean: 0.91865, std: 0.00175, params: {'learning_rate': 0.05, 'max_depth': 10, 'min_child_weight': 1, 'n_estimators': 20},\n",
       " mean: 0.91968, std: 0.00214, params: {'learning_rate': 0.05, 'max_depth': 10, 'min_child_weight': 3, 'n_estimators': 20},\n",
       " mean: 0.91952, std: 0.00229, params: {'learning_rate': 0.05, 'max_depth': 10, 'min_child_weight': 6, 'n_estimators': 20},\n",
       " mean: 0.91697, std: 0.00139, params: {'learning_rate': 0.05, 'max_depth': 30, 'min_child_weight': 1, 'n_estimators': 20},\n",
       " mean: 0.91895, std: 0.00167, params: {'learning_rate': 0.05, 'max_depth': 30, 'min_child_weight': 3, 'n_estimators': 20},\n",
       " mean: 0.92012, std: 0.00218, params: {'learning_rate': 0.05, 'max_depth': 30, 'min_child_weight': 6, 'n_estimators': 20},\n",
       " mean: 0.91709, std: 0.00158, params: {'learning_rate': 0.05, 'max_depth': 50, 'min_child_weight': 1, 'n_estimators': 20},\n",
       " mean: 0.91895, std: 0.00167, params: {'learning_rate': 0.05, 'max_depth': 50, 'min_child_weight': 3, 'n_estimators': 20},\n",
       " mean: 0.92012, std: 0.00218, params: {'learning_rate': 0.05, 'max_depth': 50, 'min_child_weight': 6, 'n_estimators': 20},\n",
       " mean: 0.91909, std: 0.00178, params: {'learning_rate': 0.1, 'max_depth': 10, 'min_child_weight': 1, 'n_estimators': 20},\n",
       " mean: 0.92039, std: 0.00117, params: {'learning_rate': 0.1, 'max_depth': 10, 'min_child_weight': 3, 'n_estimators': 20},\n",
       " mean: 0.92067, std: 0.00198, params: {'learning_rate': 0.1, 'max_depth': 10, 'min_child_weight': 6, 'n_estimators': 20},\n",
       " mean: 0.91845, std: 0.00161, params: {'learning_rate': 0.1, 'max_depth': 30, 'min_child_weight': 1, 'n_estimators': 20},\n",
       " mean: 0.91961, std: 0.00136, params: {'learning_rate': 0.1, 'max_depth': 30, 'min_child_weight': 3, 'n_estimators': 20},\n",
       " mean: 0.92042, std: 0.00228, params: {'learning_rate': 0.1, 'max_depth': 30, 'min_child_weight': 6, 'n_estimators': 20},\n",
       " mean: 0.91842, std: 0.00159, params: {'learning_rate': 0.1, 'max_depth': 50, 'min_child_weight': 1, 'n_estimators': 20},\n",
       " mean: 0.91946, std: 0.00156, params: {'learning_rate': 0.1, 'max_depth': 50, 'min_child_weight': 3, 'n_estimators': 20},\n",
       " mean: 0.92042, std: 0.00228, params: {'learning_rate': 0.1, 'max_depth': 50, 'min_child_weight': 6, 'n_estimators': 20},\n",
       " mean: 0.92225, std: 0.00157, params: {'learning_rate': 0.16, 'max_depth': 10, 'min_child_weight': 1, 'n_estimators': 20},\n",
       " mean: 0.92278, std: 0.00157, params: {'learning_rate': 0.16, 'max_depth': 10, 'min_child_weight': 3, 'n_estimators': 20},\n",
       " mean: 0.92317, std: 0.00150, params: {'learning_rate': 0.16, 'max_depth': 10, 'min_child_weight': 6, 'n_estimators': 20},\n",
       " mean: 0.92037, std: 0.00190, params: {'learning_rate': 0.16, 'max_depth': 30, 'min_child_weight': 1, 'n_estimators': 20},\n",
       " mean: 0.92175, std: 0.00148, params: {'learning_rate': 0.16, 'max_depth': 30, 'min_child_weight': 3, 'n_estimators': 20},\n",
       " mean: 0.92202, std: 0.00179, params: {'learning_rate': 0.16, 'max_depth': 30, 'min_child_weight': 6, 'n_estimators': 20},\n",
       " mean: 0.92051, std: 0.00171, params: {'learning_rate': 0.16, 'max_depth': 50, 'min_child_weight': 1, 'n_estimators': 20},\n",
       " mean: 0.92177, std: 0.00150, params: {'learning_rate': 0.16, 'max_depth': 50, 'min_child_weight': 3, 'n_estimators': 20},\n",
       " mean: 0.92202, std: 0.00179, params: {'learning_rate': 0.16, 'max_depth': 50, 'min_child_weight': 6, 'n_estimators': 20}]"
      ]
     },
     "execution_count": 101,
     "metadata": {},
     "output_type": "execute_result"
    }
   ],
   "source": [
    "grid_search.grid_scores_"
   ]
  },
  {
   "cell_type": "code",
   "execution_count": 102,
   "metadata": {},
   "outputs": [
    {
     "name": "stderr",
     "output_type": "stream",
     "text": [
      "C:\\Users\\Saumit\\Anaconda3\\lib\\site-packages\\sklearn\\preprocessing\\label.py:151: DeprecationWarning: The truth value of an empty array is ambiguous. Returning False, but in future this will result in an error. Use `array.size > 0` to check that an array is not empty.\n",
      "  if diff:\n"
     ]
    }
   ],
   "source": [
    "best_pred_xgb = grid_search.best_estimator_.predict(X_test)"
   ]
  },
  {
   "cell_type": "code",
   "execution_count": 103,
   "metadata": {},
   "outputs": [
    {
     "data": {
      "text/plain": [
       "0.8415708791141036"
      ]
     },
     "execution_count": 103,
     "metadata": {},
     "output_type": "execute_result"
    }
   ],
   "source": [
    "roc_auc_score(y_test, best_pred_xgb)"
   ]
  },
  {
   "cell_type": "code",
   "execution_count": 104,
   "metadata": {},
   "outputs": [
    {
     "name": "stdout",
     "output_type": "stream",
     "text": [
      "Confusion matrix: \n",
      " [[18297   165]\n",
      " [ 1761  3958]]\n"
     ]
    }
   ],
   "source": [
    "print('Confusion matrix: \\n',confusion_matrix(y_test, best_pred_xgb))"
   ]
  },
  {
   "cell_type": "code",
   "execution_count": null,
   "metadata": {},
   "outputs": [],
   "source": []
  },
  {
   "cell_type": "code",
   "execution_count": 81,
   "metadata": {},
   "outputs": [
    {
     "name": "stdout",
     "output_type": "stream",
     "text": [
      "RMSE: 0.2823685906899519\n"
     ]
    }
   ],
   "source": [
    "from sklearn.metrics import mean_squared_error\n",
    "print('RMSE:',np.sqrt(mean_squared_error(y_test, y_pred)))"
   ]
  },
  {
   "cell_type": "code",
   "execution_count": 82,
   "metadata": {},
   "outputs": [
    {
     "data": {
      "text/plain": [
       "0.9165874033331954"
      ]
     },
     "execution_count": 82,
     "metadata": {},
     "output_type": "execute_result"
    }
   ],
   "source": [
    "from sklearn.ensemble import AdaBoostClassifier\n",
    "ada = AdaBoostClassifier()\n",
    "ada.fit(X_train, y_train)\n",
    "ada.score(X_test,y_test)"
   ]
  },
  {
   "cell_type": "code",
   "execution_count": 83,
   "metadata": {},
   "outputs": [
    {
     "data": {
      "text/plain": [
       "0.8429081059853494"
      ]
     },
     "execution_count": 83,
     "metadata": {},
     "output_type": "execute_result"
    }
   ],
   "source": [
    "roc_auc_score(y_test, ada.predict(X_test))"
   ]
  },
  {
   "cell_type": "markdown",
   "metadata": {},
   "source": [
    "### LightGBM"
   ]
  },
  {
   "cell_type": "code",
   "execution_count": 106,
   "metadata": {},
   "outputs": [],
   "source": [
    "import lightgbm as lgb"
   ]
  },
  {
   "cell_type": "code",
   "execution_count": 107,
   "metadata": {},
   "outputs": [
    {
     "name": "stderr",
     "output_type": "stream",
     "text": [
      "C:\\Users\\Saumit\\Anaconda3\\lib\\site-packages\\sklearn\\preprocessing\\label.py:151: DeprecationWarning: The truth value of an empty array is ambiguous. Returning False, but in future this will result in an error. Use `array.size > 0` to check that an array is not empty.\n",
      "  if diff:\n"
     ]
    },
    {
     "data": {
      "text/plain": [
       "0.921715396385592"
      ]
     },
     "execution_count": 107,
     "metadata": {},
     "output_type": "execute_result"
    }
   ],
   "source": [
    "#use cross val score - might be able to change parameter to precision or recall\n",
    "\n",
    "lgb = lgb.LGBMClassifier()\n",
    "lgb.fit(X_train, y_train)\n",
    "lgb.score(X_test, y_test)"
   ]
  },
  {
   "cell_type": "code",
   "execution_count": 108,
   "metadata": {},
   "outputs": [
    {
     "name": "stderr",
     "output_type": "stream",
     "text": [
      "C:\\Users\\Saumit\\Anaconda3\\lib\\site-packages\\sklearn\\preprocessing\\label.py:151: DeprecationWarning: The truth value of an empty array is ambiguous. Returning False, but in future this will result in an error. Use `array.size > 0` to check that an array is not empty.\n",
      "  if diff:\n"
     ]
    },
    {
     "data": {
      "text/plain": [
       "0.8438525467329016"
      ]
     },
     "execution_count": 108,
     "metadata": {},
     "output_type": "execute_result"
    }
   ],
   "source": [
    "roc_auc_score(y_test, lgb.predict(X_test))"
   ]
  },
  {
   "cell_type": "code",
   "execution_count": 109,
   "metadata": {},
   "outputs": [
    {
     "name": "stdout",
     "output_type": "stream",
     "text": [
      "Confusion matrix: \n",
      " [[18307   155]\n",
      " [ 1738  3981]]\n"
     ]
    },
    {
     "name": "stderr",
     "output_type": "stream",
     "text": [
      "C:\\Users\\Saumit\\Anaconda3\\lib\\site-packages\\sklearn\\preprocessing\\label.py:151: DeprecationWarning: The truth value of an empty array is ambiguous. Returning False, but in future this will result in an error. Use `array.size > 0` to check that an array is not empty.\n",
      "  if diff:\n"
     ]
    }
   ],
   "source": [
    "print('Confusion matrix: \\n',confusion_matrix(y_test, lgb.predict(X_test)))"
   ]
  },
  {
   "cell_type": "code",
   "execution_count": 111,
   "metadata": {},
   "outputs": [
    {
     "name": "stdout",
     "output_type": "stream",
     "text": [
      "             precision    recall  f1-score   support\n",
      "\n",
      "          0       0.91      0.99      0.95     18462\n",
      "          1       0.96      0.70      0.81      5719\n",
      "\n",
      "avg / total       0.92      0.92      0.92     24181\n",
      "\n"
     ]
    },
    {
     "name": "stderr",
     "output_type": "stream",
     "text": [
      "C:\\Users\\Saumit\\Anaconda3\\lib\\site-packages\\sklearn\\preprocessing\\label.py:151: DeprecationWarning: The truth value of an empty array is ambiguous. Returning False, but in future this will result in an error. Use `array.size > 0` to check that an array is not empty.\n",
      "  if diff:\n"
     ]
    }
   ],
   "source": [
    "print(classification_report(y_test, lgb.predict(X_test)))"
   ]
  },
  {
   "cell_type": "code",
   "execution_count": null,
   "metadata": {},
   "outputs": [],
   "source": []
  },
  {
   "cell_type": "code",
   "execution_count": null,
   "metadata": {},
   "outputs": [],
   "source": []
  },
  {
   "cell_type": "markdown",
   "metadata": {},
   "source": [
    "### Logistic Regression"
   ]
  },
  {
   "cell_type": "code",
   "execution_count": 91,
   "metadata": {},
   "outputs": [
    {
     "data": {
      "text/plain": [
       "LogisticRegression(C=1.0, class_weight=None, dual=False, fit_intercept=True,\n",
       "          intercept_scaling=1, max_iter=100, multi_class='ovr', n_jobs=1,\n",
       "          penalty='l2', random_state=None, solver='liblinear', tol=0.0001,\n",
       "          verbose=0, warm_start=False)"
      ]
     },
     "execution_count": 91,
     "metadata": {},
     "output_type": "execute_result"
    }
   ],
   "source": [
    "logreg = LogisticRegression()\n",
    "logreg.fit(X_train, y_train)"
   ]
  },
  {
   "cell_type": "code",
   "execution_count": 92,
   "metadata": {},
   "outputs": [],
   "source": [
    "#predict output with X test set\n",
    "y_pred = logreg.predict(X_test)"
   ]
  },
  {
   "cell_type": "code",
   "execution_count": 93,
   "metadata": {},
   "outputs": [
    {
     "name": "stdout",
     "output_type": "stream",
     "text": [
      "Confusion matrix: \n",
      " [[18391     0]\n",
      " [ 5790     0]]\n"
     ]
    }
   ],
   "source": [
    "print('Confusion matrix: \\n',confusion_matrix(y_test, y_pred))"
   ]
  },
  {
   "cell_type": "markdown",
   "metadata": {},
   "source": [
    "This model is predicting all target variables as the majority class - Every single applicant in the test set is predicted to not default on their loan. The accuracy score of 0.76 only reflects the values where Target = 0."
   ]
  },
  {
   "cell_type": "code",
   "execution_count": 94,
   "metadata": {},
   "outputs": [
    {
     "name": "stdout",
     "output_type": "stream",
     "text": [
      "Accuracy score: 0.7605558082792275\n"
     ]
    }
   ],
   "source": [
    "print('Accuracy score:',accuracy_score(y_test, y_pred))"
   ]
  },
  {
   "cell_type": "code",
   "execution_count": 95,
   "metadata": {},
   "outputs": [
    {
     "data": {
      "text/plain": [
       "0    24181\n",
       "dtype: int64"
      ]
     },
     "execution_count": 95,
     "metadata": {},
     "output_type": "execute_result"
    }
   ],
   "source": [
    "#this will output predicted values from the model given X_test, which is the smaller part of train test split that model has not seen\n",
    "pd.Series(logreg.predict(X_test)).value_counts()"
   ]
  },
  {
   "cell_type": "code",
   "execution_count": 96,
   "metadata": {},
   "outputs": [
    {
     "data": {
      "text/plain": [
       "18391"
      ]
     },
     "execution_count": 96,
     "metadata": {},
     "output_type": "execute_result"
    }
   ],
   "source": [
    "#changing sensitivity and specificity?\n",
    "accuracy_score(y_test, logreg.predict(X_test), normalize = False)"
   ]
  },
  {
   "cell_type": "code",
   "execution_count": 97,
   "metadata": {},
   "outputs": [
    {
     "data": {
      "text/plain": [
       "(5790,)"
      ]
     },
     "execution_count": 97,
     "metadata": {},
     "output_type": "execute_result"
    }
   ],
   "source": [
    "y_test[y_test ==1].shape  #16121 for y_pred, 12275+3846 = 16121"
   ]
  },
  {
   "cell_type": "code",
   "execution_count": 98,
   "metadata": {},
   "outputs": [],
   "source": [
    "#Try log reg with different values for c\n",
    "\n",
    "def reg_param_c(X,y, c_values, test_size):\n",
    "    c_scores = {}\n",
    "    for i in c_values:\n",
    "        X_train, X_test, y_train, y_test = train_test_split(X, y, test_size = test_size)\n",
    "        logreg = LogisticRegression(C = i)\n",
    "        logreg.fit(X_train, y_train)\n",
    "        c_scores[i] = accuracy_score(y_test, logreg.predict(X_test))\n",
    "    return c_scores"
   ]
  },
  {
   "cell_type": "code",
   "execution_count": 99,
   "metadata": {},
   "outputs": [
    {
     "data": {
      "text/plain": [
       "{0.001: 0.7623754187171746,\n",
       " 0.1: 0.7596046482775733,\n",
       " 1: 0.7629130308920227,\n",
       " 10: 0.7601836152351019,\n",
       " 100: 0.7629543856747033}"
      ]
     },
     "execution_count": 99,
     "metadata": {},
     "output_type": "execute_result"
    }
   ],
   "source": [
    "reg_param_c(X,y, [0.001, 0.1, 1, 10, 100], 0.3)"
   ]
  },
  {
   "cell_type": "code",
   "execution_count": 100,
   "metadata": {},
   "outputs": [
    {
     "ename": "RecursionError",
     "evalue": "maximum recursion depth exceeded",
     "output_type": "error",
     "traceback": [
      "\u001b[1;31m---------------------------------------------------------------------------\u001b[0m",
      "\u001b[1;31mRecursionError\u001b[0m                            Traceback (most recent call last)",
      "\u001b[1;32m<ipython-input-100-4cb4c503ba61>\u001b[0m in \u001b[0;36m<module>\u001b[1;34m()\u001b[0m\n\u001b[1;32m----> 1\u001b[1;33m \u001b[0mfpr\u001b[0m\u001b[1;33m,\u001b[0m \u001b[0mtpr\u001b[0m\u001b[1;33m,\u001b[0m \u001b[0mthresholds\u001b[0m \u001b[1;33m=\u001b[0m \u001b[0mroc_curve\u001b[0m\u001b[1;33m(\u001b[0m\u001b[0my_test\u001b[0m\u001b[1;33m,\u001b[0m \u001b[0my_pred\u001b[0m\u001b[1;33m)\u001b[0m\u001b[1;33m\u001b[0m\u001b[0m\n\u001b[0m",
      "\u001b[1;32m<ipython-input-87-f635a048206f>\u001b[0m in \u001b[0;36mroc_curve\u001b[1;34m(test, pred)\u001b[0m\n\u001b[0;32m      2\u001b[0m \u001b[1;33m\u001b[0m\u001b[0m\n\u001b[0;32m      3\u001b[0m \u001b[1;32mdef\u001b[0m \u001b[0mroc_curve\u001b[0m\u001b[1;33m(\u001b[0m\u001b[0mtest\u001b[0m\u001b[1;33m,\u001b[0m \u001b[0mpred\u001b[0m\u001b[1;33m)\u001b[0m\u001b[1;33m:\u001b[0m\u001b[1;33m\u001b[0m\u001b[0m\n\u001b[1;32m----> 4\u001b[1;33m     \u001b[0mfpr\u001b[0m\u001b[1;33m,\u001b[0m \u001b[0mtpr\u001b[0m\u001b[1;33m,\u001b[0m \u001b[0mthresholds\u001b[0m \u001b[1;33m=\u001b[0m \u001b[0mroc_curve\u001b[0m\u001b[1;33m(\u001b[0m\u001b[0mtest\u001b[0m\u001b[1;33m,\u001b[0m \u001b[0mpred\u001b[0m\u001b[1;33m)\u001b[0m\u001b[1;33m\u001b[0m\u001b[0m\n\u001b[0m\u001b[0;32m      5\u001b[0m     \u001b[0mprint\u001b[0m\u001b[1;33m(\u001b[0m\u001b[0mauc\u001b[0m\u001b[1;33m(\u001b[0m\u001b[0mfpr\u001b[0m\u001b[1;33m,\u001b[0m \u001b[0mtpr\u001b[0m\u001b[1;33m)\u001b[0m\u001b[1;33m)\u001b[0m\u001b[1;33m\u001b[0m\u001b[0m\n\u001b[0;32m      6\u001b[0m     \u001b[0mplt\u001b[0m\u001b[1;33m.\u001b[0m\u001b[0mplot\u001b[0m\u001b[1;33m(\u001b[0m\u001b[0mfpr\u001b[0m\u001b[1;33m,\u001b[0m\u001b[0mtpr\u001b[0m\u001b[1;33m)\u001b[0m\u001b[1;33m\u001b[0m\u001b[0m\n",
      "... last 1 frames repeated, from the frame below ...\n",
      "\u001b[1;32m<ipython-input-87-f635a048206f>\u001b[0m in \u001b[0;36mroc_curve\u001b[1;34m(test, pred)\u001b[0m\n\u001b[0;32m      2\u001b[0m \u001b[1;33m\u001b[0m\u001b[0m\n\u001b[0;32m      3\u001b[0m \u001b[1;32mdef\u001b[0m \u001b[0mroc_curve\u001b[0m\u001b[1;33m(\u001b[0m\u001b[0mtest\u001b[0m\u001b[1;33m,\u001b[0m \u001b[0mpred\u001b[0m\u001b[1;33m)\u001b[0m\u001b[1;33m:\u001b[0m\u001b[1;33m\u001b[0m\u001b[0m\n\u001b[1;32m----> 4\u001b[1;33m     \u001b[0mfpr\u001b[0m\u001b[1;33m,\u001b[0m \u001b[0mtpr\u001b[0m\u001b[1;33m,\u001b[0m \u001b[0mthresholds\u001b[0m \u001b[1;33m=\u001b[0m \u001b[0mroc_curve\u001b[0m\u001b[1;33m(\u001b[0m\u001b[0mtest\u001b[0m\u001b[1;33m,\u001b[0m \u001b[0mpred\u001b[0m\u001b[1;33m)\u001b[0m\u001b[1;33m\u001b[0m\u001b[0m\n\u001b[0m\u001b[0;32m      5\u001b[0m     \u001b[0mprint\u001b[0m\u001b[1;33m(\u001b[0m\u001b[0mauc\u001b[0m\u001b[1;33m(\u001b[0m\u001b[0mfpr\u001b[0m\u001b[1;33m,\u001b[0m \u001b[0mtpr\u001b[0m\u001b[1;33m)\u001b[0m\u001b[1;33m)\u001b[0m\u001b[1;33m\u001b[0m\u001b[0m\n\u001b[0;32m      6\u001b[0m     \u001b[0mplt\u001b[0m\u001b[1;33m.\u001b[0m\u001b[0mplot\u001b[0m\u001b[1;33m(\u001b[0m\u001b[0mfpr\u001b[0m\u001b[1;33m,\u001b[0m\u001b[0mtpr\u001b[0m\u001b[1;33m)\u001b[0m\u001b[1;33m\u001b[0m\u001b[0m\n",
      "\u001b[1;31mRecursionError\u001b[0m: maximum recursion depth exceeded"
     ]
    }
   ],
   "source": [
    "fpr, tpr, thresholds = roc_curve(y_test, y_pred)"
   ]
  },
  {
   "cell_type": "code",
   "execution_count": 54,
   "metadata": {},
   "outputs": [
    {
     "data": {
      "image/png": "[encoded data removed]",
      "text/plain": [
       "<Figure size 432x288 with 1 Axes>"
      ]
     },
     "metadata": {},
     "output_type": "display_data"
    }
   ],
   "source": [
    "plt.plot(fpr,tpr)\n",
    "plt.xlim([0.0,1.0])\n",
    "plt.ylim([0.0, 1.0])\n",
    "plt.title('ROC Curve')\n",
    "plt.xlabel('False Positive Rate (1-Specificity)')\n",
    "plt.ylabel('True Positive Rate (Sensitivity)')\n",
    "plt.grid(True)"
   ]
  },
  {
   "cell_type": "code",
   "execution_count": 102,
   "metadata": {},
   "outputs": [
    {
     "data": {
      "text/plain": [
       "array([0., 1.])"
      ]
     },
     "execution_count": 102,
     "metadata": {},
     "output_type": "execute_result"
    }
   ],
   "source": []
  },
  {
   "cell_type": "code",
   "execution_count": 55,
   "metadata": {},
   "outputs": [],
   "source": [
    "def evaluate_threshold(threshold):\n",
    "    print('Sensitivity:', tpr[thresholds > threshold][-1])\n",
    "    print('Specificity:', 1- fpr[thresholds > threshold][-1])"
   ]
  },
  {
   "cell_type": "code",
   "execution_count": 56,
   "metadata": {},
   "outputs": [
    {
     "name": "stdout",
     "output_type": "stream",
     "text": [
      "Sensitivity: 0.0\n",
      "Specificity: 1.0\n"
     ]
    }
   ],
   "source": [
    "evaluate_threshold(0.35)"
   ]
  },
  {
   "cell_type": "code",
   "execution_count": null,
   "metadata": {},
   "outputs": [],
   "source": [
    "#What parameters to tune to have predictions that are 1 and 0"
   ]
  },
  {
   "cell_type": "markdown",
   "metadata": {},
   "source": [
    "### Naive Bayes"
   ]
  },
  {
   "cell_type": "code",
   "execution_count": 69,
   "metadata": {},
   "outputs": [],
   "source": [
    "from sklearn.naive_bayes import BernoulliNB\n",
    "from sklearn.naive_bayes import GaussianNB\n",
    "from sklearn.naive_bayes import MultinomialNB"
   ]
  },
  {
   "cell_type": "code",
   "execution_count": 87,
   "metadata": {},
   "outputs": [],
   "source": [
    "#Function to plot ROC Curve and print score\n",
    "\n",
    "def roc_curve(test, pred):\n",
    "    fpr, tpr, thresholds = roc_curve(test, pred)\n",
    "    print(auc(fpr, tpr))\n",
    "    plt.plot(fpr,tpr)\n",
    "    plt.plot([0, 1], [0, 1], linestyle='--')\n",
    "    plt.xlim([0.0,1.0])\n",
    "    plt.ylim([0.0, 1.0])\n",
    "    plt.title('ROC Curve')\n",
    "    plt.xlabel('False Positive Rate (1-Specificity)')\n",
    "    plt.ylabel('True Positive Rate (Sensitivity)')\n",
    "    plt.grid(True)"
   ]
  },
  {
   "cell_type": "code",
   "execution_count": 103,
   "metadata": {},
   "outputs": [
    {
     "data": {
      "text/plain": [
       "BernoulliNB(alpha=1.0, binarize=0.1, class_prior=None, fit_prior=True)"
      ]
     },
     "execution_count": 103,
     "metadata": {},
     "output_type": "execute_result"
    }
   ],
   "source": [
    "bern = BernoulliNB(binarize = 0.1)\n",
    "bern.fit(X_train, y_train)"
   ]
  },
  {
   "cell_type": "code",
   "execution_count": 104,
   "metadata": {},
   "outputs": [
    {
     "name": "stdout",
     "output_type": "stream",
     "text": [
      "Accuracy score: 0.8455812414705761\n",
      "AUC: 0.7395561619696651\n"
     ]
    }
   ],
   "source": [
    "y_pred = bern.predict(X_test)\n",
    "print('Accuracy score:',accuracy_score(y_test, y_pred))\n",
    "print('AUC:',roc_auc_score(y_test, y_pred))\n",
    "#fpr, tpr = roc_curve(y_test, y_pred)"
   ]
  },
  {
   "cell_type": "code",
   "execution_count": 105,
   "metadata": {},
   "outputs": [
    {
     "data": {
      "text/plain": [
       "MultinomialNB(alpha=1.0, class_prior=None, fit_prior=True)"
      ]
     },
     "execution_count": 105,
     "metadata": {},
     "output_type": "execute_result"
    }
   ],
   "source": [
    "multi = MultinomialNB()\n",
    "multi.fit(X_train, y_train)"
   ]
  },
  {
   "cell_type": "code",
   "execution_count": 106,
   "metadata": {},
   "outputs": [
    {
     "name": "stdout",
     "output_type": "stream",
     "text": [
      "Accuracy score: 0.7446342169471899\n",
      "AUC: 0.6148519649310332\n"
     ]
    }
   ],
   "source": [
    "y_pred = multi.predict(X_test)\n",
    "print('Accuracy score:',accuracy_score(y_test, y_pred))\n",
    "print('AUC:',roc_auc_score(y_test, y_pred))"
   ]
  },
  {
   "cell_type": "code",
   "execution_count": 107,
   "metadata": {},
   "outputs": [
    {
     "data": {
      "text/plain": [
       "GaussianNB(priors=None)"
      ]
     },
     "execution_count": 107,
     "metadata": {},
     "output_type": "execute_result"
    }
   ],
   "source": [
    "gauss = GaussianNB()\n",
    "gauss.fit(X_train, y_train)"
   ]
  },
  {
   "cell_type": "code",
   "execution_count": 108,
   "metadata": {},
   "outputs": [
    {
     "name": "stdout",
     "output_type": "stream",
     "text": [
      "Accuracy score: 0.7446342169471899\n",
      "AUC: 0.6148519649310332\n"
     ]
    }
   ],
   "source": [
    "y_pred = multi.predict(X_test)\n",
    "print('Accuracy score:',accuracy_score(y_test, y_pred))\n",
    "print('AUC:',roc_auc_score(y_test, y_pred))"
   ]
  },
  {
   "cell_type": "code",
   "execution_count": null,
   "metadata": {},
   "outputs": [],
   "source": []
  }
 ],
 "metadata": {
  "kernelspec": {
   "display_name": "Python 3",
   "language": "python",
   "name": "python3"
  },
  "language_info": {
   "codemirror_mode": {
    "name": "ipython",
    "version": 3
   },
   "file_extension": ".py",
   "mimetype": "text/x-python",
   "name": "python",
   "nbconvert_exporter": "python",
   "pygments_lexer": "ipython3",
   "version": "3.6.5"
  }
 },
 "nbformat": 4,
 "nbformat_minor": 2
}
