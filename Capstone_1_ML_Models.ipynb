{
 "cells": [
  {
   "cell_type": "markdown",
   "metadata": {},
   "source": [
    "# Machine Learning Models\n",
    "\n",
    "Logistic Regression, Random Forest, XGBoost, other tree based models, Naive Bayes"
   ]
  },
  {
   "cell_type": "code",
   "execution_count": 1,
   "metadata": {},
   "outputs": [],
   "source": [
    "#Import packages and set formatting options\n",
    "import numpy as np\n",
    "import pandas as pd\n",
    "import matplotlib.pyplot as plt\n",
    "import seaborn as sns\n",
    "\n",
    "pd.set_option('display.max_rows', 500)\n",
    "pd.set_option('display.max_columns', 500)\n",
    "pd.set_option('display.width', 1000)"
   ]
  },
  {
   "cell_type": "markdown",
   "metadata": {},
   "source": [
    "### Read CSV File"
   ]
  },
  {
   "cell_type": "code",
   "execution_count": 2,
   "metadata": {},
   "outputs": [
    {
     "data": {
      "text/html": [
       "<div>\n",
       "<style scoped>\n",
       "    .dataframe tbody tr th:only-of-type {\n",
       "        vertical-align: middle;\n",
       "    }\n",
       "\n",
       "    .dataframe tbody tr th {\n",
       "        vertical-align: top;\n",
       "    }\n",
       "\n",
       "    .dataframe thead th {\n",
       "        text-align: right;\n",
       "    }\n",
       "</style>\n",
       "<table border=\"1\" class=\"dataframe\">\n",
       "  <thead>\n",
       "    <tr style=\"text-align: right;\">\n",
       "      <th></th>\n",
       "      <th>AMT_INCOME_TOTAL</th>\n",
       "      <th>APARTMENTS_MODE</th>\n",
       "      <th>BASEMENTAREA_AVG</th>\n",
       "      <th>ENTRANCES_AVG</th>\n",
       "      <th>EXT_SOURCE_1</th>\n",
       "      <th>EXT_SOURCE_2</th>\n",
       "      <th>EXT_SOURCE_3</th>\n",
       "      <th>FLOORSMAX_MODE</th>\n",
       "      <th>LANDAREA_AVG</th>\n",
       "      <th>LIVE_CITY_NOT_WORK_CITY</th>\n",
       "      <th>NAME_EDUCATION_TYPE</th>\n",
       "      <th>NONLIVINGAREA_MODE</th>\n",
       "      <th>OCCUPATION_TYPE</th>\n",
       "      <th>REGION_POPULATION_RELATIVE</th>\n",
       "      <th>REGION_RATING_CLIENT</th>\n",
       "      <th>REG_CITY_NOT_LIVE_CITY</th>\n",
       "      <th>TOTALAREA_MODE</th>\n",
       "      <th>YEARS_BEGINEXPLUATATION_MODE</th>\n",
       "      <th>YEARS_BIRTH</th>\n",
       "      <th>YEARS_BUILD_MODE</th>\n",
       "      <th>YEARS_EMPLOYED</th>\n",
       "      <th>YEARS_LAST_PHONE_CHANGE</th>\n",
       "      <th>TARGET</th>\n",
       "    </tr>\n",
       "  </thead>\n",
       "  <tbody>\n",
       "    <tr>\n",
       "      <th>0</th>\n",
       "      <td>270000.0</td>\n",
       "      <td>0.0924</td>\n",
       "      <td>0.0529</td>\n",
       "      <td>0.0345</td>\n",
       "      <td>0.311267</td>\n",
       "      <td>0.622246</td>\n",
       "      <td>0.481121</td>\n",
       "      <td>0.2917</td>\n",
       "      <td>0.0130</td>\n",
       "      <td>0</td>\n",
       "      <td>Higher education</td>\n",
       "      <td>0.0000</td>\n",
       "      <td>Core staff</td>\n",
       "      <td>0.003541</td>\n",
       "      <td>1</td>\n",
       "      <td>0</td>\n",
       "      <td>0.0714</td>\n",
       "      <td>0.9851</td>\n",
       "      <td>45.931507</td>\n",
       "      <td>0.8040</td>\n",
       "      <td>3.254795</td>\n",
       "      <td>2.268493</td>\n",
       "      <td>0</td>\n",
       "    </tr>\n",
       "    <tr>\n",
       "      <th>1</th>\n",
       "      <td>225000.0</td>\n",
       "      <td>0.1502</td>\n",
       "      <td>0.0973</td>\n",
       "      <td>0.1379</td>\n",
       "      <td>0.478860</td>\n",
       "      <td>0.566907</td>\n",
       "      <td>0.770087</td>\n",
       "      <td>0.3333</td>\n",
       "      <td>0.0931</td>\n",
       "      <td>0</td>\n",
       "      <td>Secondary / secondary special</td>\n",
       "      <td>0.0000</td>\n",
       "      <td>Drivers</td>\n",
       "      <td>0.016612</td>\n",
       "      <td>2</td>\n",
       "      <td>0</td>\n",
       "      <td>0.1417</td>\n",
       "      <td>0.9806</td>\n",
       "      <td>38.591781</td>\n",
       "      <td>0.7452</td>\n",
       "      <td>8.295890</td>\n",
       "      <td>0.010959</td>\n",
       "      <td>0</td>\n",
       "    </tr>\n",
       "    <tr>\n",
       "      <th>2</th>\n",
       "      <td>189000.0</td>\n",
       "      <td>0.3561</td>\n",
       "      <td>0.1335</td>\n",
       "      <td>0.1724</td>\n",
       "      <td>0.721940</td>\n",
       "      <td>0.642656</td>\n",
       "      <td>0.481121</td>\n",
       "      <td>0.6667</td>\n",
       "      <td>0.1758</td>\n",
       "      <td>0</td>\n",
       "      <td>Secondary / secondary special</td>\n",
       "      <td>0.1060</td>\n",
       "      <td>Laborers</td>\n",
       "      <td>0.010006</td>\n",
       "      <td>2</td>\n",
       "      <td>0</td>\n",
       "      <td>0.3811</td>\n",
       "      <td>0.9985</td>\n",
       "      <td>39.953425</td>\n",
       "      <td>0.9804</td>\n",
       "      <td>0.556164</td>\n",
       "      <td>0.515068</td>\n",
       "      <td>0</td>\n",
       "    </tr>\n",
       "    <tr>\n",
       "      <th>3</th>\n",
       "      <td>112500.0</td>\n",
       "      <td>0.0284</td>\n",
       "      <td>0.0617</td>\n",
       "      <td>0.1034</td>\n",
       "      <td>0.478860</td>\n",
       "      <td>0.706428</td>\n",
       "      <td>0.556727</td>\n",
       "      <td>0.0833</td>\n",
       "      <td>0.0279</td>\n",
       "      <td>0</td>\n",
       "      <td>Secondary / secondary special</td>\n",
       "      <td>0.0000</td>\n",
       "      <td>Laborers</td>\n",
       "      <td>0.046220</td>\n",
       "      <td>1</td>\n",
       "      <td>0</td>\n",
       "      <td>0.0238</td>\n",
       "      <td>0.9881</td>\n",
       "      <td>48.542466</td>\n",
       "      <td>0.8432</td>\n",
       "      <td>21.380822</td>\n",
       "      <td>0.654795</td>\n",
       "      <td>0</td>\n",
       "    </tr>\n",
       "    <tr>\n",
       "      <th>4</th>\n",
       "      <td>135000.0</td>\n",
       "      <td>0.1460</td>\n",
       "      <td>0.1455</td>\n",
       "      <td>0.3103</td>\n",
       "      <td>0.478860</td>\n",
       "      <td>0.786179</td>\n",
       "      <td>0.565608</td>\n",
       "      <td>0.1667</td>\n",
       "      <td>0.0861</td>\n",
       "      <td>1</td>\n",
       "      <td>Secondary / secondary special</td>\n",
       "      <td>0.0045</td>\n",
       "      <td>Drivers</td>\n",
       "      <td>0.026392</td>\n",
       "      <td>2</td>\n",
       "      <td>0</td>\n",
       "      <td>0.0967</td>\n",
       "      <td>0.9861</td>\n",
       "      <td>30.920548</td>\n",
       "      <td>0.8171</td>\n",
       "      <td>2.043836</td>\n",
       "      <td>0.010959</td>\n",
       "      <td>0</td>\n",
       "    </tr>\n",
       "  </tbody>\n",
       "</table>\n",
       "</div>"
      ],
      "text/plain": [
       "   AMT_INCOME_TOTAL  APARTMENTS_MODE  BASEMENTAREA_AVG  ENTRANCES_AVG  EXT_SOURCE_1  EXT_SOURCE_2  EXT_SOURCE_3  FLOORSMAX_MODE  LANDAREA_AVG  LIVE_CITY_NOT_WORK_CITY            NAME_EDUCATION_TYPE  NONLIVINGAREA_MODE OCCUPATION_TYPE  REGION_POPULATION_RELATIVE  REGION_RATING_CLIENT  REG_CITY_NOT_LIVE_CITY  TOTALAREA_MODE  YEARS_BEGINEXPLUATATION_MODE  YEARS_BIRTH  YEARS_BUILD_MODE  YEARS_EMPLOYED  YEARS_LAST_PHONE_CHANGE  TARGET\n",
       "0          270000.0           0.0924            0.0529         0.0345      0.311267      0.622246      0.481121          0.2917        0.0130                        0               Higher education              0.0000      Core staff                    0.003541                     1                       0          0.0714                        0.9851    45.931507            0.8040        3.254795                 2.268493       0\n",
       "1          225000.0           0.1502            0.0973         0.1379      0.478860      0.566907      0.770087          0.3333        0.0931                        0  Secondary / secondary special              0.0000         Drivers                    0.016612                     2                       0          0.1417                        0.9806    38.591781            0.7452        8.295890                 0.010959       0\n",
       "2          189000.0           0.3561            0.1335         0.1724      0.721940      0.642656      0.481121          0.6667        0.1758                        0  Secondary / secondary special              0.1060        Laborers                    0.010006                     2                       0          0.3811                        0.9985    39.953425            0.9804        0.556164                 0.515068       0\n",
       "3          112500.0           0.0284            0.0617         0.1034      0.478860      0.706428      0.556727          0.0833        0.0279                        0  Secondary / secondary special              0.0000        Laborers                    0.046220                     1                       0          0.0238                        0.9881    48.542466            0.8432       21.380822                 0.654795       0\n",
       "4          135000.0           0.1460            0.1455         0.3103      0.478860      0.786179      0.565608          0.1667        0.0861                        1  Secondary / secondary special              0.0045         Drivers                    0.026392                     2                       0          0.0967                        0.9861    30.920548            0.8171        2.043836                 0.010959       0"
      ]
     },
     "execution_count": 2,
     "metadata": {},
     "output_type": "execute_result"
    }
   ],
   "source": [
    "df = pd.read_csv('feature_selected_train.csv')\n",
    "df.head()"
   ]
  },
  {
   "cell_type": "code",
   "execution_count": 3,
   "metadata": {},
   "outputs": [
    {
     "data": {
      "text/plain": [
       "(80603, 23)"
      ]
     },
     "execution_count": 3,
     "metadata": {},
     "output_type": "execute_result"
    }
   ],
   "source": [
    "df.shape"
   ]
  },
  {
   "cell_type": "markdown",
   "metadata": {},
   "source": [
    "### Categorical Variable Encoding\n",
    "After examining the cleaned and reduced training set, there are still two categorical variables that will need to be encoded before applying any machine learning models. Let's examine those first."
   ]
  },
  {
   "cell_type": "code",
   "execution_count": 4,
   "metadata": {},
   "outputs": [
    {
     "data": {
      "text/plain": [
       "Secondary / secondary special    54306\n",
       "Higher education                 22086\n",
       "Incomplete higher                 3530\n",
       "Lower secondary                    633\n",
       "Academic degree                     48\n",
       "Name: NAME_EDUCATION_TYPE, dtype: int64"
      ]
     },
     "execution_count": 4,
     "metadata": {},
     "output_type": "execute_result"
    }
   ],
   "source": [
    "df['NAME_EDUCATION_TYPE'].value_counts()"
   ]
  },
  {
   "cell_type": "markdown",
   "metadata": {},
   "source": [
    "Since there are only 5 categories present for education type, we can use One Hot Encoding with k-1 dummies created out of k categories. Before we proceed, let's examine the other categorical variable."
   ]
  },
  {
   "cell_type": "code",
   "execution_count": 5,
   "metadata": {},
   "outputs": [
    {
     "data": {
      "text/plain": [
       "Laborers                 18363\n",
       "Others                   13289\n",
       "Sales staff              10219\n",
       "Core staff                8379\n",
       "Managers                  6415\n",
       "Drivers                   5964\n",
       "High skill tech staff     3966\n",
       "Accountants               3263\n",
       "Medicine staff            2463\n",
       "Security staff            1981\n",
       "Cooking staff             1718\n",
       "Cleaning staff            1456\n",
       "Private service staff      917\n",
       "Low-skill Laborers         644\n",
       "Secretaries                471\n",
       "Waiters/barmen staff       406\n",
       "Realty agents              280\n",
       "HR staff                   209\n",
       "IT staff                   200\n",
       "Name: OCCUPATION_TYPE, dtype: int64"
      ]
     },
     "execution_count": 5,
     "metadata": {},
     "output_type": "execute_result"
    }
   ],
   "source": [
    "df['OCCUPATION_TYPE'].value_counts()"
   ]
  },
  {
   "cell_type": "markdown",
   "metadata": {},
   "source": [
    "Since there is no clear ordinal positioning between different occupations, we can use One Hot Encoding for occupation type as well. We will use the pandas function get_dummies() to encode both categorical variables at the same time."
   ]
  },
  {
   "cell_type": "code",
   "execution_count": 6,
   "metadata": {},
   "outputs": [],
   "source": [
    "df = pd.get_dummies(df, columns = ['NAME_EDUCATION_TYPE', 'OCCUPATION_TYPE'], drop_first = True)"
   ]
  },
  {
   "cell_type": "code",
   "execution_count": 7,
   "metadata": {},
   "outputs": [
    {
     "data": {
      "text/html": [
       "<div>\n",
       "<style scoped>\n",
       "    .dataframe tbody tr th:only-of-type {\n",
       "        vertical-align: middle;\n",
       "    }\n",
       "\n",
       "    .dataframe tbody tr th {\n",
       "        vertical-align: top;\n",
       "    }\n",
       "\n",
       "    .dataframe thead th {\n",
       "        text-align: right;\n",
       "    }\n",
       "</style>\n",
       "<table border=\"1\" class=\"dataframe\">\n",
       "  <thead>\n",
       "    <tr style=\"text-align: right;\">\n",
       "      <th></th>\n",
       "      <th>AMT_INCOME_TOTAL</th>\n",
       "      <th>APARTMENTS_MODE</th>\n",
       "      <th>BASEMENTAREA_AVG</th>\n",
       "      <th>ENTRANCES_AVG</th>\n",
       "      <th>EXT_SOURCE_1</th>\n",
       "      <th>EXT_SOURCE_2</th>\n",
       "      <th>EXT_SOURCE_3</th>\n",
       "      <th>FLOORSMAX_MODE</th>\n",
       "      <th>LANDAREA_AVG</th>\n",
       "      <th>LIVE_CITY_NOT_WORK_CITY</th>\n",
       "      <th>NONLIVINGAREA_MODE</th>\n",
       "      <th>REGION_POPULATION_RELATIVE</th>\n",
       "      <th>REGION_RATING_CLIENT</th>\n",
       "      <th>REG_CITY_NOT_LIVE_CITY</th>\n",
       "      <th>TOTALAREA_MODE</th>\n",
       "      <th>YEARS_BEGINEXPLUATATION_MODE</th>\n",
       "      <th>YEARS_BIRTH</th>\n",
       "      <th>YEARS_BUILD_MODE</th>\n",
       "      <th>YEARS_EMPLOYED</th>\n",
       "      <th>YEARS_LAST_PHONE_CHANGE</th>\n",
       "      <th>TARGET</th>\n",
       "      <th>NAME_EDUCATION_TYPE_Higher education</th>\n",
       "      <th>NAME_EDUCATION_TYPE_Incomplete higher</th>\n",
       "      <th>NAME_EDUCATION_TYPE_Lower secondary</th>\n",
       "      <th>NAME_EDUCATION_TYPE_Secondary / secondary special</th>\n",
       "      <th>OCCUPATION_TYPE_Cleaning staff</th>\n",
       "      <th>OCCUPATION_TYPE_Cooking staff</th>\n",
       "      <th>OCCUPATION_TYPE_Core staff</th>\n",
       "      <th>OCCUPATION_TYPE_Drivers</th>\n",
       "      <th>OCCUPATION_TYPE_HR staff</th>\n",
       "      <th>OCCUPATION_TYPE_High skill tech staff</th>\n",
       "      <th>OCCUPATION_TYPE_IT staff</th>\n",
       "      <th>OCCUPATION_TYPE_Laborers</th>\n",
       "      <th>OCCUPATION_TYPE_Low-skill Laborers</th>\n",
       "      <th>OCCUPATION_TYPE_Managers</th>\n",
       "      <th>OCCUPATION_TYPE_Medicine staff</th>\n",
       "      <th>OCCUPATION_TYPE_Others</th>\n",
       "      <th>OCCUPATION_TYPE_Private service staff</th>\n",
       "      <th>OCCUPATION_TYPE_Realty agents</th>\n",
       "      <th>OCCUPATION_TYPE_Sales staff</th>\n",
       "      <th>OCCUPATION_TYPE_Secretaries</th>\n",
       "      <th>OCCUPATION_TYPE_Security staff</th>\n",
       "      <th>OCCUPATION_TYPE_Waiters/barmen staff</th>\n",
       "    </tr>\n",
       "  </thead>\n",
       "  <tbody>\n",
       "    <tr>\n",
       "      <th>0</th>\n",
       "      <td>270000.0</td>\n",
       "      <td>0.0924</td>\n",
       "      <td>0.0529</td>\n",
       "      <td>0.0345</td>\n",
       "      <td>0.311267</td>\n",
       "      <td>0.622246</td>\n",
       "      <td>0.481121</td>\n",
       "      <td>0.2917</td>\n",
       "      <td>0.0130</td>\n",
       "      <td>0</td>\n",
       "      <td>0.0000</td>\n",
       "      <td>0.003541</td>\n",
       "      <td>1</td>\n",
       "      <td>0</td>\n",
       "      <td>0.0714</td>\n",
       "      <td>0.9851</td>\n",
       "      <td>45.931507</td>\n",
       "      <td>0.8040</td>\n",
       "      <td>3.254795</td>\n",
       "      <td>2.268493</td>\n",
       "      <td>0</td>\n",
       "      <td>1</td>\n",
       "      <td>0</td>\n",
       "      <td>0</td>\n",
       "      <td>0</td>\n",
       "      <td>0</td>\n",
       "      <td>0</td>\n",
       "      <td>1</td>\n",
       "      <td>0</td>\n",
       "      <td>0</td>\n",
       "      <td>0</td>\n",
       "      <td>0</td>\n",
       "      <td>0</td>\n",
       "      <td>0</td>\n",
       "      <td>0</td>\n",
       "      <td>0</td>\n",
       "      <td>0</td>\n",
       "      <td>0</td>\n",
       "      <td>0</td>\n",
       "      <td>0</td>\n",
       "      <td>0</td>\n",
       "      <td>0</td>\n",
       "      <td>0</td>\n",
       "    </tr>\n",
       "    <tr>\n",
       "      <th>1</th>\n",
       "      <td>225000.0</td>\n",
       "      <td>0.1502</td>\n",
       "      <td>0.0973</td>\n",
       "      <td>0.1379</td>\n",
       "      <td>0.478860</td>\n",
       "      <td>0.566907</td>\n",
       "      <td>0.770087</td>\n",
       "      <td>0.3333</td>\n",
       "      <td>0.0931</td>\n",
       "      <td>0</td>\n",
       "      <td>0.0000</td>\n",
       "      <td>0.016612</td>\n",
       "      <td>2</td>\n",
       "      <td>0</td>\n",
       "      <td>0.1417</td>\n",
       "      <td>0.9806</td>\n",
       "      <td>38.591781</td>\n",
       "      <td>0.7452</td>\n",
       "      <td>8.295890</td>\n",
       "      <td>0.010959</td>\n",
       "      <td>0</td>\n",
       "      <td>0</td>\n",
       "      <td>0</td>\n",
       "      <td>0</td>\n",
       "      <td>1</td>\n",
       "      <td>0</td>\n",
       "      <td>0</td>\n",
       "      <td>0</td>\n",
       "      <td>1</td>\n",
       "      <td>0</td>\n",
       "      <td>0</td>\n",
       "      <td>0</td>\n",
       "      <td>0</td>\n",
       "      <td>0</td>\n",
       "      <td>0</td>\n",
       "      <td>0</td>\n",
       "      <td>0</td>\n",
       "      <td>0</td>\n",
       "      <td>0</td>\n",
       "      <td>0</td>\n",
       "      <td>0</td>\n",
       "      <td>0</td>\n",
       "      <td>0</td>\n",
       "    </tr>\n",
       "    <tr>\n",
       "      <th>2</th>\n",
       "      <td>189000.0</td>\n",
       "      <td>0.3561</td>\n",
       "      <td>0.1335</td>\n",
       "      <td>0.1724</td>\n",
       "      <td>0.721940</td>\n",
       "      <td>0.642656</td>\n",
       "      <td>0.481121</td>\n",
       "      <td>0.6667</td>\n",
       "      <td>0.1758</td>\n",
       "      <td>0</td>\n",
       "      <td>0.1060</td>\n",
       "      <td>0.010006</td>\n",
       "      <td>2</td>\n",
       "      <td>0</td>\n",
       "      <td>0.3811</td>\n",
       "      <td>0.9985</td>\n",
       "      <td>39.953425</td>\n",
       "      <td>0.9804</td>\n",
       "      <td>0.556164</td>\n",
       "      <td>0.515068</td>\n",
       "      <td>0</td>\n",
       "      <td>0</td>\n",
       "      <td>0</td>\n",
       "      <td>0</td>\n",
       "      <td>1</td>\n",
       "      <td>0</td>\n",
       "      <td>0</td>\n",
       "      <td>0</td>\n",
       "      <td>0</td>\n",
       "      <td>0</td>\n",
       "      <td>0</td>\n",
       "      <td>0</td>\n",
       "      <td>1</td>\n",
       "      <td>0</td>\n",
       "      <td>0</td>\n",
       "      <td>0</td>\n",
       "      <td>0</td>\n",
       "      <td>0</td>\n",
       "      <td>0</td>\n",
       "      <td>0</td>\n",
       "      <td>0</td>\n",
       "      <td>0</td>\n",
       "      <td>0</td>\n",
       "    </tr>\n",
       "    <tr>\n",
       "      <th>3</th>\n",
       "      <td>112500.0</td>\n",
       "      <td>0.0284</td>\n",
       "      <td>0.0617</td>\n",
       "      <td>0.1034</td>\n",
       "      <td>0.478860</td>\n",
       "      <td>0.706428</td>\n",
       "      <td>0.556727</td>\n",
       "      <td>0.0833</td>\n",
       "      <td>0.0279</td>\n",
       "      <td>0</td>\n",
       "      <td>0.0000</td>\n",
       "      <td>0.046220</td>\n",
       "      <td>1</td>\n",
       "      <td>0</td>\n",
       "      <td>0.0238</td>\n",
       "      <td>0.9881</td>\n",
       "      <td>48.542466</td>\n",
       "      <td>0.8432</td>\n",
       "      <td>21.380822</td>\n",
       "      <td>0.654795</td>\n",
       "      <td>0</td>\n",
       "      <td>0</td>\n",
       "      <td>0</td>\n",
       "      <td>0</td>\n",
       "      <td>1</td>\n",
       "      <td>0</td>\n",
       "      <td>0</td>\n",
       "      <td>0</td>\n",
       "      <td>0</td>\n",
       "      <td>0</td>\n",
       "      <td>0</td>\n",
       "      <td>0</td>\n",
       "      <td>1</td>\n",
       "      <td>0</td>\n",
       "      <td>0</td>\n",
       "      <td>0</td>\n",
       "      <td>0</td>\n",
       "      <td>0</td>\n",
       "      <td>0</td>\n",
       "      <td>0</td>\n",
       "      <td>0</td>\n",
       "      <td>0</td>\n",
       "      <td>0</td>\n",
       "    </tr>\n",
       "    <tr>\n",
       "      <th>4</th>\n",
       "      <td>135000.0</td>\n",
       "      <td>0.1460</td>\n",
       "      <td>0.1455</td>\n",
       "      <td>0.3103</td>\n",
       "      <td>0.478860</td>\n",
       "      <td>0.786179</td>\n",
       "      <td>0.565608</td>\n",
       "      <td>0.1667</td>\n",
       "      <td>0.0861</td>\n",
       "      <td>1</td>\n",
       "      <td>0.0045</td>\n",
       "      <td>0.026392</td>\n",
       "      <td>2</td>\n",
       "      <td>0</td>\n",
       "      <td>0.0967</td>\n",
       "      <td>0.9861</td>\n",
       "      <td>30.920548</td>\n",
       "      <td>0.8171</td>\n",
       "      <td>2.043836</td>\n",
       "      <td>0.010959</td>\n",
       "      <td>0</td>\n",
       "      <td>0</td>\n",
       "      <td>0</td>\n",
       "      <td>0</td>\n",
       "      <td>1</td>\n",
       "      <td>0</td>\n",
       "      <td>0</td>\n",
       "      <td>0</td>\n",
       "      <td>1</td>\n",
       "      <td>0</td>\n",
       "      <td>0</td>\n",
       "      <td>0</td>\n",
       "      <td>0</td>\n",
       "      <td>0</td>\n",
       "      <td>0</td>\n",
       "      <td>0</td>\n",
       "      <td>0</td>\n",
       "      <td>0</td>\n",
       "      <td>0</td>\n",
       "      <td>0</td>\n",
       "      <td>0</td>\n",
       "      <td>0</td>\n",
       "      <td>0</td>\n",
       "    </tr>\n",
       "  </tbody>\n",
       "</table>\n",
       "</div>"
      ],
      "text/plain": [
       "   AMT_INCOME_TOTAL  APARTMENTS_MODE  BASEMENTAREA_AVG  ENTRANCES_AVG  EXT_SOURCE_1  EXT_SOURCE_2  EXT_SOURCE_3  FLOORSMAX_MODE  LANDAREA_AVG  LIVE_CITY_NOT_WORK_CITY  NONLIVINGAREA_MODE  REGION_POPULATION_RELATIVE  REGION_RATING_CLIENT  REG_CITY_NOT_LIVE_CITY  TOTALAREA_MODE  YEARS_BEGINEXPLUATATION_MODE  YEARS_BIRTH  YEARS_BUILD_MODE  YEARS_EMPLOYED  YEARS_LAST_PHONE_CHANGE  TARGET  NAME_EDUCATION_TYPE_Higher education  NAME_EDUCATION_TYPE_Incomplete higher  NAME_EDUCATION_TYPE_Lower secondary  NAME_EDUCATION_TYPE_Secondary / secondary special  OCCUPATION_TYPE_Cleaning staff  OCCUPATION_TYPE_Cooking staff  OCCUPATION_TYPE_Core staff  OCCUPATION_TYPE_Drivers  OCCUPATION_TYPE_HR staff  OCCUPATION_TYPE_High skill tech staff  OCCUPATION_TYPE_IT staff  OCCUPATION_TYPE_Laborers  OCCUPATION_TYPE_Low-skill Laborers  OCCUPATION_TYPE_Managers  OCCUPATION_TYPE_Medicine staff  OCCUPATION_TYPE_Others  OCCUPATION_TYPE_Private service staff  OCCUPATION_TYPE_Realty agents  \\\n",
       "0          270000.0           0.0924            0.0529         0.0345      0.311267      0.622246      0.481121          0.2917        0.0130                        0              0.0000                    0.003541                     1                       0          0.0714                        0.9851    45.931507            0.8040        3.254795                 2.268493       0                                     1                                      0                                    0                                                  0                               0                              0                           1                        0                         0                                      0                         0                         0                                   0                         0                               0                       0                                      0                              0   \n",
       "1          225000.0           0.1502            0.0973         0.1379      0.478860      0.566907      0.770087          0.3333        0.0931                        0              0.0000                    0.016612                     2                       0          0.1417                        0.9806    38.591781            0.7452        8.295890                 0.010959       0                                     0                                      0                                    0                                                  1                               0                              0                           0                        1                         0                                      0                         0                         0                                   0                         0                               0                       0                                      0                              0   \n",
       "2          189000.0           0.3561            0.1335         0.1724      0.721940      0.642656      0.481121          0.6667        0.1758                        0              0.1060                    0.010006                     2                       0          0.3811                        0.9985    39.953425            0.9804        0.556164                 0.515068       0                                     0                                      0                                    0                                                  1                               0                              0                           0                        0                         0                                      0                         0                         1                                   0                         0                               0                       0                                      0                              0   \n",
       "3          112500.0           0.0284            0.0617         0.1034      0.478860      0.706428      0.556727          0.0833        0.0279                        0              0.0000                    0.046220                     1                       0          0.0238                        0.9881    48.542466            0.8432       21.380822                 0.654795       0                                     0                                      0                                    0                                                  1                               0                              0                           0                        0                         0                                      0                         0                         1                                   0                         0                               0                       0                                      0                              0   \n",
       "4          135000.0           0.1460            0.1455         0.3103      0.478860      0.786179      0.565608          0.1667        0.0861                        1              0.0045                    0.026392                     2                       0          0.0967                        0.9861    30.920548            0.8171        2.043836                 0.010959       0                                     0                                      0                                    0                                                  1                               0                              0                           0                        1                         0                                      0                         0                         0                                   0                         0                               0                       0                                      0                              0   \n",
       "\n",
       "   OCCUPATION_TYPE_Sales staff  OCCUPATION_TYPE_Secretaries  OCCUPATION_TYPE_Security staff  OCCUPATION_TYPE_Waiters/barmen staff  \n",
       "0                            0                            0                               0                                     0  \n",
       "1                            0                            0                               0                                     0  \n",
       "2                            0                            0                               0                                     0  \n",
       "3                            0                            0                               0                                     0  \n",
       "4                            0                            0                               0                                     0  "
      ]
     },
     "execution_count": 7,
     "metadata": {},
     "output_type": "execute_result"
    }
   ],
   "source": [
    "df.head()"
   ]
  },
  {
   "cell_type": "code",
   "execution_count": 8,
   "metadata": {},
   "outputs": [
    {
     "data": {
      "text/plain": [
       "(80603, 43)"
      ]
     },
     "execution_count": 8,
     "metadata": {},
     "output_type": "execute_result"
    }
   ],
   "source": [
    "df.shape"
   ]
  },
  {
   "cell_type": "markdown",
   "metadata": {},
   "source": [
    "Both features OCCUPATION_TYPE and NAME_EDUCATION_TYPE have been encoded. The dataset is ready for modeling. The dataset has "
   ]
  },
  {
   "cell_type": "markdown",
   "metadata": {},
   "source": [
    "## Applying Machine Learning Models"
   ]
  },
  {
   "cell_type": "markdown",
   "metadata": {},
   "source": [
    "Let's start with splitting the dataframe into independent and dependent variables. The independent variable (y) will be the target variable and the dependent variables (X) will consist of all the remaining predictor variables."
   ]
  },
  {
   "cell_type": "code",
   "execution_count": 10,
   "metadata": {},
   "outputs": [],
   "source": [
    "from sklearn.metrics import confusion_matrix, classification_report\n",
    "from sklearn.model_selection import train_test_split\n",
    "\n",
    "X = df[df.columns[~df.columns.isin(['TARGET'])]].copy()\n",
    "y = df['TARGET'].copy()"
   ]
  },
  {
   "cell_type": "markdown",
   "metadata": {},
   "source": [
    "Next, we will split the data into a training and testing set, using a 70/30 split."
   ]
  },
  {
   "cell_type": "code",
   "execution_count": 11,
   "metadata": {},
   "outputs": [],
   "source": [
    "#split data into training and testing set\n",
    "X_train, X_test, y_train, y_test = train_test_split(X, y, test_size = 0.3)"
   ]
  },
  {
   "cell_type": "markdown",
   "metadata": {},
   "source": [
    "### Logistic Regression"
   ]
  },
  {
   "cell_type": "code",
   "execution_count": 13,
   "metadata": {},
   "outputs": [
    {
     "data": {
      "text/plain": [
       "LogisticRegression(C=1.0, class_weight=None, dual=False, fit_intercept=True,\n",
       "          intercept_scaling=1, max_iter=100, multi_class='ovr', n_jobs=1,\n",
       "          penalty='l2', random_state=None, solver='liblinear', tol=0.0001,\n",
       "          verbose=0, warm_start=False)"
      ]
     },
     "execution_count": 13,
     "metadata": {},
     "output_type": "execute_result"
    }
   ],
   "source": [
    "#Baseline Logistic regression model\n",
    "\n",
    "from sklearn.linear_model import LogisticRegression\n",
    "logreg = LogisticRegression()\n",
    "logreg.fit(X_train, y_train)"
   ]
  },
  {
   "cell_type": "code",
   "execution_count": 15,
   "metadata": {},
   "outputs": [
    {
     "name": "stdout",
     "output_type": "stream",
     "text": [
      "\n",
      "Classification report: \n",
      "              precision    recall  f1-score   support\n",
      "\n",
      "          0       0.76      1.00      0.87     18459\n",
      "          1       0.00      0.00      0.00      5722\n",
      "\n",
      "avg / total       0.58      0.76      0.66     24181\n",
      "\n",
      "Accuracy score: 0.7633679335015094\n",
      "\n",
      "Confusion matrix: \n",
      " [[18459     0]\n",
      " [ 5722     0]]\n"
     ]
    },
    {
     "name": "stderr",
     "output_type": "stream",
     "text": [
      "C:\\Users\\Saumit\\Anaconda3\\lib\\site-packages\\sklearn\\metrics\\classification.py:1135: UndefinedMetricWarning: Precision and F-score are ill-defined and being set to 0.0 in labels with no predicted samples.\n",
      "  'precision', 'predicted', average, warn_for)\n"
     ]
    }
   ],
   "source": [
    "from sklearn.metrics import roc_auc_score, roc_curve, auc, accuracy_score\n",
    "\n",
    "y_pred = logreg.predict(X_test)\n",
    "print('\\nClassification report: \\n',classification_report(y_test, y_pred))\n",
    "print('Accuracy score:',accuracy_score(y_test, y_pred))\n",
    "print('\\nConfusion matrix: \\n',confusion_matrix(y_test, y_pred))"
   ]
  },
  {
   "cell_type": "markdown",
   "metadata": {},
   "source": [
    "The baseline logistic regression model was unsuccessful in predicting any defaulters in the test dataset. The accuracy score of 0.76 only reflects the values where Target = 0. Let's see if we can produce better results with parameter tuning."
   ]
  },
  {
   "cell_type": "code",
   "execution_count": 16,
   "metadata": {},
   "outputs": [
    {
     "data": {
      "text/plain": [
       "{0.001: 0.7614242587155204,\n",
       " 0.1: 0.7614242587155204,\n",
       " 1: 0.7614242587155204,\n",
       " 10: 0.7614242587155204,\n",
       " 100: 0.7614242587155204}"
      ]
     },
     "execution_count": 16,
     "metadata": {},
     "output_type": "execute_result"
    }
   ],
   "source": [
    "#Try log reg with different values for c\n",
    "\n",
    "def reg_param_c(X,y, c_values, test_size):\n",
    "    c_scores = {}\n",
    "    for i in c_values:\n",
    "        X_train, X_test, y_train, y_test = train_test_split(X, y, test_size = test_size, random_state = 42)\n",
    "        logreg = LogisticRegression(C = i)\n",
    "        logreg.fit(X_train, y_train)\n",
    "        c_scores[i] = accuracy_score(y_test, logreg.predict(X_test))\n",
    "    return c_scores\n",
    "\n",
    "reg_param_c(X,y, [0.001, 0.1, 1, 10, 100], 0.3)"
   ]
  },
  {
   "cell_type": "code",
   "execution_count": 20,
   "metadata": {},
   "outputs": [
    {
     "data": {
      "text/plain": [
       "array([[0.75829097, 0.24170903],\n",
       "       [0.88885379, 0.11114621],\n",
       "       [0.76052382, 0.23947618],\n",
       "       [0.77447801, 0.22552199],\n",
       "       [0.64698282, 0.35301718],\n",
       "       [0.66081333, 0.33918667],\n",
       "       [0.88404333, 0.11595667],\n",
       "       [0.78106972, 0.21893028],\n",
       "       [0.74111827, 0.25888173],\n",
       "       [0.78289787, 0.21710213],\n",
       "       [0.68956865, 0.31043135],\n",
       "       [0.78145327, 0.21854673],\n",
       "       [0.79095803, 0.20904197],\n",
       "       [0.80610219, 0.19389781],\n",
       "       [0.73928875, 0.26071125],\n",
       "       [0.6736156 , 0.3263844 ],\n",
       "       [0.72177991, 0.27822009],\n",
       "       [0.87226785, 0.12773215],\n",
       "       [0.67326536, 0.32673464],\n",
       "       [0.7468995 , 0.2531005 ]])"
      ]
     },
     "execution_count": 20,
     "metadata": {},
     "output_type": "execute_result"
    }
   ],
   "source": [
    "logreg.predict_proba(X_test)[:20]"
   ]
  },
  {
   "cell_type": "markdown",
   "metadata": {},
   "source": [
    "Despite tuning parameters, the probability of predicting a default (Target = 1) is relatively low and we would have to change our threshold significantly from the default of 0.5 to get any predictions for the majority class."
   ]
  },
  {
   "cell_type": "markdown",
   "metadata": {},
   "source": [
    "### Random Forest Classifier\n",
    "We will use random forest, which combines many decision trees to try to accomplish better overall model performance. Let's start with the default parameters."
   ]
  },
  {
   "cell_type": "code",
   "execution_count": 25,
   "metadata": {},
   "outputs": [],
   "source": [
    "#import RandomForestClassifier and set random_state for duplicating results\n",
    "\n",
    "from sklearn.ensemble import RandomForestClassifier\n",
    "classifier = RandomForestClassifier(random_state = 42)\n",
    "classifier.fit(X_train, y_train)\n",
    "y_pred = classifier.predict(X_test)"
   ]
  },
  {
   "cell_type": "markdown",
   "metadata": {},
   "source": [
    "Feature Importance for out of the box model."
   ]
  },
  {
   "cell_type": "code",
   "execution_count": 26,
   "metadata": {},
   "outputs": [
    {
     "name": "stdout",
     "output_type": "stream",
     "text": [
      "Feature AMT_INCOME_TOTAL Importance 0.15120192088977052\n",
      "Feature APARTMENTS_MODE Importance 0.12180508241693673\n",
      "Feature BASEMENTAREA_AVG Importance 0.10645504508112003\n",
      "Feature ENTRANCES_AVG Importance 0.09382327229936242\n",
      "Feature EXT_SOURCE_1 Importance 0.0828751650045905\n",
      "Feature EXT_SOURCE_2 Importance 0.06328979783547661\n",
      "Feature EXT_SOURCE_3 Importance 0.04544765949827793\n",
      "Feature FLOORSMAX_MODE Importance 0.04206080753518144\n",
      "Feature LANDAREA_AVG Importance 0.036736346091766355\n",
      "Feature LIVE_CITY_NOT_WORK_CITY Importance 0.03547126002978609\n",
      "Feature NONLIVINGAREA_MODE Importance 0.031779991385613174\n",
      "Feature REGION_POPULATION_RELATIVE Importance 0.027379857891961096\n",
      "Feature REGION_RATING_CLIENT Importance 0.026457962924412437\n",
      "Feature REG_CITY_NOT_LIVE_CITY Importance 0.024752886172016392\n",
      "Feature TOTALAREA_MODE Importance 0.024437177301917176\n",
      "Feature YEARS_BEGINEXPLUATATION_MODE Importance 0.020446017048314048\n",
      "Feature YEARS_BIRTH Importance 0.018849219796352838\n",
      "Feature YEARS_BUILD_MODE Importance 0.0058485199138721385\n",
      "Feature YEARS_EMPLOYED Importance 0.0038801866050391285\n",
      "Feature YEARS_LAST_PHONE_CHANGE Importance 0.0036600617045737483\n",
      "Feature NAME_EDUCATION_TYPE_Higher education Importance 0.003175112454019014\n",
      "Feature NAME_EDUCATION_TYPE_Incomplete higher Importance 0.003105017559065164\n",
      "Feature NAME_EDUCATION_TYPE_Lower secondary Importance 0.0030539151813119675\n",
      "Feature NAME_EDUCATION_TYPE_Secondary / secondary special Importance 0.0029016892646810434\n",
      "Feature OCCUPATION_TYPE_Cleaning staff Importance 0.0028203225995558803\n",
      "Feature OCCUPATION_TYPE_Cooking staff Importance 0.002452607467861504\n",
      "Feature OCCUPATION_TYPE_Core staff Importance 0.001967234890580938\n",
      "Feature OCCUPATION_TYPE_Drivers Importance 0.001729554094432055\n",
      "Feature OCCUPATION_TYPE_HR staff Importance 0.001644701934137761\n",
      "Feature OCCUPATION_TYPE_High skill tech staff Importance 0.0014767396550771222\n",
      "Feature OCCUPATION_TYPE_IT staff Importance 0.0013368095337984458\n",
      "Feature OCCUPATION_TYPE_Laborers Importance 0.0012397919323041636\n",
      "Feature OCCUPATION_TYPE_Low-skill Laborers Importance 0.0012279539017451854\n",
      "Feature OCCUPATION_TYPE_Managers Importance 0.0011162430445269403\n",
      "Feature OCCUPATION_TYPE_Medicine staff Importance 0.0009546010100813255\n",
      "Feature OCCUPATION_TYPE_Others Importance 0.0008296228544299981\n",
      "Feature OCCUPATION_TYPE_Private service staff Importance 0.0008239054468385237\n",
      "Feature OCCUPATION_TYPE_Realty agents Importance 0.0004948242748762158\n",
      "Feature OCCUPATION_TYPE_Sales staff Importance 0.0004787094566964721\n",
      "Feature OCCUPATION_TYPE_Secretaries Importance 0.00021538141892104646\n",
      "Feature OCCUPATION_TYPE_Security staff Importance 0.0002122004794274051\n",
      "Feature OCCUPATION_TYPE_Waiters/barmen staff Importance 8.482411929094125e-05\n"
     ]
    }
   ],
   "source": [
    "for feature, importance in zip(X_train.columns, pd.Series(classifier.feature_importances_).sort_values(ascending = False)):\n",
    "    print('Feature',feature, 'Importance', importance)"
   ]
  },
  {
   "cell_type": "code",
   "execution_count": 27,
   "metadata": {},
   "outputs": [
    {
     "name": "stdout",
     "output_type": "stream",
     "text": [
      "\n",
      "Classification report: \n",
      "              precision    recall  f1-score   support\n",
      "\n",
      "          0       0.91      0.99      0.95     18459\n",
      "          1       0.96      0.67      0.79      5722\n",
      "\n",
      "avg / total       0.92      0.92      0.91     24181\n",
      "\n",
      "Accuracy score: 0.9159670815929862\n",
      "\n",
      "Confusion matrix: \n",
      " [[18317   142]\n",
      " [ 1890  3832]]\n"
     ]
    }
   ],
   "source": [
    "print('\\nClassification report: \\n',classification_report(y_test, y_pred))\n",
    "print('Accuracy score:',accuracy_score(y_test, y_pred))\n",
    "print('\\nConfusion matrix: \\n',confusion_matrix(y_test, y_pred))"
   ]
  },
  {
   "cell_type": "markdown",
   "metadata": {},
   "source": [
    "The baseline random forest model performed much better than logistic regression, with an accuracy of over 91%. However, since this is a binary imbalanced class problem, accuracy is not the best measure for evaluating performance. We will also calculate the Area under the Curve (AUC) and plot the Receiving Operating Characteristic (ROC) curve."
   ]
  },
  {
   "cell_type": "code",
   "execution_count": 28,
   "metadata": {},
   "outputs": [
    {
     "data": {
      "text/plain": [
       "0.8310015930522615"
      ]
     },
     "execution_count": 28,
     "metadata": {},
     "output_type": "execute_result"
    }
   ],
   "source": [
    "roc_auc_score(y_test, y_pred)"
   ]
  },
  {
   "cell_type": "markdown",
   "metadata": {},
   "source": [
    "The baseline Random Forest Classifier model yielded an Area Under Curve of 0.831"
   ]
  },
  {
   "cell_type": "code",
   "execution_count": 29,
   "metadata": {},
   "outputs": [
    {
     "name": "stdout",
     "output_type": "stream",
     "text": [
      "0    20207\n",
      "1     3974\n",
      "dtype: int64\n",
      "0    18459\n",
      "1     5722\n",
      "Name: TARGET, dtype: int64\n"
     ]
    }
   ],
   "source": [
    "print(pd.Series(y_pred).value_counts())\n",
    "print(y_test.value_counts())"
   ]
  },
  {
   "cell_type": "code",
   "execution_count": 31,
   "metadata": {},
   "outputs": [
    {
     "data": {
      "image/png": "[encoded data removed]",
      "text/plain": [
       "<Figure size 432x288 with 1 Axes>"
      ]
     },
     "metadata": {},
     "output_type": "display_data"
    }
   ],
   "source": [
    "#Same as running roc_auc_score(y_test, y_pred) above\n",
    "\n",
    "prob_def = classifier.predict_proba(X_test)[:,1]\n",
    "fp_rate, tp_rate, thresholds = roc_curve(y_test, prob_def)\n",
    "roc_auc = auc(fp_rate, tp_rate)\n",
    "plt.plot(fp_rate, tp_rate)\n",
    "plt.plot([0, 1], [0, 1], linestyle='--')\n",
    "plt.xlim([0.0,1.0])\n",
    "plt.ylim([0.0, 1.0])\n",
    "plt.title('ROC Curve')\n",
    "plt.xlabel('False Positive Rate (1-Specificity)')\n",
    "plt.ylabel('True Positive Rate (Sensitivity)')\n",
    "plt.grid(True)"
   ]
  },
  {
   "cell_type": "markdown",
   "metadata": {},
   "source": [
    "### Hyperparameter Tuning\n",
    "Baseline predictive power is decent but let us see if we can do better with hyperparameter tuning. Let's start by finding the optimal number of estimators. We will try to compare performance tradeoff versus incremental improvements."
   ]
  },
  {
   "cell_type": "code",
   "execution_count": 32,
   "metadata": {},
   "outputs": [
    {
     "name": "stdout",
     "output_type": "stream",
     "text": [
      "AUC score for 10 estimators is: 0.8310015930522615\n",
      "AUC score for 20 estimators is: 0.8321270077583356\n",
      "AUC score for 30 estimators is: 0.8377316996722608\n",
      "AUC score for 40 estimators is: 0.8359805417407774\n",
      "AUC score for 50 estimators is: 0.8347301062034209\n",
      "AUC score for 60 estimators is: 0.8353295387215124\n",
      "AUC score for 70 estimators is: 0.8376346795307563\n",
      "AUC score for 80 estimators is: 0.8372912722545837\n",
      "AUC score for 90 estimators is: 0.8373934996249565\n",
      "AUC score for 100 estimators is: 0.8371523197191566\n",
      "AUC score for 110 estimators is: 0.8379116709696367\n",
      "AUC score for 120 estimators is: 0.8379571206099676\n",
      "AUC score for 130 estimators is: 0.837917791830479\n",
      "AUC score for 140 estimators is: 0.838131884678475\n",
      "AUC score for 150 estimators is: 0.8385626739889014\n"
     ]
    }
   ],
   "source": [
    "#Find optimal estimators n\n",
    "\n",
    "for i in range(10,160,10):\n",
    "    class2 = RandomForestClassifier(n_estimators = i, n_jobs = -1, random_state = 42)\n",
    "    class2.fit(X_train, y_train)\n",
    "    y_pred = class2.predict(X_test)\n",
    "    print('AUC score for', i, 'estimators is:', roc_auc_score(y_test, y_pred))"
   ]
  },
  {
   "cell_type": "markdown",
   "metadata": {},
   "source": [
    "Performance did not significantly improve as the number of estimators increased past a certain point. We will choose 70 estimators."
   ]
  },
  {
   "cell_type": "code",
   "execution_count": 33,
   "metadata": {},
   "outputs": [
    {
     "data": {
      "text/plain": [
       "{'bootstrap': True,\n",
       " 'class_weight': None,\n",
       " 'criterion': 'gini',\n",
       " 'max_depth': None,\n",
       " 'max_features': 'auto',\n",
       " 'max_leaf_nodes': None,\n",
       " 'min_impurity_decrease': 0.0,\n",
       " 'min_impurity_split': None,\n",
       " 'min_samples_leaf': 1,\n",
       " 'min_samples_split': 2,\n",
       " 'min_weight_fraction_leaf': 0.0,\n",
       " 'n_estimators': 10,\n",
       " 'n_jobs': 1,\n",
       " 'oob_score': False,\n",
       " 'random_state': 42,\n",
       " 'verbose': 0,\n",
       " 'warm_start': False}"
      ]
     },
     "execution_count": 33,
     "metadata": {},
     "output_type": "execute_result"
    }
   ],
   "source": [
    "classifier.get_params()"
   ]
  },
  {
   "cell_type": "markdown",
   "metadata": {},
   "source": [
    "We will adjust the following hyperparameters:\n",
    "- bootstrap: method for sampling data points (with or without replacement)\n",
    "- max_depth: max levels in each decision tree\n",
    "- max_features: max features considered for splitting a node\n",
    "- min_samples_leaf: min number of data points allowed in a leaf node\n",
    "- min_samples_split: min number of data points put in a node before node is split\n",
    "- n_estimators: number of trees in the forest\n",
    "\n",
    "Since it will be too computationally expensive to exhaustively try every single parameter combination, we will use RandomizedSearchCV to take a random subset of possible parameter combinations."
   ]
  },
  {
   "cell_type": "code",
   "execution_count": 34,
   "metadata": {},
   "outputs": [],
   "source": [
    "from sklearn.model_selection import RandomizedSearchCV\n",
    "\n",
    "bootstrap = [True, False]\n",
    "max_depth = [i for i in range(10,100,10)]\n",
    "max_depth.append(None)\n",
    "max_features = ['sqrt', 'log2']\n",
    "min_samples_leaf = [1, 2, 3, 4, 5]\n",
    "min_samples_split = [i for i in range(2,12,2)]\n",
    "n_estimators = [i for i in range(10,110,10)]"
   ]
  },
  {
   "cell_type": "code",
   "execution_count": 35,
   "metadata": {},
   "outputs": [
    {
     "data": {
      "text/plain": [
       "{'bootstrap': [True, False],\n",
       " 'max_depth': [10, 20, 30, 40, 50, 60, 70, 80, 90, None],\n",
       " 'max_features': ['sqrt', 'log2'],\n",
       " 'min_samples_leaf': [1, 2, 3, 4, 5],\n",
       " 'min_samples_split': [2, 4, 6, 8, 10],\n",
       " 'n_estimators': [10, 20, 30, 40, 50, 60, 70, 80, 90, 100]}"
      ]
     },
     "execution_count": 35,
     "metadata": {},
     "output_type": "execute_result"
    }
   ],
   "source": [
    "random_grid = {'bootstrap': bootstrap,\n",
    "                'max_depth': max_depth,\n",
    "                'max_features': max_features,\n",
    "                'min_samples_leaf': min_samples_leaf,\n",
    "                'min_samples_split': min_samples_split,\n",
    "                'n_estimators': n_estimators}\n",
    "random_grid"
   ]
  },
  {
   "cell_type": "code",
   "execution_count": 36,
   "metadata": {},
   "outputs": [
    {
     "name": "stdout",
     "output_type": "stream",
     "text": [
      "Fitting 5 folds for each of 10 candidates, totalling 50 fits\n"
     ]
    },
    {
     "name": "stderr",
     "output_type": "stream",
     "text": [
      "[Parallel(n_jobs=-1)]: Done  33 tasks      | elapsed:  5.4min\n",
      "[Parallel(n_jobs=-1)]: Done  50 out of  50 | elapsed:  9.9min finished\n"
     ]
    },
    {
     "data": {
      "text/plain": [
       "RandomizedSearchCV(cv=5, error_score='raise',\n",
       "          estimator=RandomForestClassifier(bootstrap=True, class_weight=None, criterion='gini',\n",
       "            max_depth=None, max_features='auto', max_leaf_nodes=None,\n",
       "            min_impurity_decrease=0.0, min_impurity_split=None,\n",
       "            min_samples_leaf=1, min_samples_split=2,\n",
       "            min_weight_fraction_leaf=0.0, n_estimators=10, n_jobs=1,\n",
       "            oob_score=False, random_state=None, verbose=0,\n",
       "            warm_start=False),\n",
       "          fit_params=None, iid=True, n_iter=10, n_jobs=-1,\n",
       "          param_distributions={'bootstrap': [True, False], 'max_depth': [10, 20, 30, 40, 50, 60, 70, 80, 90, None], 'max_features': ['sqrt', 'log2'], 'min_samples_leaf': [1, 2, 3, 4, 5], 'min_samples_split': [2, 4, 6, 8, 10], 'n_estimators': [10, 20, 30, 40, 50, 60, 70, 80, 90, 100]},\n",
       "          pre_dispatch='2*n_jobs', random_state=42, refit=True,\n",
       "          return_train_score='warn', scoring=None, verbose=2)"
      ]
     },
     "execution_count": 36,
     "metadata": {},
     "output_type": "execute_result"
    }
   ],
   "source": [
    "rf_cv = RandomizedSearchCV(estimator = RandomForestClassifier(), param_distributions = random_grid, n_iter = 10, cv = 5, verbose = 2, random_state = 42, n_jobs = -1)\n",
    "rf_cv.fit(X_train, y_train)"
   ]
  },
  {
   "cell_type": "code",
   "execution_count": 39,
   "metadata": {},
   "outputs": [
    {
     "name": "stdout",
     "output_type": "stream",
     "text": [
      "Best Parameters: {'n_estimators': 90, 'min_samples_split': 6, 'min_samples_leaf': 2, 'max_features': 'sqrt', 'max_depth': 20, 'bootstrap': False}\n",
      "Best Estimator: RandomForestClassifier(bootstrap=False, class_weight=None, criterion='gini',\n",
      "            max_depth=20, max_features='sqrt', max_leaf_nodes=None,\n",
      "            min_impurity_decrease=0.0, min_impurity_split=None,\n",
      "            min_samples_leaf=2, min_samples_split=6,\n",
      "            min_weight_fraction_leaf=0.0, n_estimators=90, n_jobs=1,\n",
      "            oob_score=False, random_state=None, verbose=0,\n",
      "            warm_start=False)\n",
      "Best Score: 0.9195349331820921\n"
     ]
    }
   ],
   "source": [
    "print('Best Parameters:', rf_cv.best_params_)\n",
    "print('Best Estimator:', rf_cv.best_estimator_)\n",
    "print('Best Score:', rf_cv.best_score_)"
   ]
  },
  {
   "cell_type": "code",
   "execution_count": 38,
   "metadata": {},
   "outputs": [
    {
     "name": "stderr",
     "output_type": "stream",
     "text": [
      "C:\\Users\\Saumit\\Anaconda3\\lib\\site-packages\\sklearn\\model_selection\\_search.py:761: DeprecationWarning: The grid_scores_ attribute was deprecated in version 0.18 in favor of the more elaborate cv_results_ attribute. The grid_scores_ attribute will not be available from 0.20\n",
      "  DeprecationWarning)\n"
     ]
    },
    {
     "data": {
      "text/plain": [
       "[mean: 0.91468, std: 0.00158, params: {'n_estimators': 10, 'min_samples_split': 6, 'min_samples_leaf': 1, 'max_features': 'log2', 'max_depth': 50, 'bootstrap': False},\n",
       " mean: 0.91454, std: 0.00251, params: {'n_estimators': 10, 'min_samples_split': 4, 'min_samples_leaf': 3, 'max_features': 'log2', 'max_depth': 20, 'bootstrap': True},\n",
       " mean: 0.90908, std: 0.00122, params: {'n_estimators': 10, 'min_samples_split': 10, 'min_samples_leaf': 3, 'max_features': 'log2', 'max_depth': 10, 'bootstrap': False},\n",
       " mean: 0.91310, std: 0.00265, params: {'n_estimators': 20, 'min_samples_split': 10, 'min_samples_leaf': 4, 'max_features': 'sqrt', 'max_depth': 10, 'bootstrap': False},\n",
       " mean: 0.91952, std: 0.00154, params: {'n_estimators': 50, 'min_samples_split': 8, 'min_samples_leaf': 5, 'max_features': 'sqrt', 'max_depth': 20, 'bootstrap': False},\n",
       " mean: 0.91879, std: 0.00216, params: {'n_estimators': 60, 'min_samples_split': 4, 'min_samples_leaf': 1, 'max_features': 'log2', 'max_depth': 30, 'bootstrap': False},\n",
       " mean: 0.91078, std: 0.00176, params: {'n_estimators': 70, 'min_samples_split': 4, 'min_samples_leaf': 5, 'max_features': 'log2', 'max_depth': 10, 'bootstrap': True},\n",
       " mean: 0.91562, std: 0.00236, params: {'n_estimators': 70, 'min_samples_split': 6, 'min_samples_leaf': 4, 'max_features': 'log2', 'max_depth': 90, 'bootstrap': True},\n",
       " mean: 0.91953, std: 0.00232, params: {'n_estimators': 90, 'min_samples_split': 6, 'min_samples_leaf': 2, 'max_features': 'sqrt', 'max_depth': 20, 'bootstrap': False},\n",
       " mean: 0.91821, std: 0.00183, params: {'n_estimators': 30, 'min_samples_split': 6, 'min_samples_leaf': 2, 'max_features': 'log2', 'max_depth': 70, 'bootstrap': False}]"
      ]
     },
     "execution_count": 38,
     "metadata": {},
     "output_type": "execute_result"
    }
   ],
   "source": [
    "rf_cv.grid_scores_"
   ]
  },
  {
   "cell_type": "code",
   "execution_count": 40,
   "metadata": {},
   "outputs": [],
   "source": [
    "best_pred = rf_cv.best_estimator_.predict(X_test)"
   ]
  },
  {
   "cell_type": "code",
   "execution_count": 41,
   "metadata": {},
   "outputs": [
    {
     "name": "stdout",
     "output_type": "stream",
     "text": [
      "AUC for best estimator: 0.8389034776506399\n"
     ]
    }
   ],
   "source": [
    "print('AUC for best estimator:',roc_auc_score(y_test, best_pred))"
   ]
  },
  {
   "cell_type": "markdown",
   "metadata": {},
   "source": [
    "After hyperparameter tuning, we have an AUC score of 0.8389, which is an improvement over the baseline score of 0.8310."
   ]
  },
  {
   "cell_type": "markdown",
   "metadata": {},
   "source": [
    "### XGBoost\n",
    "Extreme Gradient Boosting"
   ]
  },
  {
   "cell_type": "code",
   "execution_count": 43,
   "metadata": {},
   "outputs": [
    {
     "name": "stderr",
     "output_type": "stream",
     "text": [
      "C:\\Users\\Saumit\\Anaconda3\\lib\\site-packages\\sklearn\\preprocessing\\label.py:151: DeprecationWarning: The truth value of an empty array is ambiguous. Returning False, but in future this will result in an error. Use `array.size > 0` to check that an array is not empty.\n",
      "  if diff:\n"
     ]
    }
   ],
   "source": [
    "import xgboost as xgb\n",
    "#data_dm = xgb.DMatrix(data = X_train, label = y_train)\n",
    "\n",
    "xg_class = xgb.XGBClassifier(random_state = 42)\n",
    "xg_class.fit(X_train, y_train)\n",
    "y_pred = xg_class.predict(X_test)"
   ]
  },
  {
   "cell_type": "code",
   "execution_count": 44,
   "metadata": {},
   "outputs": [
    {
     "name": "stdout",
     "output_type": "stream",
     "text": [
      "\n",
      "Classification report: \n",
      "              precision    recall  f1-score   support\n",
      "\n",
      "          0       0.92      0.99      0.95     18459\n",
      "          1       0.95      0.71      0.81      5722\n",
      "\n",
      "avg / total       0.92      0.92      0.92     24181\n",
      "\n",
      "Accuracy score: 0.9220048798643563\n",
      "\n",
      "Confusion matrix: \n",
      " [[18249   210]\n",
      " [ 1676  4046]]\n"
     ]
    }
   ],
   "source": [
    "print('\\nClassification report: \\n',classification_report(y_test, y_pred))\n",
    "print('Accuracy score:',accuracy_score(y_test, y_pred))\n",
    "print('\\nConfusion matrix: \\n',confusion_matrix(y_test, y_pred))"
   ]
  },
  {
   "cell_type": "code",
   "execution_count": 45,
   "metadata": {},
   "outputs": [
    {
     "data": {
      "text/plain": [
       "0.8478594284519085"
      ]
     },
     "execution_count": 45,
     "metadata": {},
     "output_type": "execute_result"
    }
   ],
   "source": [
    "roc_auc_score(y_test, y_pred)"
   ]
  },
  {
   "cell_type": "markdown",
   "metadata": {},
   "source": [
    "Using this boosting technique out of the box yielded an AUC score of 0.8479."
   ]
  },
  {
   "cell_type": "code",
   "execution_count": 48,
   "metadata": {},
   "outputs": [
    {
     "name": "stdout",
     "output_type": "stream",
     "text": [
      "Fitting 3 folds for each of 18 candidates, totalling 54 fits\n"
     ]
    },
    {
     "name": "stderr",
     "output_type": "stream",
     "text": [
      "[Parallel(n_jobs=-1)]: Done   5 tasks      | elapsed:   37.4s\n",
      "[Parallel(n_jobs=-1)]: Done  10 tasks      | elapsed:   45.3s\n",
      "[Parallel(n_jobs=-1)]: Done  17 tasks      | elapsed:  1.1min\n",
      "[Parallel(n_jobs=-1)]: Done  24 tasks      | elapsed:  1.3min\n",
      "[Parallel(n_jobs=-1)]: Done  33 tasks      | elapsed:  1.7min\n",
      "[Parallel(n_jobs=-1)]: Done  42 tasks      | elapsed:  1.9min\n",
      "[Parallel(n_jobs=-1)]: Done  54 out of  54 | elapsed:  2.6min finished\n"
     ]
    },
    {
     "data": {
      "text/plain": [
       "GridSearchCV(cv=3, error_score='raise',\n",
       "       estimator=XGBClassifier(base_score=0.5, booster='gbtree', colsample_bylevel=1,\n",
       "       colsample_bytree=1, gamma=0, learning_rate=0.1, max_delta_step=0,\n",
       "       max_depth=3, min_child_weight=1, missing=None, n_estimators=100,\n",
       "       n_jobs=1, nthread=None, objective='binary:logistic', random_state=0,\n",
       "       reg_alpha=0, reg_lambda=1, scale_pos_weight=1, seed=None,\n",
       "       silent=True, subsample=1),\n",
       "       fit_params=None, iid=True, n_jobs=-1,\n",
       "       param_grid={'max_depth': [1, 3, 5], 'min_child_weight': [1, 3], 'n_estimators': [20], 'learning_rate': [0.05, 0.1, 0.16]},\n",
       "       pre_dispatch='2*n_jobs', refit=True, return_train_score='warn',\n",
       "       scoring=None, verbose=10)"
      ]
     },
     "execution_count": 48,
     "metadata": {},
     "output_type": "execute_result"
    }
   ],
   "source": [
    "from sklearn.model_selection import GridSearchCV\n",
    "\n",
    "param_grid = {\"max_depth\": [1, 3, 5],\n",
    "              \"min_child_weight\" : [1,3],\n",
    "              \"n_estimators\": [20],\n",
    "              \"learning_rate\": [0.05, 0.1,0.16]}\n",
    "grid_search = GridSearchCV(estimator = xgb.XGBClassifier(), param_grid = param_grid, cv = 3, verbose = 10, n_jobs = -1)\n",
    "\n",
    "grid_search.fit(X_train, y_train)"
   ]
  },
  {
   "cell_type": "code",
   "execution_count": 49,
   "metadata": {},
   "outputs": [
    {
     "name": "stdout",
     "output_type": "stream",
     "text": [
      "Best Parameters: {'learning_rate': 0.16, 'max_depth': 5, 'min_child_weight': 3, 'n_estimators': 20}\n",
      "Best Estimator: XGBClassifier(base_score=0.5, booster='gbtree', colsample_bylevel=1,\n",
      "       colsample_bytree=1, gamma=0, learning_rate=0.16, max_delta_step=0,\n",
      "       max_depth=5, min_child_weight=3, missing=None, n_estimators=20,\n",
      "       n_jobs=1, nthread=None, objective='binary:logistic', random_state=0,\n",
      "       reg_alpha=0, reg_lambda=1, scale_pos_weight=1, seed=None,\n",
      "       silent=True, subsample=1)\n",
      "Best Score: 0.9202084293360746\n"
     ]
    }
   ],
   "source": [
    "print('Best Parameters:', grid_search.best_params_)\n",
    "print('Best Estimator:', grid_search.best_estimator_)\n",
    "print('Best Score:', grid_search.best_score_)"
   ]
  },
  {
   "cell_type": "code",
   "execution_count": 50,
   "metadata": {},
   "outputs": [
    {
     "name": "stderr",
     "output_type": "stream",
     "text": [
      "C:\\Users\\Saumit\\Anaconda3\\lib\\site-packages\\sklearn\\model_selection\\_search.py:761: DeprecationWarning: The grid_scores_ attribute was deprecated in version 0.18 in favor of the more elaborate cv_results_ attribute. The grid_scores_ attribute will not be available from 0.20\n",
      "  DeprecationWarning)\n"
     ]
    },
    {
     "data": {
      "text/plain": [
       "[mean: 0.76057, std: 0.00001, params: {'learning_rate': 0.05, 'max_depth': 1, 'min_child_weight': 1, 'n_estimators': 20},\n",
       " mean: 0.76057, std: 0.00001, params: {'learning_rate': 0.05, 'max_depth': 1, 'min_child_weight': 3, 'n_estimators': 20},\n",
       " mean: 0.90117, std: 0.00258, params: {'learning_rate': 0.05, 'max_depth': 3, 'min_child_weight': 1, 'n_estimators': 20},\n",
       " mean: 0.90117, std: 0.00258, params: {'learning_rate': 0.05, 'max_depth': 3, 'min_child_weight': 3, 'n_estimators': 20},\n",
       " mean: 0.90757, std: 0.00217, params: {'learning_rate': 0.05, 'max_depth': 5, 'min_child_weight': 1, 'n_estimators': 20},\n",
       " mean: 0.90748, std: 0.00194, params: {'learning_rate': 0.05, 'max_depth': 5, 'min_child_weight': 3, 'n_estimators': 20},\n",
       " mean: 0.90840, std: 0.00124, params: {'learning_rate': 0.1, 'max_depth': 1, 'min_child_weight': 1, 'n_estimators': 20},\n",
       " mean: 0.90840, std: 0.00124, params: {'learning_rate': 0.1, 'max_depth': 1, 'min_child_weight': 3, 'n_estimators': 20},\n",
       " mean: 0.91656, std: 0.00184, params: {'learning_rate': 0.1, 'max_depth': 3, 'min_child_weight': 1, 'n_estimators': 20},\n",
       " mean: 0.91656, std: 0.00184, params: {'learning_rate': 0.1, 'max_depth': 3, 'min_child_weight': 3, 'n_estimators': 20},\n",
       " mean: 0.91634, std: 0.00096, params: {'learning_rate': 0.1, 'max_depth': 5, 'min_child_weight': 1, 'n_estimators': 20},\n",
       " mean: 0.91762, std: 0.00093, params: {'learning_rate': 0.1, 'max_depth': 5, 'min_child_weight': 3, 'n_estimators': 20},\n",
       " mean: 0.90840, std: 0.00124, params: {'learning_rate': 0.16, 'max_depth': 1, 'min_child_weight': 1, 'n_estimators': 20},\n",
       " mean: 0.90840, std: 0.00124, params: {'learning_rate': 0.16, 'max_depth': 1, 'min_child_weight': 3, 'n_estimators': 20},\n",
       " mean: 0.92016, std: 0.00124, params: {'learning_rate': 0.16, 'max_depth': 3, 'min_child_weight': 1, 'n_estimators': 20},\n",
       " mean: 0.92016, std: 0.00124, params: {'learning_rate': 0.16, 'max_depth': 3, 'min_child_weight': 3, 'n_estimators': 20},\n",
       " mean: 0.91994, std: 0.00111, params: {'learning_rate': 0.16, 'max_depth': 5, 'min_child_weight': 1, 'n_estimators': 20},\n",
       " mean: 0.92021, std: 0.00139, params: {'learning_rate': 0.16, 'max_depth': 5, 'min_child_weight': 3, 'n_estimators': 20}]"
      ]
     },
     "execution_count": 50,
     "metadata": {},
     "output_type": "execute_result"
    }
   ],
   "source": [
    "grid_search.grid_scores_"
   ]
  },
  {
   "cell_type": "code",
   "execution_count": 51,
   "metadata": {},
   "outputs": [
    {
     "name": "stderr",
     "output_type": "stream",
     "text": [
      "C:\\Users\\Saumit\\Anaconda3\\lib\\site-packages\\sklearn\\preprocessing\\label.py:151: DeprecationWarning: The truth value of an empty array is ambiguous. Returning False, but in future this will result in an error. Use `array.size > 0` to check that an array is not empty.\n",
      "  if diff:\n"
     ]
    }
   ],
   "source": [
    "best_pred_xgb = grid_search.best_estimator_.predict(X_test)"
   ]
  },
  {
   "cell_type": "code",
   "execution_count": 52,
   "metadata": {},
   "outputs": [
    {
     "name": "stdout",
     "output_type": "stream",
     "text": [
      "\n",
      "Classification report: \n",
      "              precision    recall  f1-score   support\n",
      "\n",
      "          0       0.91      0.99      0.95     18459\n",
      "          1       0.97      0.69      0.81      5722\n",
      "\n",
      "avg / total       0.93      0.92      0.92     24181\n",
      "\n",
      "Accuracy score: 0.9221702989950787\n",
      "\n",
      "Confusion matrix: \n",
      " [[18326   133]\n",
      " [ 1749  3973]]\n"
     ]
    }
   ],
   "source": [
    "print('\\nClassification report: \\n',classification_report(y_test, best_pred_xgb))\n",
    "print('Accuracy score:',accuracy_score(y_test, best_pred_xgb))\n",
    "print('\\nConfusion matrix: \\n',confusion_matrix(y_test, best_pred_xgb))"
   ]
  },
  {
   "cell_type": "code",
   "execution_count": 54,
   "metadata": {},
   "outputs": [
    {
     "name": "stdout",
     "output_type": "stream",
     "text": [
      "AUC for best estimator: 0.8435662434022754\n"
     ]
    }
   ],
   "source": [
    "print('AUC for best estimator:',roc_auc_score(y_test, best_pred_xgb))"
   ]
  },
  {
   "cell_type": "markdown",
   "metadata": {},
   "source": [
    "### AdaBoost"
   ]
  },
  {
   "cell_type": "code",
   "execution_count": 58,
   "metadata": {},
   "outputs": [
    {
     "data": {
      "text/plain": [
       "0.9193168189901162"
      ]
     },
     "execution_count": 58,
     "metadata": {},
     "output_type": "execute_result"
    }
   ],
   "source": [
    "from sklearn.ensemble import AdaBoostClassifier\n",
    "ada = AdaBoostClassifier(random_state = 42)\n",
    "ada.fit(X_train, y_train)\n",
    "ada.score(X_test,y_test)"
   ]
  },
  {
   "cell_type": "code",
   "execution_count": 59,
   "metadata": {},
   "outputs": [
    {
     "name": "stdout",
     "output_type": "stream",
     "text": [
      "AUC: 0.8483296838233118\n"
     ]
    }
   ],
   "source": [
    "print('AUC:',roc_auc_score(y_test, ada.predict(X_test)))"
   ]
  },
  {
   "cell_type": "markdown",
   "metadata": {},
   "source": [
    "### LightGBM"
   ]
  },
  {
   "cell_type": "code",
   "execution_count": 60,
   "metadata": {},
   "outputs": [],
   "source": [
    "import lightgbm as lgb"
   ]
  },
  {
   "cell_type": "code",
   "execution_count": 61,
   "metadata": {},
   "outputs": [
    {
     "name": "stderr",
     "output_type": "stream",
     "text": [
      "C:\\Users\\Saumit\\Anaconda3\\lib\\site-packages\\sklearn\\preprocessing\\label.py:151: DeprecationWarning: The truth value of an empty array is ambiguous. Returning False, but in future this will result in an error. Use `array.size > 0` to check that an array is not empty.\n",
      "  if diff:\n"
     ]
    },
    {
     "data": {
      "text/plain": [
       "0.9244448120425127"
      ]
     },
     "execution_count": 61,
     "metadata": {},
     "output_type": "execute_result"
    }
   ],
   "source": [
    "#use cross val score - might be able to change parameter to precision or recall\n",
    "\n",
    "lgb = lgb.LGBMClassifier(random_state = 42)\n",
    "lgb.fit(X_train, y_train)\n",
    "lgb.score(X_test, y_test)"
   ]
  },
  {
   "cell_type": "code",
   "execution_count": 62,
   "metadata": {},
   "outputs": [
    {
     "name": "stdout",
     "output_type": "stream",
     "text": [
      "AUC: 0.8491560899800816\n"
     ]
    },
    {
     "name": "stderr",
     "output_type": "stream",
     "text": [
      "C:\\Users\\Saumit\\Anaconda3\\lib\\site-packages\\sklearn\\preprocessing\\label.py:151: DeprecationWarning: The truth value of an empty array is ambiguous. Returning False, but in future this will result in an error. Use `array.size > 0` to check that an array is not empty.\n",
      "  if diff:\n"
     ]
    }
   ],
   "source": [
    "print('AUC:',roc_auc_score(y_test, lgb.predict(X_test)))"
   ]
  },
  {
   "cell_type": "code",
   "execution_count": 63,
   "metadata": {},
   "outputs": [],
   "source": [
    "def evaluate_threshold(threshold):\n",
    "    print('Sensitivity:', tpr[thresholds > threshold][-1])\n",
    "    print('Specificity:', 1- fpr[thresholds > threshold][-1])"
   ]
  },
  {
   "cell_type": "markdown",
   "metadata": {},
   "source": [
    "### Naive Bayes"
   ]
  },
  {
   "cell_type": "code",
   "execution_count": 64,
   "metadata": {},
   "outputs": [],
   "source": [
    "from sklearn.naive_bayes import BernoulliNB\n",
    "from sklearn.naive_bayes import GaussianNB\n",
    "from sklearn.naive_bayes import MultinomialNB"
   ]
  },
  {
   "cell_type": "code",
   "execution_count": 65,
   "metadata": {},
   "outputs": [
    {
     "data": {
      "text/plain": [
       "BernoulliNB(alpha=1.0, binarize=0.1, class_prior=None, fit_prior=True)"
      ]
     },
     "execution_count": 65,
     "metadata": {},
     "output_type": "execute_result"
    }
   ],
   "source": [
    "bern = BernoulliNB(binarize = 0.1)\n",
    "bern.fit(X_train, y_train)"
   ]
  },
  {
   "cell_type": "code",
   "execution_count": 66,
   "metadata": {},
   "outputs": [
    {
     "name": "stdout",
     "output_type": "stream",
     "text": [
      "Accuracy score: 0.8477730449526488\n",
      "AUC: 0.7420182270430936\n"
     ]
    }
   ],
   "source": [
    "y_pred = bern.predict(X_test)\n",
    "print('Accuracy score:',accuracy_score(y_test, y_pred))\n",
    "print('AUC:',roc_auc_score(y_test, y_pred))"
   ]
  },
  {
   "cell_type": "code",
   "execution_count": 67,
   "metadata": {},
   "outputs": [
    {
     "data": {
      "text/plain": [
       "MultinomialNB(alpha=1.0, class_prior=None, fit_prior=True)"
      ]
     },
     "execution_count": 67,
     "metadata": {},
     "output_type": "execute_result"
    }
   ],
   "source": [
    "multi = MultinomialNB()\n",
    "multi.fit(X_train, y_train)"
   ]
  },
  {
   "cell_type": "code",
   "execution_count": 68,
   "metadata": {},
   "outputs": [
    {
     "name": "stdout",
     "output_type": "stream",
     "text": [
      "Accuracy score: 0.7390926760679872\n",
      "AUC: 0.608247253579681\n"
     ]
    }
   ],
   "source": [
    "y_pred = multi.predict(X_test)\n",
    "print('Accuracy score:',accuracy_score(y_test, y_pred))\n",
    "print('AUC:',roc_auc_score(y_test, y_pred))"
   ]
  },
  {
   "cell_type": "code",
   "execution_count": 69,
   "metadata": {},
   "outputs": [
    {
     "data": {
      "text/plain": [
       "GaussianNB(priors=None)"
      ]
     },
     "execution_count": 69,
     "metadata": {},
     "output_type": "execute_result"
    }
   ],
   "source": [
    "gauss = GaussianNB()\n",
    "gauss.fit(X_train, y_train)"
   ]
  },
  {
   "cell_type": "code",
   "execution_count": 70,
   "metadata": {},
   "outputs": [
    {
     "name": "stdout",
     "output_type": "stream",
     "text": [
      "Accuracy score: 0.7634919978495514\n",
      "AUC: 0.5002621461027613\n"
     ]
    }
   ],
   "source": [
    "y_pred = gauss.predict(X_test)\n",
    "print('Accuracy score:',accuracy_score(y_test, y_pred))\n",
    "print('AUC:',roc_auc_score(y_test, y_pred))"
   ]
  },
  {
   "cell_type": "code",
   "execution_count": null,
   "metadata": {},
   "outputs": [],
   "source": []
  }
 ],
 "metadata": {
  "kernelspec": {
   "display_name": "Python 3",
   "language": "python",
   "name": "python3"
  },
  "language_info": {
   "codemirror_mode": {
    "name": "ipython",
    "version": 3
   },
   "file_extension": ".py",
   "mimetype": "text/x-python",
   "name": "python",
   "nbconvert_exporter": "python",
   "pygments_lexer": "ipython3",
   "version": "3.6.5"
  }
 },
 "nbformat": 4,
 "nbformat_minor": 2
}
